{
 "cells": [
  {
   "cell_type": "code",
   "execution_count": 1,
   "metadata": {},
   "outputs": [],
   "source": [
    "import pandas as pd,os,numpy as np,matplotlib,xlrd"
   ]
  },
  {
   "cell_type": "code",
   "execution_count": 2,
   "metadata": {},
   "outputs": [],
   "source": [
    "df=pd.read_excel(\"C:\\\\Users\\\\NDH70116\\\\Desktop\\\\Qvoice\\\\Qvoice.xlsx\")"
   ]
  },
  {
   "cell_type": "code",
   "execution_count": 4,
   "metadata": {},
   "outputs": [
    {
     "data": {
      "text/plain": [
       "Index(['REGION', 'QLTY_SRVY_TYP_CD', 'QLTY_SRVY_TYP_NM', 'NML_PRDCTN_MDL_CD',\n",
       "       'VHCL_DTY_TYP_CD', 'RSPNDT_ID', 'CK_BX_CD', 'CK_BX_TX', 'VIN_ID',\n",
       "       'SRVY_DT', 'SRVY_LOAD_DT', 'MNFCTG_DT', 'VHCL_YR_NB', 'NSN_TRBL_CD',\n",
       "       'NSN_TRBL_DS', 'IQS_TRBL_TYP_CD', 'CSTMR_ISU_DS', 'ASGND_TRBL_CTGRY_CD',\n",
       "       'RTL_CNTRY_NM', 'CNCRN_DTL_TX', 'SRVY_DTL_RSPNS_TX',\n",
       "       'SRVY_DTL_RSPNS_NT_TX'],\n",
       "      dtype='object')"
      ]
     },
     "execution_count": 4,
     "metadata": {},
     "output_type": "execute_result"
    }
   ],
   "source": [
    "df.columns"
   ]
  },
  {
   "cell_type": "code",
   "execution_count": 3,
   "metadata": {},
   "outputs": [],
   "source": [
    "#Removing unwanted columns from the dataframe\n",
    "df.drop(['RTL_CNTRY_NM','QLTY_SRVY_TYP_NM','VHCL_YR_NB'],axis=1,inplace=True)\n",
    "df.rename(columns={\"CSTMR_ISU_DS\":\"Issues\",\"ASGND_TRBL_CTGRY_CD\":\"Assigned\"},inplace=True)"
   ]
  },
  {
   "cell_type": "code",
   "execution_count": 4,
   "metadata": {},
   "outputs": [],
   "source": [
    "df['CK_BX_TX_new']=df['CK_BX_TX'].apply(lambda x: x.split('-', maxsplit=1)[1])"
   ]
  },
  {
   "cell_type": "code",
   "execution_count": 10,
   "metadata": {
    "scrolled": true
   },
   "outputs": [],
   "source": [
    "#pandas_profiling.ProfileReport(df)"
   ]
  },
  {
   "cell_type": "code",
   "execution_count": 11,
   "metadata": {},
   "outputs": [],
   "source": [
    "# df.dtypes"
   ]
  },
  {
   "cell_type": "markdown",
   "metadata": {},
   "source": [
    "# Finding Co-Relation b/w the virables"
   ]
  },
  {
   "cell_type": "markdown",
   "metadata": {},
   "source": [
    "# Chi-Square Test"
   ]
  },
  {
   "cell_type": "code",
   "execution_count": 268,
   "metadata": {},
   "outputs": [],
   "source": [
    "col=list(df.columns)"
   ]
  },
  {
   "cell_type": "code",
   "execution_count": 269,
   "metadata": {},
   "outputs": [],
   "source": [
    "col.remove('Issues')"
   ]
  },
  {
   "cell_type": "code",
   "execution_count": 270,
   "metadata": {},
   "outputs": [],
   "source": [
    "col.remove('Assigned')"
   ]
  },
  {
   "cell_type": "code",
   "execution_count": 271,
   "metadata": {},
   "outputs": [],
   "source": [
    "chisqu = pd.DataFrame(index=['Assigned'], columns=col)"
   ]
  },
  {
   "cell_type": "code",
   "execution_count": 272,
   "metadata": {},
   "outputs": [],
   "source": [
    "tar=df['Assigned']"
   ]
  },
  {
   "cell_type": "code",
   "execution_count": 273,
   "metadata": {},
   "outputs": [],
   "source": [
    "from scipy.stats import chi2_contingency\n",
    "import seaborn as sns\n",
    "import matplotlib.pyplot as plt"
   ]
  },
  {
   "cell_type": "code",
   "execution_count": 274,
   "metadata": {},
   "outputs": [],
   "source": [
    "for i in col:\n",
    "    col1=df[i]\n",
    "    table=pd.crosstab(tar,col1)\n",
    "    chi2,p,dof,expected=chi2_contingency(table.values) \n",
    "    chisqu[i] = p"
   ]
  },
  {
   "cell_type": "code",
   "execution_count": 275,
   "metadata": {},
   "outputs": [
    {
     "data": {
      "image/png": "[encoded data removed]",
      "text/plain": [
       "<Figure size 1440x72 with 2 Axes>"
      ]
     },
     "metadata": {
      "needs_background": "light"
     },
     "output_type": "display_data"
    }
   ],
   "source": [
    "#Here Null Hypothesis is Dependent and independent variables are not correlated\n",
    "#Null Hypothesis - Dependet and indepenet variable are not corelated\n",
    "#If p<0.05, will reject the null hypothesis. if p>0.05, will accept the null hypothesis\n",
    "plt.figure(figsize=(20,1)) \n",
    "sns.heatmap(chisqu,annot=True,fmt='.2f')\n",
    "plt.show()"
   ]
  },
  {
   "cell_type": "markdown",
   "metadata": {},
   "source": [
    "# CRAMERS V"
   ]
  },
  {
   "cell_type": "code",
   "execution_count": 4,
   "metadata": {},
   "outputs": [
    {
     "ename": "NameError",
     "evalue": "name 'col' is not defined",
     "output_type": "error",
     "traceback": [
      "\u001b[1;31m---------------------------------------------------------------------------\u001b[0m",
      "\u001b[1;31mNameError\u001b[0m                                 Traceback (most recent call last)",
      "\u001b[1;32m<ipython-input-4-c62ba15a0f32>\u001b[0m in \u001b[0;36m<module>\u001b[1;34m\u001b[0m\n\u001b[1;32m----> 1\u001b[1;33m \u001b[0mconfusion\u001b[0m \u001b[1;33m=\u001b[0m \u001b[0mpd\u001b[0m\u001b[1;33m.\u001b[0m\u001b[0mDataFrame\u001b[0m\u001b[1;33m(\u001b[0m\u001b[0mindex\u001b[0m\u001b[1;33m=\u001b[0m\u001b[1;33m[\u001b[0m\u001b[1;34m'Assigned'\u001b[0m\u001b[1;33m]\u001b[0m\u001b[1;33m,\u001b[0m \u001b[0mcolumns\u001b[0m\u001b[1;33m=\u001b[0m\u001b[0mcol\u001b[0m\u001b[1;33m)\u001b[0m\u001b[1;33m\u001b[0m\u001b[1;33m\u001b[0m\u001b[0m\n\u001b[0m",
      "\u001b[1;31mNameError\u001b[0m: name 'col' is not defined"
     ]
    }
   ],
   "source": [
    "confusion = pd.DataFrame(index=['Assigned'], columns=col)"
   ]
  },
  {
   "cell_type": "code",
   "execution_count": 277,
   "metadata": {},
   "outputs": [],
   "source": [
    "#2nd Method\n",
    "def cramers_v1(x,y):\n",
    "    confusion_matrix = pd.crosstab(x,y)\n",
    "    chi2,p,dof,expected = chi2_contingency(confusion_matrix.values)\n",
    "    n = confusion_matrix.sum().sum()\n",
    "    phi2 = chi2/n\n",
    "    r,k = confusion_matrix.shape\n",
    "    phi2corr = max(0, phi2-((k-1)*(r-1))/(n-1))\n",
    "    rcorr = r-((r-1)**2)/(n-1)\n",
    "    kcorr = k-((k-1)**2)/(n-1)\n",
    "    return np.sqrt(phi2corr/min((kcorr-1),(rcorr-1)))"
   ]
  },
  {
   "cell_type": "code",
   "execution_count": 278,
   "metadata": {},
   "outputs": [
    {
     "data": {
      "image/png": "[encoded data removed]",
      "text/plain": [
       "<Figure size 1440x72 with 2 Axes>"
      ]
     },
     "metadata": {
      "needs_background": "light"
     },
     "output_type": "display_data"
    }
   ],
   "source": [
    " for i in range(0,len(col)):\n",
    "        c = cramers_v1(tar,df[col[i]])\n",
    "        confusion.loc[:,col[i]] = c\n",
    "confusion.fillna(value=np.nan,inplace=True)\n",
    "plt.figure(figsize=(20,1)) \n",
    "sns.heatmap(confusion,annot=True,fmt='.2f')\n",
    "plt.show()"
   ]
  },
  {
   "cell_type": "markdown",
   "metadata": {},
   "source": [
    "# Thelis U Co-relation"
   ]
  },
  {
   "cell_type": "code",
   "execution_count": 279,
   "metadata": {},
   "outputs": [],
   "source": [
    "from collections import Counter\n",
    "import math\n",
    "import scipy.stats as ss"
   ]
  },
  {
   "cell_type": "code",
   "execution_count": 280,
   "metadata": {},
   "outputs": [],
   "source": [
    "def conditional_entropy(x,y):\n",
    "    # entropy of x given y\n",
    "    y_counter = Counter(y)\n",
    "    xy_counter = Counter(list(zip(x,y)))\n",
    "    total_occurrences = sum(y_counter.values())\n",
    "    entropy = 0\n",
    "    for xy in xy_counter.keys():\n",
    "        p_xy = xy_counter[xy] / total_occurrences\n",
    "        p_y = y_counter[xy[1]] / total_occurrences\n",
    "        entropy += p_xy * math.log(p_y/p_xy)\n",
    "    return entropy"
   ]
  },
  {
   "cell_type": "code",
   "execution_count": 281,
   "metadata": {},
   "outputs": [],
   "source": [
    "def theil_u(x, y):\n",
    "    s_xy = conditional_entropy(x,y)\n",
    "    x_counter = Counter(x)\n",
    "    total_occurrences = sum(x_counter.values())\n",
    "    p_x = list(map(lambda n: n/total_occurrences, x_counter.values()))\n",
    "    s_x = ss.entropy(p_x)\n",
    "    if s_x == 0:\n",
    "        return 1\n",
    "    else:\n",
    "        return (s_x - s_xy) / s_x"
   ]
  },
  {
   "cell_type": "code",
   "execution_count": 282,
   "metadata": {},
   "outputs": [],
   "source": [
    "theilu = pd.DataFrame(index=['Assigned'],columns=col)"
   ]
  },
  {
   "cell_type": "code",
   "execution_count": 283,
   "metadata": {},
   "outputs": [
    {
     "data": {
      "image/png": "[encoded data removed]",
      "text/plain": [
       "<Figure size 1440x72 with 2 Axes>"
      ]
     },
     "metadata": {
      "needs_background": "light"
     },
     "output_type": "display_data"
    }
   ],
   "source": [
    "for j in range(0,len(col)):\n",
    "    u = theil_u(df['Assigned'].tolist(),df[col[j]].tolist())\n",
    "    theilu.loc[:,col[j]] = u\n",
    "theilu.fillna(value=np.nan,inplace=True)\n",
    "plt.figure(figsize=(20,1))\n",
    "sns.heatmap(theilu,annot=True,fmt='.2f')\n",
    "plt.show()"
   ]
  },
  {
   "cell_type": "code",
   "execution_count": 284,
   "metadata": {},
   "outputs": [],
   "source": [
    "# # To stop scientific notation \n",
    "pd.options.display.float_format = '{:.2f}'.format"
   ]
  },
  {
   "cell_type": "code",
   "execution_count": 32,
   "metadata": {},
   "outputs": [],
   "source": [
    "#round(chisqu,2).transpose().to_csv(\"C:\\\\Users\\\\NDH70116\\\\Desktop\\\\QVoice\\\\chi.csv\")"
   ]
  },
  {
   "cell_type": "code",
   "execution_count": null,
   "metadata": {},
   "outputs": [],
   "source": [
    "#round(theilu,2).transpose().to_csv(\"C:\\\\Users\\\\NDH70116\\\\Desktop\\\\QVoice\\\\theilu.csv\")"
   ]
  },
  {
   "cell_type": "code",
   "execution_count": 33,
   "metadata": {},
   "outputs": [],
   "source": [
    "#round(confusion,2).transpose().to_csv(\"C:\\\\Users\\\\NDH70116\\\\Desktop\\\\QVoice\\\\cramers.csv\")"
   ]
  },
  {
   "cell_type": "markdown",
   "metadata": {},
   "source": [
    "#Finalising the Varibles based on the above test for the Issues and Assigned Dependent Varaiables"
   ]
  },
  {
   "cell_type": "code",
   "execution_count": 5,
   "metadata": {},
   "outputs": [],
   "source": [
    "df_issue=df[['CK_BX_TX_new','NSN_TRBL_DS','SRVY_DTL_RSPNS_TX','Issues']]"
   ]
  },
  {
   "cell_type": "code",
   "execution_count": 6,
   "metadata": {},
   "outputs": [
    {
     "data": {
      "text/plain": [
       "[\" Front Seat Adjustment - Can't adjust to desired comfort/not enough seat cntrls\",\n",
       " 'Front Seat: Comfort',\n",
       " '?',\n",
       " 'SEAT (PASSENGER) - OTHER']"
      ]
     },
     "execution_count": 6,
     "metadata": {},
     "output_type": "execute_result"
    }
   ],
   "source": [
    "list(df_issue.iloc[1])"
   ]
  },
  {
   "cell_type": "code",
   "execution_count": 7,
   "metadata": {},
   "outputs": [
    {
     "name": "stderr",
     "output_type": "stream",
     "text": [
      "<ipython-input-7-797151296dd7>:1: SettingWithCopyWarning: \n",
      "A value is trying to be set on a copy of a slice from a DataFrame.\n",
      "Try using .loc[row_indexer,col_indexer] = value instead\n",
      "\n",
      "See the caveats in the documentation: http://pandas.pydata.org/pandas-docs/stable/user_guide/indexing.html#returning-a-view-versus-a-copy\n",
      "  df_issue['Subject']=df['CK_BX_TX_new']+\" \"+df['NSN_TRBL_DS']+\" \"+df['SRVY_DTL_RSPNS_TX'].astype(str)\n"
     ]
    }
   ],
   "source": [
    "df_issue['Subject']=df['CK_BX_TX_new']+\" \"+df['NSN_TRBL_DS']+\" \"+df['SRVY_DTL_RSPNS_TX'].astype(str)"
   ]
  },
  {
   "cell_type": "code",
   "execution_count": 8,
   "metadata": {},
   "outputs": [],
   "source": [
    "contraction_mapping = {\"Combi Meter\":\"combination Meter\",\"ain't\": \"is not\", \"a/c\": \"account\", \"aren't\": \"are not\",\"can't\": \"cannot\", \"'cause\": \"because\", \"could've\": \"could have\", \"couldn't\": \"could not\", \"didn't\": \"did not\",  \"doesn't\": \"does not\", \"don't\": \"do not\", \"hadn't\": \"had not\", \"hasn't\": \"has not\", \"haven't\": \"have not\", \"he'd\": \"he would\",\"he'll\": \"he will\", \"he's\": \"he is\", \"how'd\": \"how did\", \"how'd'y\": \"how do you\", \"how'll\": \"how will\", \"how's\": \"how is\",  \"I'd\": \"I would\", \"I'd've\": \"I would have\", \"I'll\": \"I will\", \"I'll've\": \"I will have\",\"I'm\": \"I am\", \"I've\": \"I have\", \"i'd\": \"i would\", \"i'd've\": \"i would have\", \"i'll\": \"i will\",  \"i'll've\": \"i will have\",\"i'm\": \"i am\", \"i've\": \"i have\", \"isn't\": \"is not\", \"it'd\": \"it would\", \"it'd've\": \"it would have\", \"it'll\": \"it will\", \"it'll've\": \"it will have\",\"it's\": \"it is\", \"let's\": \"let us\", \"ma'am\": \"madam\", \"mayn't\": \"may not\", \"might've\": \"might have\",\"mightn't\": \"might not\",\"mightn't've\": \"might not have\", \"must've\": \"must have\", \"mustn't\": \"must not\", \"mustn't've\": \"must not have\", \"needn't\": \"need not\", \"needn't've\": \"need not have\",\"o'clock\": \"of the clock\", \"oughtn't\": \"ought not\", \"oughtn't've\": \"ought not have\", \"shan't\": \"shall not\", \"sha'n't\": \"shall not\", \"shan't've\": \"shall not have\", \"she'd\": \"she would\", \"she'd've\": \"she would have\", \"she'll\": \"she will\", \"she'll've\": \"she will have\", \"she's\": \"she is\", \"should've\": \"should have\", \"shouldn't\": \"should not\", \"shouldn't've\": \"should not have\", \"so've\": \"so have\",\"so's\": \"so as\", \"this's\": \"this is\",\"that'd\": \"that would\", \"that'd've\": \"that would have\", \"that's\": \"that is\", \"there'd\": \"there would\", \"there'd've\": \"there would have\", \"there's\": \"there is\", \"here's\": \"here is\",\"they'd\": \"they would\", \"they'd've\": \"they would have\", \"they'll\": \"they will\", \"they'll've\": \"they will have\", \"they're\": \"they are\", \"they've\": \"they have\", \"to've\": \"to have\", \"wasn't\": \"was not\", \"we'd\": \"we would\", \"we'd've\": \"we would have\", \"we'll\": \"we will\", \"we'll've\": \"we will have\", \"we're\": \"we are\", \"we've\": \"we have\", \"weren't\": \"were not\", \"what'll\": \"what will\", \"what'll've\": \"what will have\", \"what're\": \"what are\",  \"what's\": \"what is\", \"what've\": \"what have\", \"when's\": \"when is\", \"when've\": \"when have\", \"where'd\": \"where did\", \"where's\": \"where is\", \"where've\": \"where have\", \"who'll\": \"who will\", \"who'll've\": \"who will have\", \"who's\": \"who is\", \"who've\": \"who have\", \"why's\": \"why is\", \"why've\": \"why have\", \"will've\": \"will have\", \"won't\": \"will not\", \"won't've\": \"will not have\", \"would've\": \"would have\", \"wouldn't\": \"would not\", \"wouldn't've\": \"would not have\", \"y'all\": \"you all\", \"y'all'd\": \"you all would\",\"y'all'd've\": \"you all would have\",\"y'all're\": \"you all are\",\"y'all've\": \"you all have\",\"you'd\": \"you would\", \"you'd've\": \"you would have\", \"you'll\": \"you will\", \"you'll've\": \"you will have\", \"you're\": \"you are\", \"you've\": \"you have\" ,\n",
    "                      'colour': 'color', 'centre': 'center', 'favourite': 'favorite', 'travelling': 'traveling', 'counselling': 'counseling', 'theatre': 'theater', 'cancelled': 'canceled', 'labour': 'labor', 'organisation': 'organization', 'citicise': 'criticize', 'youtu ': 'youtube ', 'Qoura': 'Quora', 'sallary': 'salary', 'Whta': 'What', 'narcisist': 'narcissist', 'howdo': 'how do', 'whatare': 'what are', 'howcan': 'how can', 'howmuch': 'how much', 'howmany': 'how many', 'whydo': 'why do', 'doI': 'do I', 'theBest': 'the best', 'howdoes': 'how does', 'Etherium': 'Ethereum', 'narcissit': 'narcissist', 'bigdata': 'big data', '2k17': '2017', '2k18': '2018', 'qouta': 'quota', 'airhostess': 'air hostess', \"whst\": 'what', 'watsapp': 'whatsapp', 'demonitisation': 'demonetization', 'demonitization': 'demonetization', 'demonetisation': 'demonetization','/':' or ','&':' and ','Diff':'difficult ','Abn ':'Abnormal ','Veh ':'Vechile ','App':'Application','Ext':'Exterior','F Wiper':'Front Wiper','Int Compartment':'Interior Compartment','Eng':'Engine','Navi':'Naviagtion','Hwy':'Highway','Thru':'Through','2nd':'Second','Eng':'Engine','?':\" \",'AC':'air cooler','F Washer':'Front Windshield Washer','Veh:':'Vechicle :','cntrls':'controls','Accel:':'accelaration ','Per/' :'performance ','Per:':'performance : ','Int ':'Interiror ','R Wiper':'rear wiper:'\n",
    "                      }\n",
    "def correct_spelling(x, dic):\n",
    "    for word in dic.keys():\n",
    "        x = x.replace(word, dic[word])\n",
    "    return x"
   ]
  },
  {
   "cell_type": "code",
   "execution_count": 155,
   "metadata": {},
   "outputs": [
    {
     "name": "stderr",
     "output_type": "stream",
     "text": [
      "<ipython-input-155-8c00f0d8813d>:1: SettingWithCopyWarning: \n",
      "A value is trying to be set on a copy of a slice from a DataFrame.\n",
      "Try using .loc[row_indexer,col_indexer] = value instead\n",
      "\n",
      "See the caveats in the documentation: http://pandas.pydata.org/pandas-docs/stable/user_guide/indexing.html#returning-a-view-versus-a-copy\n",
      "  df_issue['Subject'] = df_issue['Subject'].astype(str)\n",
      "<ipython-input-155-8c00f0d8813d>:2: SettingWithCopyWarning: \n",
      "A value is trying to be set on a copy of a slice from a DataFrame.\n",
      "Try using .loc[row_indexer,col_indexer] = value instead\n",
      "\n",
      "See the caveats in the documentation: http://pandas.pydata.org/pandas-docs/stable/user_guide/indexing.html#returning-a-view-versus-a-copy\n",
      "  df_issue['Subject'] = df_issue.apply(lambda x: correct_spelling(x['Subject'], contraction_mapping),axis=1)\n"
     ]
    }
   ],
   "source": [
    "df_issue['Subject'] = df_issue['Subject'].astype(str)\n",
    "df_issue['Subject'] = df_issue.apply(lambda x: correct_spelling(x['Subject'], contraction_mapping),axis=1)"
   ]
  },
  {
   "cell_type": "code",
   "execution_count": 156,
   "metadata": {},
   "outputs": [
    {
     "data": {
      "text/plain": [
       "' Performance or Engineine Power and Acceleration - While passing Perf or Engine Power And accelaration  While Passing  '"
      ]
     },
     "execution_count": 156,
     "metadata": {},
     "output_type": "execute_result"
    }
   ],
   "source": [
    "df_issue['Subject'].loc[5]"
   ]
  },
  {
   "cell_type": "code",
   "execution_count": 157,
   "metadata": {},
   "outputs": [
    {
     "data": {
      "text/plain": [
       "CK_BX_TX_new          Performance/Engine Power and Acceleration - W...\n",
       "NSN_TRBL_DS                    Perf/Eng Power And Accel: While Passing\n",
       "SRVY_DTL_RSPNS_TX                                                    ?\n",
       "Issues                                 ENGINE (GAS) - POOR PERFORMANCE\n",
       "Subject               Performance or Engineine Power and Accelerati...\n",
       "Name: 5, dtype: object"
      ]
     },
     "execution_count": 157,
     "metadata": {},
     "output_type": "execute_result"
    }
   ],
   "source": [
    "df_issue.loc[5]"
   ]
  },
  {
   "cell_type": "code",
   "execution_count": 158,
   "metadata": {},
   "outputs": [],
   "source": [
    "import re\n",
    "import string\n",
    "\n",
    "def clean_test_round1(text):\n",
    "#''''Make text lowercase, remove text in square brackets, remove punctuation and remove words containing numbers.'''\n",
    "        text=text.lower()\n",
    "        text=re.sub('[\\.*--?#:=><#[@‘’“”…,&~``)-/=+(?]','',text)\n",
    "        text=re.sub('\\w*\\d\\w*','', text)\n",
    "        return text\n",
    "round1= lambda x:clean_test_round1(x)"
   ]
  },
  {
   "cell_type": "code",
   "execution_count": 159,
   "metadata": {},
   "outputs": [],
   "source": [
    "data_clean=pd.DataFrame(df_issue.Subject.apply(round1))"
   ]
  },
  {
   "cell_type": "code",
   "execution_count": 160,
   "metadata": {},
   "outputs": [],
   "source": [
    "def clean_test_round2(text):\n",
    "#''''Make text lowercase, remove text in square brackets, remove punctuation and remove words containing numbers.'''\n",
    "        text=text.lower()\n",
    "        text=re.sub(']','',text)\n",
    "        text=re.sub('\\w*\\d\\w*','', text)\n",
    "        text = re.sub('\\n', '', text)\n",
    "        return text\n",
    "round2= lambda x:clean_test_round2(x)"
   ]
  },
  {
   "cell_type": "code",
   "execution_count": 161,
   "metadata": {},
   "outputs": [],
   "source": [
    "data_clean1=pd.DataFrame(data_clean.Subject.apply(round2))"
   ]
  },
  {
   "cell_type": "code",
   "execution_count": 162,
   "metadata": {},
   "outputs": [],
   "source": [
    "#word_tokenoize\n",
    "from nltk.tokenize import word_tokenize\n",
    "def tokenize(str_token):\n",
    "    str_token=word_tokenize(str_token)\n",
    "    return str_token\n",
    "token=lambda x:tokenize(x)"
   ]
  },
  {
   "cell_type": "code",
   "execution_count": 163,
   "metadata": {},
   "outputs": [],
   "source": [
    "Tokenize=pd.DataFrame(data_clean1.Subject.apply(token))"
   ]
  },
  {
   "cell_type": "code",
   "execution_count": 164,
   "metadata": {},
   "outputs": [],
   "source": [
    "from nltk.stem import WordNetLemmatizer\n",
    "from nltk.stem import PorterStemmer\n",
    "lem=WordNetLemmatizer()\n",
    "ps=PorterStemmer()"
   ]
  },
  {
   "cell_type": "code",
   "execution_count": 165,
   "metadata": {},
   "outputs": [],
   "source": [
    "from nltk.corpus import stopwords \n",
    "stopword=set(stopwords.words('english'))"
   ]
  },
  {
   "cell_type": "code",
   "execution_count": 166,
   "metadata": {},
   "outputs": [],
   "source": [
    "#Removing Stopwords from the list\n",
    "def stopwords(stopWords):\n",
    "    filtered_sentence = [] \n",
    "    for w in stopWords: \n",
    "            if w not in stopword: \n",
    "                 filtered_sentence.append(lem.lemmatize(w))\n",
    "    return filtered_sentence"
   ]
  },
  {
   "cell_type": "code",
   "execution_count": 167,
   "metadata": {},
   "outputs": [],
   "source": [
    "Stop=pd.DataFrame(Tokenize.Subject.apply(lambda x:stopwords(x)))"
   ]
  },
  {
   "cell_type": "code",
   "execution_count": 168,
   "metadata": {},
   "outputs": [],
   "source": [
    "#This will make the list into sentences after NLP\n",
    "Stop['new_subject'] = Stop['Subject'].apply(lambda x: \" \".join(x))"
   ]
  },
  {
   "cell_type": "code",
   "execution_count": 169,
   "metadata": {},
   "outputs": [],
   "source": [
    "#Now we are joing the stop dataframe to issue dataframe\n",
    "df_issue1=pd.merge(df_issue,Stop,left_index=True, right_index=True, how='inner')"
   ]
  },
  {
   "cell_type": "code",
   "execution_count": 170,
   "metadata": {},
   "outputs": [],
   "source": [
    "df_issue1['new_subject1']=df['CK_BX_CD']+\" \"+df['NSN_TRBL_CD']+\" \"+df_issue1['new_subject']"
   ]
  },
  {
   "cell_type": "code",
   "execution_count": 171,
   "metadata": {},
   "outputs": [
    {
     "data": {
      "text/html": [
       "<div>\n",
       "<style scoped>\n",
       "    .dataframe tbody tr th:only-of-type {\n",
       "        vertical-align: middle;\n",
       "    }\n",
       "\n",
       "    .dataframe tbody tr th {\n",
       "        vertical-align: top;\n",
       "    }\n",
       "\n",
       "    .dataframe thead th {\n",
       "        text-align: right;\n",
       "    }\n",
       "</style>\n",
       "<table border=\"1\" class=\"dataframe\">\n",
       "  <thead>\n",
       "    <tr style=\"text-align: right;\">\n",
       "      <th></th>\n",
       "      <th>CK_BX_TX_new</th>\n",
       "      <th>NSN_TRBL_DS</th>\n",
       "      <th>SRVY_DTL_RSPNS_TX</th>\n",
       "      <th>Issues</th>\n",
       "      <th>Subject_x</th>\n",
       "      <th>Subject_y</th>\n",
       "      <th>new_subject</th>\n",
       "      <th>new_subject1</th>\n",
       "    </tr>\n",
       "  </thead>\n",
       "  <tbody>\n",
       "    <tr>\n",
       "      <th>0</th>\n",
       "      <td>Cell Phone Connectivity - Device compatibility</td>\n",
       "      <td>Cell Phone Connect: Pairing Issues</td>\n",
       "      <td>?</td>\n",
       "      <td>BT - AUDIO ISSUE</td>\n",
       "      <td>Cell Phone Connectivity - Device compatibilit...</td>\n",
       "      <td>[cell, phone, connectivity, device, compatibil...</td>\n",
       "      <td>cell phone connectivity device compatibility c...</td>\n",
       "      <td>E1125B G280 cell phone connectivity device com...</td>\n",
       "    </tr>\n",
       "  </tbody>\n",
       "</table>\n",
       "</div>"
      ],
      "text/plain": [
       "                                      CK_BX_TX_new  \\\n",
       "0   Cell Phone Connectivity - Device compatibility   \n",
       "\n",
       "                          NSN_TRBL_DS SRVY_DTL_RSPNS_TX            Issues  \\\n",
       "0  Cell Phone Connect: Pairing Issues                 ?  BT - AUDIO ISSUE   \n",
       "\n",
       "                                           Subject_x  \\\n",
       "0   Cell Phone Connectivity - Device compatibilit...   \n",
       "\n",
       "                                           Subject_y  \\\n",
       "0  [cell, phone, connectivity, device, compatibil...   \n",
       "\n",
       "                                         new_subject  \\\n",
       "0  cell phone connectivity device compatibility c...   \n",
       "\n",
       "                                        new_subject1  \n",
       "0  E1125B G280 cell phone connectivity device com...  "
      ]
     },
     "execution_count": 171,
     "metadata": {},
     "output_type": "execute_result"
    }
   ],
   "source": [
    "df_issue1.head(1)"
   ]
  },
  {
   "cell_type": "code",
   "execution_count": 172,
   "metadata": {},
   "outputs": [],
   "source": [
    "grp=df_issue1.groupby(df_issue1['Issues'])['Issues'].count()\n",
    "df_temp=df_issue1['Issues'].value_counts().reset_index()\n",
    "df_temp=df_temp[df_temp['Issues']>=20]"
   ]
  },
  {
   "cell_type": "code",
   "execution_count": 173,
   "metadata": {},
   "outputs": [
    {
     "data": {
      "text/plain": [
       "(99, 2)"
      ]
     },
     "execution_count": 173,
     "metadata": {},
     "output_type": "execute_result"
    }
   ],
   "source": [
    "df_temp.shape"
   ]
  },
  {
   "cell_type": "code",
   "execution_count": 174,
   "metadata": {},
   "outputs": [],
   "source": [
    "df_issue2=df_issue1[df_issue1['Issues'].isin(df_temp['index'])]"
   ]
  },
  {
   "cell_type": "code",
   "execution_count": 175,
   "metadata": {},
   "outputs": [],
   "source": [
    "# pd.DataFrame(grp.sort_values(ascending=False)).to_csv(\"C:\\\\Users\\\\VMIB804\\\\Desktop\\\\Qvoice\\\\groupcount.csv\")"
   ]
  },
  {
   "cell_type": "code",
   "execution_count": 176,
   "metadata": {},
   "outputs": [
    {
     "name": "stderr",
     "output_type": "stream",
     "text": [
      "<ipython-input-176-50f11bfb2b39>:1: SettingWithCopyWarning: \n",
      "A value is trying to be set on a copy of a slice from a DataFrame.\n",
      "Try using .loc[row_indexer,col_indexer] = value instead\n",
      "\n",
      "See the caveats in the documentation: http://pandas.pydata.org/pandas-docs/stable/user_guide/indexing.html#returning-a-view-versus-a-copy\n",
      "  df_issue2['Issues_new']=df_issue2['Issues'].apply(lambda x:x.split('-',1)[0])\n"
     ]
    }
   ],
   "source": [
    "df_issue2['Issues_new']=df_issue2['Issues'].apply(lambda x:x.split('-',1)[0])\n",
    "#df['CK_BX_TX'].apply(lambda x: x.split('-', maxsplit=1)[1])"
   ]
  },
  {
   "cell_type": "code",
   "execution_count": 177,
   "metadata": {},
   "outputs": [],
   "source": [
    "X=df_issue2['new_subject1']\n",
    "Y=df_issue2['Issues']"
   ]
  },
  {
   "cell_type": "code",
   "execution_count": 178,
   "metadata": {},
   "outputs": [
    {
     "data": {
      "text/plain": [
       "(5293, 5831)"
      ]
     },
     "execution_count": 178,
     "metadata": {},
     "output_type": "execute_result"
    }
   ],
   "source": [
    "# #import pandas as pd\n",
    "from sklearn.feature_extraction.text import TfidfVectorizer\n",
    "cv = TfidfVectorizer()\n",
    "vec_x_issue=cv.fit_transform(X)\n",
    "vec_x_issue.shape"
   ]
  },
  {
   "cell_type": "code",
   "execution_count": 179,
   "metadata": {},
   "outputs": [],
   "source": [
    "from imblearn.over_sampling import RandomOverSampler\n",
    "os=RandomOverSampler()\n",
    "x_os,y_os=os.fit_sample(vec_x_issue,Y)"
   ]
  },
  {
   "cell_type": "code",
   "execution_count": 181,
   "metadata": {},
   "outputs": [],
   "source": [
    "from sklearn.model_selection import train_test_split\n",
    "X_train,X_test,y_train,y_test=train_test_split(x_os,y_os, train_size=0.80,random_state=400)\n",
    "#cv_train = cv.fit_transform(X_train)\n",
    "#cv_test=cv.transform(X_test)\n",
    "cv_train = X_train\n",
    "cv_test=X_test"
   ]
  },
  {
   "cell_type": "code",
   "execution_count": 356,
   "metadata": {},
   "outputs": [],
   "source": [
    "# import pickle\n",
    "# pickle_in = open(\"cv_train_80_issue_actual.pickle\",\"rb\")\n",
    "# cv_train = pickle.load(pickle_in)"
   ]
  },
  {
   "cell_type": "code",
   "execution_count": 357,
   "metadata": {},
   "outputs": [],
   "source": [
    "# pickle_in1 = open(\"cv_test_80_issue_actual.pickle\",\"rb\")\n",
    "# cv_test=pickle.load(pickle_in1)"
   ]
  },
  {
   "cell_type": "code",
   "execution_count": 358,
   "metadata": {},
   "outputs": [],
   "source": [
    "# pickle_in2=open(\"y_test_80_issue_actual.pickle\",\"rb\")\n",
    "# y_test=pickle.load(pickle_in2)"
   ]
  },
  {
   "cell_type": "code",
   "execution_count": 359,
   "metadata": {},
   "outputs": [],
   "source": [
    "# pickle_in3=open(\"y_train_80_issue_actual.pickle\",\"rb\")\n",
    "# y_train=pickle.load(pickle_in3)"
   ]
  },
  {
   "cell_type": "markdown",
   "metadata": {},
   "source": [
    "# Logistic Regression"
   ]
  },
  {
   "cell_type": "code",
   "execution_count": 34,
   "metadata": {},
   "outputs": [
    {
     "name": "stderr",
     "output_type": "stream",
     "text": [
      "C:\\ProgramData\\Anaconda3\\lib\\site-packages\\sklearn\\linear_model\\_logistic.py:940: ConvergenceWarning: lbfgs failed to converge (status=1):\n",
      "STOP: TOTAL NO. of ITERATIONS REACHED LIMIT.\n",
      "\n",
      "Increase the number of iterations (max_iter) or scale the data as shown in:\n",
      "    https://scikit-learn.org/stable/modules/preprocessing.html\n",
      "Please also refer to the documentation for alternative solver options:\n",
      "    https://scikit-learn.org/stable/modules/linear_model.html#logistic-regression\n",
      "  extra_warning_msg=_LOGISTIC_SOLVER_CONVERGENCE_MSG)\n"
     ]
    },
    {
     "data": {
      "text/plain": [
       "LogisticRegression(C=1.0, class_weight=None, dual=False, fit_intercept=True,\n",
       "                   intercept_scaling=1, l1_ratio=None, max_iter=100,\n",
       "                   multi_class='auto', n_jobs=None, penalty='l2',\n",
       "                   random_state=None, solver='lbfgs', tol=0.0001, verbose=0,\n",
       "                   warm_start=False)"
      ]
     },
     "execution_count": 34,
     "metadata": {},
     "output_type": "execute_result"
    }
   ],
   "source": [
    "from sklearn.linear_model import LogisticRegression\n",
    "from sklearn import metrics\n",
    "logreg = LogisticRegression()\n",
    "logreg.fit(cv_train,y_train)"
   ]
  },
  {
   "cell_type": "code",
   "execution_count": 35,
   "metadata": {},
   "outputs": [],
   "source": [
    "#y_pred\n",
    "y_pred=logreg.predict(cv_test)"
   ]
  },
  {
   "cell_type": "code",
   "execution_count": 36,
   "metadata": {},
   "outputs": [
    {
     "data": {
      "text/plain": [
       "0.8009506833036245"
      ]
     },
     "execution_count": 36,
     "metadata": {},
     "output_type": "execute_result"
    }
   ],
   "source": [
    "logreg.score(cv_test,y_test)"
   ]
  },
  {
   "cell_type": "code",
   "execution_count": 37,
   "metadata": {},
   "outputs": [
    {
     "name": "stdout",
     "output_type": "stream",
     "text": [
      "accuracy 0.8009506833036245\n"
     ]
    }
   ],
   "source": [
    "from sklearn.metrics import accuracy_score\n",
    "print('accuracy %s' % accuracy_score(y_pred, y_test))"
   ]
  },
  {
   "cell_type": "code",
   "execution_count": 201,
   "metadata": {},
   "outputs": [],
   "source": [
    "# x=pd.DataFrame(X_test)\n",
    "# y=pd.DataFrame(y_test)\n",
    "# z=pd.DataFrame(y_pred_rid)\n",
    "# x=x.reset_index(drop=True)\n",
    "# y=y.reset_index(drop=True)\n",
    "# z=z.reset_index(drop=True)"
   ]
  },
  {
   "cell_type": "code",
   "execution_count": 78,
   "metadata": {},
   "outputs": [],
   "source": [
    "# pd.concat([x,y,z],axis=1).to_csv(\"C:\\\\Users\\\\VMIB804\\\\Desktop\\\\Qvoice\\\\pred.csv\")"
   ]
  },
  {
   "cell_type": "code",
   "execution_count": 38,
   "metadata": {},
   "outputs": [
    {
     "data": {
      "text/plain": [
       "array([[51,  0,  0, ...,  0,  0,  0],\n",
       "       [ 6, 54,  0, ...,  0,  0,  0],\n",
       "       [ 0,  0, 62, ...,  0,  0,  0],\n",
       "       ...,\n",
       "       [ 0,  0,  0, ..., 55,  0,  0],\n",
       "       [ 0,  0,  0, ...,  0, 43,  0],\n",
       "       [ 0,  0,  0, ...,  0,  1, 69]], dtype=int64)"
      ]
     },
     "execution_count": 38,
     "metadata": {},
     "output_type": "execute_result"
    }
   ],
   "source": [
    "from sklearn.metrics import confusion_matrix\n",
    "confusion_matrix = confusion_matrix(y_pred,y_test)\n",
    "confusion_matrix"
   ]
  },
  {
   "cell_type": "code",
   "execution_count": 39,
   "metadata": {
    "scrolled": true
   },
   "outputs": [
    {
     "name": "stdout",
     "output_type": "stream",
     "text": [
      "                                                            precision    recall  f1-score   support\n",
      "\n",
      "                               12V OUTLET - CHARGING ISSUE       0.88      0.71      0.78        72\n",
      "                                          ALIGNMENT - PULL       0.84      0.90      0.87        60\n",
      "                             AM/FM RADIO - RECEPTION ISSUE       0.79      0.91      0.85        68\n",
      "                            ANDROID AUTO - DISSATISFACTION       0.73      0.53      0.61        70\n",
      "                       ANDROID AUTO - FEATURE AVAILABILITY       0.69      0.84      0.76        67\n",
      "                      APPLE CARPLAY - FEATURE AVAILABILITY       0.90      0.84      0.87        77\n",
      "                         AUDIO (GENERAL) - DISSATISFACTION       0.74      0.70      0.72        64\n",
      "                           AUDIO (GENERAL) - SOUND QUALITY       0.89      0.89      0.89        65\n",
      "                               BRAKE PADS - ABNORMAL NOISE       0.71      0.81      0.76        80\n",
      "                               BRAKE PADS - EXCESSIVE DUST       0.94      1.00      0.97        61\n",
      "                               BRAKE PEDAL - GENERAL ISSUE       0.74      1.00      0.85        58\n",
      "                                   BRAKES - ABNORMAL NOISE       0.91      0.72      0.80        85\n",
      "                                 BRAKES - POOR PERFORMANCE       0.80      0.94      0.86        54\n",
      "                                          BT - AUDIO ISSUE       0.48      0.97      0.64        69\n",
      "             BT - CONNECTION ISSUE (AFTER INITIAL PAIRING)       0.59      0.83      0.69        70\n",
      "                                        BT - PAIRING ISSUE       0.60      0.41      0.49        61\n",
      "                               CD PLAYER - DISSATISFACTION       0.66      1.00      0.79        59\n",
      "                                   CLUTCH - ABNORMAL NOISE       0.90      1.00      0.95        76\n",
      "                                        CLUTCH - VIBRATION       0.89      0.94      0.91        66\n",
      "                               COMBI METER - ABNORMAL WEAR       0.94      1.00      0.97        63\n",
      "                       COMBI METER - FUEL GAUGE INACCURATE       0.89      1.00      0.94        55\n",
      "                         CUP HOLDER - FEATURE AVAILABILITY       0.98      0.94      0.96        62\n",
      "                             DOOR (FRONT) - ABNORMAL NOISE       0.80      0.76      0.78        70\n",
      "                            DOOR (FRONT) - LOOSE COMPONENT       0.82      0.93      0.87        75\n",
      "                     DOOR (FRONT) - OPENING/CLOSING EFFORT       0.97      0.97      0.97        73\n",
      "                                 DOOR (FRONT) - WIND NOISE       0.72      0.48      0.57        82\n",
      "                      DOOR (REAR) - OPENING/CLOSING EFFORT       0.97      0.97      0.97        72\n",
      "                           DOOR (UNSPECIFIED) - WIND NOISE       0.96      0.77      0.86        70\n",
      "                       DOOR LOCK (GENERAL) - GENERAL ISSUE       1.00      1.00      1.00        70\n",
      "ENGINE (DIESEL) - DRIVING RANGE DOES NOT MEET EXPECTATIONS       0.89      0.66      0.76        59\n",
      " ENGINE (DIESEL) - FUEL ECONOMY DOES NOT MEET EXPECTATIONS       0.93      0.53      0.67        72\n",
      "                             ENGINE (GAS) - ABNORMAL NOISE       0.83      0.96      0.89        71\n",
      "                  ENGINE (GAS) - ABNORMAL NOISE AT STARTUP       0.95      0.89      0.92        62\n",
      "         ENGINE (GAS) - ABNORMAL NOISE DURING ACCELERATION       0.94      0.96      0.95        79\n",
      "    ENGINE (GAS) - FUEL ECONOMY DOES NOT MEET EXPECTATIONS       0.44      0.88      0.59        60\n",
      "                              ENGINE (GAS) - LACK OF POWER       0.91      0.93      0.92        67\n",
      "                          ENGINE (GAS) - POOR ACCELERATION       0.95      0.87      0.90        60\n",
      "                           ENGINE (GAS) - POOR PERFORMANCE       0.84      0.95      0.89        73\n",
      "    ENGINE (R9N) - FUEL ECONOMY DOES NOT MEET EXPECTATIONS       0.98      0.69      0.81        75\n",
      "                                 GLOVEBOX - ABNORMAL NOISE       0.89      0.96      0.92        74\n",
      "                             GLOVEBOX - INADEQUATE STORAGE       0.94      0.85      0.89        74\n",
      "                               HEADLAMP - POOR PERFORMANCE       1.00      1.00      1.00        55\n",
      "                     HEADREST - INSUFFICIENT ADJUSTABILITY       1.00      0.85      0.92        67\n",
      "                                  HEADREST - UNCOMFORTABLE       0.90      0.97      0.94        68\n",
      "                                        HOOD - DENTS/DINGS       0.98      1.00      0.99        60\n",
      "HVAC (GENERAL) - DIFFICULT TO CONTROL/REGULATE TEMPERATURE       0.95      0.98      0.97        58\n",
      "                         INSTRUMENT PANEL - ABNORMAL NOISE       0.81      0.78      0.80        65\n",
      "               INTERIOR (GENERAL) - NOT ENOUGH INFORMATION       0.88      0.64      0.74        80\n",
      "                         INTERIOR (GENERAL) - POOR QUALITY       0.85      1.00      0.92        64\n",
      "                                         ISS - INOPERATIVE       0.95      1.00      0.98        61\n",
      "                                      M/T - ABNORMAL NOISE       0.84      0.86      0.85        57\n",
      "                          M/T - DIFFICULT TO GET INTO GEAR       0.90      0.91      0.91        70\n",
      "                                  M/T - DIFFICULT TO SHIFT       0.84      0.84      0.84        63\n",
      "               NAVI - CUSTOMER DOES NOT UNDERSTAND FEATURE       0.80      0.54      0.64        72\n",
      "                                    NAVI - DISSATISFACTION       0.69      0.25      0.37        72\n",
      "                                                NAVI - DTU       0.79      0.40      0.53        85\n",
      "                                      NAVI - GENERAL ISSUE       0.83      0.47      0.60        72\n",
      "                                NAVI - LEVEL OF MAP DETAIL       0.66      0.92      0.77        59\n",
      "                                              NAVI - OTHER       0.85      0.84      0.84        79\n",
      "                                            NAVI - REBOOTS       0.63      0.59      0.61        71\n",
      "                                      NAVI - ROUTING ISSUE       0.69      0.56      0.62        68\n",
      "                                     NAVI - TOO MANY STEPS       0.52      0.94      0.67        68\n",
      "                     NISSAN CONNECT APPS - DISSATISFACTION       0.80      0.55      0.65        64\n",
      "                                 NISSAN CONNECT APPS - DTU       0.61      0.80      0.69        54\n",
      "                         NISSAN CONNECT APPS - INOPERATIVE       0.60      0.66      0.63        74\n",
      "           NOT ENOUGH INFORMATION - NOT ENOUGH INFORMATION       0.48      0.17      0.25        75\n",
      "                            NOT ENOUGH INFORMATION - OTHER       0.89      0.50      0.64        68\n",
      "                                           PAINT - BUBBLES       0.97      1.00      0.98        60\n",
      "                                      PAINT - CHIPS EASILY       0.78      0.57      0.66        56\n",
      "                                   PAINT - DISSATISFACTION       1.00      0.84      0.91        67\n",
      "                                  PAINT - POOR COLOR MATCH       0.65      0.99      0.78        74\n",
      "                                  PAINT - SCRATCHES EASILY       0.78      0.74      0.76        78\n",
      "                                     ROOF - ABNORMAL NOISE       0.82      0.97      0.89        62\n",
      "                            SEAT (DRIVER) - ABNORMAL NOISE       0.92      0.95      0.93        73\n",
      "                           SEAT (DRIVER) - DISSATISFACTION       0.75      0.77      0.76        53\n",
      "                SEAT (DRIVER) - INSUFFICIENT ADJUSTABILITY       0.88      0.81      0.84        80\n",
      "                    SEAT (DRIVER) - NOT ENOUGH INFORMATION       0.78      0.70      0.74        71\n",
      "                             SEAT (DRIVER) - UNCOMFORTABLE       0.67      0.91      0.77        68\n",
      "                         SEAT (THIRD ROW) - POOR ROOMINESS       0.95      1.00      0.97        73\n",
      "                       SIDE WINDOWS/GLASS - ABNORMAL NOISE       0.64      0.83      0.72        66\n",
      "                        SIDE WINDOWS/GLASS - GENERAL ISSUE       0.96      0.92      0.94        87\n",
      "                     SIDE WINDOWS/GLASS - MOISTURE BUILDUP       0.96      1.00      0.98        85\n",
      "                           SIDE WINDOWS/GLASS - WIND NOISE       0.67      0.86      0.75        69\n",
      "                                   SPEAKER - SOUND QUALITY       0.74      1.00      0.85        70\n",
      "                                    STEERING - HIGH EFFORT       0.87      0.80      0.83        59\n",
      "            STEERING - RESPONSE DOES NOT MEET EXPECTATIONS       0.88      0.92      0.90        72\n",
      "                                    STRUT - ABNORMAL NOISE       0.86      1.00      0.93        75\n",
      "                     SUSPENSION (GENERAL) - ABNORMAL NOISE       1.00      0.89      0.94        63\n",
      "                                                       TBD       1.00      0.05      0.09        64\n",
      "                                        TIRES - ROAD NOISE       0.52      1.00      0.68        64\n",
      "                         TRUNK/CARGO AREA - ABNORMAL NOISE       0.80      0.85      0.82        65\n",
      "                        USB INPUT - NOT ENOUGH INPUT PORTS       0.99      1.00      0.99        68\n",
      "                        VEHICLE (GENERAL) - ABNORMAL NOISE       0.64      0.90      0.75        52\n",
      "                       VEHICLE (GENERAL) - EXCESSIVE NOISE       0.63      0.53      0.58        60\n",
      "                VEHICLE (GENERAL) - NOT ENOUGH INFORMATION       0.58      0.19      0.29        72\n",
      "                            VEHICLE (GENERAL) - ROAD NOISE       0.63      0.40      0.49        68\n",
      "                             VEHICLE (GENERAL) - VIBRATION       0.96      0.87      0.92        63\n",
      "                            VEHICLE (GENERAL) - WIND NOISE       0.62      0.58      0.60        74\n",
      "                   VEHICLE REAR (GENERAL) - ABNORMAL NOISE       0.81      0.96      0.88        72\n",
      "\n",
      "                                                  accuracy                           0.80      6732\n",
      "                                                 macro avg       0.82      0.81      0.79      6732\n",
      "                                              weighted avg       0.82      0.80      0.79      6732\n",
      "\n"
     ]
    }
   ],
   "source": [
    "from sklearn.metrics import classification_report\n",
    "print(classification_report(y_test, y_pred))"
   ]
  },
  {
   "cell_type": "markdown",
   "metadata": {},
   "source": [
    "# Random Forest"
   ]
  },
  {
   "cell_type": "code",
   "execution_count": 37,
   "metadata": {},
   "outputs": [],
   "source": [
    "from sklearn.ensemble import RandomForestClassifier"
   ]
  },
  {
   "cell_type": "code",
   "execution_count": 38,
   "metadata": {},
   "outputs": [],
   "source": [
    "clf=RandomForestClassifier(n_estimators=860,oob_score=True,n_jobs=-1,random_state=400)"
   ]
  },
  {
   "cell_type": "code",
   "execution_count": 42,
   "metadata": {},
   "outputs": [
    {
     "data": {
      "text/plain": [
       "RandomForestClassifier(bootstrap=True, ccp_alpha=0.0, class_weight=None,\n",
       "                       criterion='gini', max_depth=None, max_features='auto',\n",
       "                       max_leaf_nodes=None, max_samples=None,\n",
       "                       min_impurity_decrease=0.0, min_impurity_split=None,\n",
       "                       min_samples_leaf=1, min_samples_split=2,\n",
       "                       min_weight_fraction_leaf=0.0, n_estimators=860,\n",
       "                       n_jobs=-1, oob_score=True, random_state=400, verbose=0,\n",
       "                       warm_start=False)"
      ]
     },
     "execution_count": 42,
     "metadata": {},
     "output_type": "execute_result"
    }
   ],
   "source": [
    "clf.fit(cv_train,y_train)"
   ]
  },
  {
   "cell_type": "code",
   "execution_count": 43,
   "metadata": {},
   "outputs": [
    {
     "data": {
      "text/plain": [
       "0.8696152703505645"
      ]
     },
     "execution_count": 43,
     "metadata": {},
     "output_type": "execute_result"
    }
   ],
   "source": [
    "clf.oob_score_"
   ]
  },
  {
   "cell_type": "code",
   "execution_count": 44,
   "metadata": {},
   "outputs": [
    {
     "data": {
      "text/plain": [
       "0.8865864527629234"
      ]
     },
     "execution_count": 44,
     "metadata": {},
     "output_type": "execute_result"
    }
   ],
   "source": [
    "clf.score(cv_train,y_train)"
   ]
  },
  {
   "cell_type": "code",
   "execution_count": 45,
   "metadata": {},
   "outputs": [
    {
     "data": {
      "text/plain": [
       "0.8724004753416518"
      ]
     },
     "execution_count": 45,
     "metadata": {},
     "output_type": "execute_result"
    }
   ],
   "source": [
    "clf.score(cv_test,y_test)"
   ]
  },
  {
   "cell_type": "code",
   "execution_count": 46,
   "metadata": {},
   "outputs": [],
   "source": [
    "y_pred1=clf.predict(cv_test)"
   ]
  },
  {
   "cell_type": "code",
   "execution_count": 47,
   "metadata": {},
   "outputs": [
    {
     "name": "stdout",
     "output_type": "stream",
     "text": [
      "accuracy 0.8724004753416518\n"
     ]
    }
   ],
   "source": [
    "from sklearn.metrics import accuracy_score\n",
    "print('accuracy %s' % accuracy_score(y_pred1, y_test))"
   ]
  },
  {
   "cell_type": "code",
   "execution_count": 48,
   "metadata": {
    "scrolled": true
   },
   "outputs": [
    {
     "name": "stdout",
     "output_type": "stream",
     "text": [
      "                                                            precision    recall  f1-score   support\n",
      "\n",
      "                               12V OUTLET - CHARGING ISSUE       0.85      0.81      0.83        72\n",
      "                                          ALIGNMENT - PULL       0.89      0.97      0.93        60\n",
      "                             AM/FM RADIO - RECEPTION ISSUE       0.87      0.99      0.92        68\n",
      "                            ANDROID AUTO - DISSATISFACTION       0.75      0.67      0.71        70\n",
      "                       ANDROID AUTO - FEATURE AVAILABILITY       0.81      0.96      0.88        67\n",
      "                      APPLE CARPLAY - FEATURE AVAILABILITY       0.99      0.97      0.98        77\n",
      "                         AUDIO (GENERAL) - DISSATISFACTION       0.72      0.88      0.79        64\n",
      "                           AUDIO (GENERAL) - SOUND QUALITY       0.92      0.89      0.91        65\n",
      "                               BRAKE PADS - ABNORMAL NOISE       0.76      0.89      0.82        80\n",
      "                               BRAKE PADS - EXCESSIVE DUST       1.00      1.00      1.00        61\n",
      "                               BRAKE PEDAL - GENERAL ISSUE       0.82      1.00      0.90        58\n",
      "                                   BRAKES - ABNORMAL NOISE       0.97      0.84      0.90        85\n",
      "                                 BRAKES - POOR PERFORMANCE       0.98      0.98      0.98        54\n",
      "                                          BT - AUDIO ISSUE       0.63      0.54      0.58        69\n",
      "             BT - CONNECTION ISSUE (AFTER INITIAL PAIRING)       0.71      0.86      0.78        70\n",
      "                                        BT - PAIRING ISSUE       0.45      0.74      0.56        61\n",
      "                               CD PLAYER - DISSATISFACTION       0.97      1.00      0.98        59\n",
      "                                   CLUTCH - ABNORMAL NOISE       0.95      0.96      0.95        76\n",
      "                                        CLUTCH - VIBRATION       0.88      1.00      0.94        66\n",
      "                               COMBI METER - ABNORMAL WEAR       1.00      1.00      1.00        63\n",
      "                       COMBI METER - FUEL GAUGE INACCURATE       0.96      1.00      0.98        55\n",
      "                         CUP HOLDER - FEATURE AVAILABILITY       1.00      0.94      0.97        62\n",
      "                             DOOR (FRONT) - ABNORMAL NOISE       0.93      0.81      0.87        70\n",
      "                            DOOR (FRONT) - LOOSE COMPONENT       0.84      0.93      0.89        75\n",
      "                     DOOR (FRONT) - OPENING/CLOSING EFFORT       0.97      1.00      0.99        73\n",
      "                                 DOOR (FRONT) - WIND NOISE       0.92      0.71      0.80        82\n",
      "                      DOOR (REAR) - OPENING/CLOSING EFFORT       0.99      0.97      0.98        72\n",
      "                           DOOR (UNSPECIFIED) - WIND NOISE       1.00      0.96      0.98        70\n",
      "                       DOOR LOCK (GENERAL) - GENERAL ISSUE       1.00      1.00      1.00        70\n",
      "ENGINE (DIESEL) - DRIVING RANGE DOES NOT MEET EXPECTATIONS       0.96      0.78      0.86        59\n",
      " ENGINE (DIESEL) - FUEL ECONOMY DOES NOT MEET EXPECTATIONS       1.00      0.53      0.69        72\n",
      "                             ENGINE (GAS) - ABNORMAL NOISE       1.00      0.94      0.97        71\n",
      "                  ENGINE (GAS) - ABNORMAL NOISE AT STARTUP       0.94      1.00      0.97        62\n",
      "         ENGINE (GAS) - ABNORMAL NOISE DURING ACCELERATION       1.00      1.00      1.00        79\n",
      "    ENGINE (GAS) - FUEL ECONOMY DOES NOT MEET EXPECTATIONS       0.46      0.97      0.62        60\n",
      "                              ENGINE (GAS) - LACK OF POWER       0.97      0.97      0.97        67\n",
      "                          ENGINE (GAS) - POOR ACCELERATION       0.96      0.90      0.93        60\n",
      "                           ENGINE (GAS) - POOR PERFORMANCE       0.91      1.00      0.95        73\n",
      "    ENGINE (R9N) - FUEL ECONOMY DOES NOT MEET EXPECTATIONS       1.00      0.69      0.82        75\n",
      "                                 GLOVEBOX - ABNORMAL NOISE       0.93      1.00      0.96        74\n",
      "                             GLOVEBOX - INADEQUATE STORAGE       0.93      0.89      0.91        74\n",
      "                               HEADLAMP - POOR PERFORMANCE       1.00      1.00      1.00        55\n",
      "                     HEADREST - INSUFFICIENT ADJUSTABILITY       1.00      0.88      0.94        67\n",
      "                                  HEADREST - UNCOMFORTABLE       0.93      1.00      0.96        68\n",
      "                                        HOOD - DENTS/DINGS       1.00      1.00      1.00        60\n",
      "HVAC (GENERAL) - DIFFICULT TO CONTROL/REGULATE TEMPERATURE       0.95      0.95      0.95        58\n",
      "                         INSTRUMENT PANEL - ABNORMAL NOISE       0.85      0.89      0.87        65\n",
      "               INTERIOR (GENERAL) - NOT ENOUGH INFORMATION       0.89      0.82      0.86        80\n",
      "                         INTERIOR (GENERAL) - POOR QUALITY       1.00      1.00      1.00        64\n",
      "                                         ISS - INOPERATIVE       0.97      1.00      0.98        61\n",
      "                                      M/T - ABNORMAL NOISE       0.94      0.89      0.92        57\n",
      "                          M/T - DIFFICULT TO GET INTO GEAR       0.99      1.00      0.99        70\n",
      "                                  M/T - DIFFICULT TO SHIFT       0.93      0.98      0.95        63\n",
      "               NAVI - CUSTOMER DOES NOT UNDERSTAND FEATURE       0.96      0.68      0.80        72\n",
      "                                    NAVI - DISSATISFACTION       0.84      0.51      0.64        72\n",
      "                                                NAVI - DTU       0.92      0.52      0.66        85\n",
      "                                      NAVI - GENERAL ISSUE       0.96      0.71      0.82        72\n",
      "                                NAVI - LEVEL OF MAP DETAIL       0.73      0.98      0.84        59\n",
      "                                              NAVI - OTHER       0.93      0.90      0.92        79\n",
      "                                            NAVI - REBOOTS       0.82      0.69      0.75        71\n",
      "                                      NAVI - ROUTING ISSUE       0.80      0.65      0.72        68\n",
      "                                     NAVI - TOO MANY STEPS       0.54      0.94      0.69        68\n",
      "                     NISSAN CONNECT APPS - DISSATISFACTION       0.85      0.88      0.86        64\n",
      "                                 NISSAN CONNECT APPS - DTU       0.77      0.91      0.83        54\n",
      "                         NISSAN CONNECT APPS - INOPERATIVE       0.95      0.82      0.88        74\n",
      "           NOT ENOUGH INFORMATION - NOT ENOUGH INFORMATION       0.85      0.53      0.66        75\n",
      "                            NOT ENOUGH INFORMATION - OTHER       0.96      0.97      0.96        68\n",
      "                                           PAINT - BUBBLES       1.00      1.00      1.00        60\n",
      "                                      PAINT - CHIPS EASILY       0.93      0.68      0.78        56\n",
      "                                   PAINT - DISSATISFACTION       1.00      0.90      0.94        67\n",
      "                                  PAINT - POOR COLOR MATCH       0.73      1.00      0.85        74\n",
      "                                  PAINT - SCRATCHES EASILY       0.82      0.78      0.80        78\n",
      "                                     ROOF - ABNORMAL NOISE       1.00      0.90      0.95        62\n",
      "                            SEAT (DRIVER) - ABNORMAL NOISE       0.94      1.00      0.97        73\n",
      "                           SEAT (DRIVER) - DISSATISFACTION       0.76      0.79      0.78        53\n",
      "                SEAT (DRIVER) - INSUFFICIENT ADJUSTABILITY       0.99      0.82      0.90        80\n",
      "                    SEAT (DRIVER) - NOT ENOUGH INFORMATION       0.81      0.70      0.75        71\n",
      "                             SEAT (DRIVER) - UNCOMFORTABLE       0.71      0.99      0.83        68\n",
      "                         SEAT (THIRD ROW) - POOR ROOMINESS       0.99      1.00      0.99        73\n",
      "                       SIDE WINDOWS/GLASS - ABNORMAL NOISE       0.70      0.88      0.78        66\n",
      "                        SIDE WINDOWS/GLASS - GENERAL ISSUE       0.99      0.94      0.96        87\n",
      "                     SIDE WINDOWS/GLASS - MOISTURE BUILDUP       0.98      1.00      0.99        85\n",
      "                           SIDE WINDOWS/GLASS - WIND NOISE       0.75      0.93      0.83        69\n",
      "                                   SPEAKER - SOUND QUALITY       0.83      1.00      0.91        70\n",
      "                                    STEERING - HIGH EFFORT       0.89      0.86      0.88        59\n",
      "            STEERING - RESPONSE DOES NOT MEET EXPECTATIONS       0.96      0.92      0.94        72\n",
      "                                    STRUT - ABNORMAL NOISE       1.00      1.00      1.00        75\n",
      "                     SUSPENSION (GENERAL) - ABNORMAL NOISE       0.97      0.97      0.97        63\n",
      "                                                       TBD       0.73      0.17      0.28        64\n",
      "                                        TIRES - ROAD NOISE       0.57      1.00      0.73        64\n",
      "                         TRUNK/CARGO AREA - ABNORMAL NOISE       0.89      0.86      0.88        65\n",
      "                        USB INPUT - NOT ENOUGH INPUT PORTS       0.99      1.00      0.99        68\n",
      "                        VEHICLE (GENERAL) - ABNORMAL NOISE       0.89      0.96      0.93        52\n",
      "                       VEHICLE (GENERAL) - EXCESSIVE NOISE       0.59      0.72      0.65        60\n",
      "                VEHICLE (GENERAL) - NOT ENOUGH INFORMATION       0.78      0.71      0.74        72\n",
      "                            VEHICLE (GENERAL) - ROAD NOISE       0.90      0.54      0.68        68\n",
      "                             VEHICLE (GENERAL) - VIBRATION       1.00      1.00      1.00        63\n",
      "                            VEHICLE (GENERAL) - WIND NOISE       0.96      0.66      0.78        74\n",
      "                   VEHICLE REAR (GENERAL) - ABNORMAL NOISE       0.86      0.96      0.91        72\n",
      "\n",
      "                                                  accuracy                           0.87      6732\n",
      "                                                 macro avg       0.89      0.88      0.87      6732\n",
      "                                              weighted avg       0.89      0.87      0.87      6732\n",
      "\n"
     ]
    }
   ],
   "source": [
    "print(classification_report(y_test, y_pred1))"
   ]
  },
  {
   "cell_type": "markdown",
   "metadata": {},
   "source": [
    "GridSearch"
   ]
  },
  {
   "cell_type": "code",
   "execution_count": 122,
   "metadata": {
    "scrolled": true
   },
   "outputs": [
    {
     "name": "stdout",
     "output_type": "stream",
     "text": [
      "For n_estimators = 20\n",
      "OOB score is 0.6709966934341048\n",
      "************************\n",
      "For n_estimators = 40\n",
      "OOB score is 0.6842229570146434\n",
      "************************\n",
      "For n_estimators = 60\n",
      "OOB score is 0.6889466225791214\n",
      "************************\n",
      "For n_estimators = 80\n",
      "OOB score is 0.6910722720831365\n",
      "************************\n",
      "For n_estimators = 100\n",
      "OOB score is 0.6903637222484648\n",
      "************************\n",
      "For n_estimators = 120\n",
      "OOB score is 0.6882380727444497\n",
      "************************\n",
      "For n_estimators = 140\n",
      "OOB score is 0.6917808219178082\n",
      "************************\n",
      "For n_estimators = 160\n",
      "OOB score is 0.692253188474256\n",
      "************************\n",
      "For n_estimators = 180\n",
      "OOB score is 0.6905999055266887\n",
      "************************\n",
      "For n_estimators = 200\n",
      "OOB score is 0.6901275389702409\n",
      "************************\n",
      "For n_estimators = 220\n",
      "OOB score is 0.6924893717524799\n",
      "************************\n",
      "For n_estimators = 240\n",
      "OOB score is 0.6939064714218234\n",
      "************************\n",
      "For n_estimators = 260\n",
      "OOB score is 0.6939064714218234\n",
      "************************\n",
      "For n_estimators = 280\n",
      "OOB score is 0.6924893717524799\n",
      "************************\n",
      "For n_estimators = 300\n",
      "OOB score is 0.6936702881435994\n",
      "************************\n",
      "For n_estimators = 320\n",
      "OOB score is 0.6948512045347189\n",
      "************************\n",
      "For n_estimators = 340\n",
      "OOB score is 0.6934341048653755\n",
      "************************\n",
      "For n_estimators = 360\n",
      "OOB score is 0.6934341048653755\n",
      "************************\n",
      "For n_estimators = 380\n",
      "OOB score is 0.6953235710911667\n",
      "************************\n",
      "For n_estimators = 400\n",
      "OOB score is 0.694615021256495\n",
      "************************\n",
      "For n_estimators = 420\n",
      "OOB score is 0.6948512045347189\n",
      "************************\n",
      "For n_estimators = 440\n",
      "OOB score is 0.6948512045347189\n",
      "************************\n",
      "For n_estimators = 460\n",
      "OOB score is 0.6948512045347189\n",
      "************************\n",
      "For n_estimators = 480\n",
      "OOB score is 0.6967406707605102\n",
      "************************\n",
      "For n_estimators = 500\n",
      "OOB score is 0.694615021256495\n",
      "************************\n",
      "For n_estimators = 520\n",
      "OOB score is 0.694615021256495\n",
      "************************\n",
      "For n_estimators = 540\n",
      "OOB score is 0.6950873878129429\n",
      "************************\n",
      "For n_estimators = 560\n",
      "OOB score is 0.6939064714218234\n",
      "************************\n",
      "For n_estimators = 580\n",
      "OOB score is 0.694615021256495\n",
      "************************\n",
      "For n_estimators = 600\n",
      "OOB score is 0.6953235710911667\n",
      "************************\n",
      "For n_estimators = 620\n",
      "OOB score is 0.694615021256495\n",
      "************************\n",
      "For n_estimators = 640\n",
      "OOB score is 0.694615021256495\n",
      "************************\n",
      "For n_estimators = 660\n",
      "OOB score is 0.6943788379782712\n",
      "************************\n",
      "For n_estimators = 680\n",
      "OOB score is 0.6943788379782712\n",
      "************************\n",
      "For n_estimators = 700\n",
      "OOB score is 0.6960321209258384\n",
      "************************\n",
      "For n_estimators = 720\n",
      "OOB score is 0.6962683042040624\n",
      "************************\n",
      "For n_estimators = 740\n",
      "OOB score is 0.6965044874822862\n",
      "************************\n",
      "For n_estimators = 760\n",
      "OOB score is 0.6965044874822862\n",
      "************************\n",
      "For n_estimators = 780\n",
      "OOB score is 0.6969768540387341\n",
      "************************\n",
      "For n_estimators = 800\n",
      "OOB score is 0.6972130373169579\n",
      "************************\n",
      "For n_estimators = 820\n",
      "OOB score is 0.6969768540387341\n",
      "************************\n",
      "For n_estimators = 840\n",
      "OOB score is 0.6974492205951819\n",
      "************************\n",
      "For n_estimators = 860\n",
      "OOB score is 0.6986301369863014\n",
      "************************\n",
      "For n_estimators = 880\n",
      "OOB score is 0.6979215871516297\n",
      "************************\n",
      "For n_estimators = 900\n",
      "OOB score is 0.6974492205951819\n",
      "************************\n",
      "For n_estimators = 920\n",
      "OOB score is 0.6969768540387341\n",
      "************************\n",
      "For n_estimators = 940\n",
      "OOB score is 0.6969768540387341\n",
      "************************\n",
      "For n_estimators = 960\n",
      "OOB score is 0.6972130373169579\n",
      "************************\n",
      "For n_estimators = 980\n",
      "OOB score is 0.6974492205951819\n",
      "************************\n"
     ]
    }
   ],
   "source": [
    "for w in range(20,1000,20):\n",
    "    clf=RandomForestClassifier(n_estimators=w,oob_score=True,n_jobs=-1,random_state=400)\n",
    "    clf.fit(cv_train,y_train)\n",
    "    oob=clf.oob_score_\n",
    "    print('For n_estimators = '+str(w))\n",
    "    print('OOB score is '+str(oob))\n",
    "    print('************************')"
   ]
  },
  {
   "cell_type": "markdown",
   "metadata": {},
   "source": [
    "# Navie Bayes"
   ]
  },
  {
   "cell_type": "code",
   "execution_count": 49,
   "metadata": {},
   "outputs": [
    {
     "data": {
      "text/plain": [
       "MultinomialNB(alpha=1.0, class_prior=None, fit_prior=True)"
      ]
     },
     "execution_count": 49,
     "metadata": {},
     "output_type": "execute_result"
    }
   ],
   "source": [
    "from sklearn.naive_bayes import MultinomialNB\n",
    "model_nb = MultinomialNB()\n",
    "# fit the model with the training data\n",
    "model_nb.fit(cv_train,y_train)"
   ]
  },
  {
   "cell_type": "code",
   "execution_count": 50,
   "metadata": {},
   "outputs": [
    {
     "data": {
      "text/plain": [
       "0.7217394533571004"
      ]
     },
     "execution_count": 50,
     "metadata": {},
     "output_type": "execute_result"
    }
   ],
   "source": [
    "model_nb.score(cv_train,y_train)"
   ]
  },
  {
   "cell_type": "code",
   "execution_count": 51,
   "metadata": {},
   "outputs": [
    {
     "data": {
      "text/plain": [
       "0.6977124183006536"
      ]
     },
     "execution_count": 51,
     "metadata": {},
     "output_type": "execute_result"
    }
   ],
   "source": [
    "model_nb.score(cv_test,y_test)"
   ]
  },
  {
   "cell_type": "code",
   "execution_count": 52,
   "metadata": {},
   "outputs": [],
   "source": [
    "y_pred_nb=model_nb.predict(cv_test)"
   ]
  },
  {
   "cell_type": "code",
   "execution_count": 53,
   "metadata": {},
   "outputs": [
    {
     "name": "stdout",
     "output_type": "stream",
     "text": [
      "accuracy 0.6977124183006536\n"
     ]
    }
   ],
   "source": [
    "from sklearn.metrics import accuracy_score\n",
    "print('accuracy %s' % accuracy_score(y_pred_nb, y_test))"
   ]
  },
  {
   "cell_type": "code",
   "execution_count": 54,
   "metadata": {
    "scrolled": true
   },
   "outputs": [
    {
     "data": {
      "text/html": [
       "<div>\n",
       "<style scoped>\n",
       "    .dataframe tbody tr th:only-of-type {\n",
       "        vertical-align: middle;\n",
       "    }\n",
       "\n",
       "    .dataframe tbody tr th {\n",
       "        vertical-align: top;\n",
       "    }\n",
       "\n",
       "    .dataframe thead th {\n",
       "        text-align: right;\n",
       "    }\n",
       "</style>\n",
       "<table border=\"1\" class=\"dataframe\">\n",
       "  <thead>\n",
       "    <tr style=\"text-align: right;\">\n",
       "      <th></th>\n",
       "      <th>0</th>\n",
       "      <th>1</th>\n",
       "      <th>2</th>\n",
       "      <th>3</th>\n",
       "      <th>4</th>\n",
       "      <th>5</th>\n",
       "      <th>6</th>\n",
       "      <th>7</th>\n",
       "      <th>8</th>\n",
       "      <th>9</th>\n",
       "      <th>...</th>\n",
       "      <th>89</th>\n",
       "      <th>90</th>\n",
       "      <th>91</th>\n",
       "      <th>92</th>\n",
       "      <th>93</th>\n",
       "      <th>94</th>\n",
       "      <th>95</th>\n",
       "      <th>96</th>\n",
       "      <th>97</th>\n",
       "      <th>98</th>\n",
       "    </tr>\n",
       "  </thead>\n",
       "  <tbody>\n",
       "    <tr>\n",
       "      <td>0</td>\n",
       "      <td>37</td>\n",
       "      <td>6</td>\n",
       "      <td>0</td>\n",
       "      <td>0</td>\n",
       "      <td>0</td>\n",
       "      <td>0</td>\n",
       "      <td>0</td>\n",
       "      <td>0</td>\n",
       "      <td>6</td>\n",
       "      <td>0</td>\n",
       "      <td>...</td>\n",
       "      <td>0</td>\n",
       "      <td>0</td>\n",
       "      <td>0</td>\n",
       "      <td>0</td>\n",
       "      <td>0</td>\n",
       "      <td>0</td>\n",
       "      <td>0</td>\n",
       "      <td>0</td>\n",
       "      <td>0</td>\n",
       "      <td>0</td>\n",
       "    </tr>\n",
       "    <tr>\n",
       "      <td>1</td>\n",
       "      <td>0</td>\n",
       "      <td>58</td>\n",
       "      <td>0</td>\n",
       "      <td>0</td>\n",
       "      <td>0</td>\n",
       "      <td>0</td>\n",
       "      <td>0</td>\n",
       "      <td>0</td>\n",
       "      <td>0</td>\n",
       "      <td>0</td>\n",
       "      <td>...</td>\n",
       "      <td>0</td>\n",
       "      <td>0</td>\n",
       "      <td>0</td>\n",
       "      <td>0</td>\n",
       "      <td>0</td>\n",
       "      <td>0</td>\n",
       "      <td>0</td>\n",
       "      <td>0</td>\n",
       "      <td>0</td>\n",
       "      <td>0</td>\n",
       "    </tr>\n",
       "    <tr>\n",
       "      <td>2</td>\n",
       "      <td>0</td>\n",
       "      <td>0</td>\n",
       "      <td>63</td>\n",
       "      <td>0</td>\n",
       "      <td>0</td>\n",
       "      <td>0</td>\n",
       "      <td>0</td>\n",
       "      <td>0</td>\n",
       "      <td>0</td>\n",
       "      <td>0</td>\n",
       "      <td>...</td>\n",
       "      <td>0</td>\n",
       "      <td>0</td>\n",
       "      <td>0</td>\n",
       "      <td>0</td>\n",
       "      <td>0</td>\n",
       "      <td>0</td>\n",
       "      <td>0</td>\n",
       "      <td>0</td>\n",
       "      <td>0</td>\n",
       "      <td>0</td>\n",
       "    </tr>\n",
       "    <tr>\n",
       "      <td>3</td>\n",
       "      <td>0</td>\n",
       "      <td>0</td>\n",
       "      <td>0</td>\n",
       "      <td>37</td>\n",
       "      <td>16</td>\n",
       "      <td>4</td>\n",
       "      <td>0</td>\n",
       "      <td>0</td>\n",
       "      <td>0</td>\n",
       "      <td>0</td>\n",
       "      <td>...</td>\n",
       "      <td>0</td>\n",
       "      <td>0</td>\n",
       "      <td>0</td>\n",
       "      <td>0</td>\n",
       "      <td>0</td>\n",
       "      <td>0</td>\n",
       "      <td>0</td>\n",
       "      <td>0</td>\n",
       "      <td>0</td>\n",
       "      <td>0</td>\n",
       "    </tr>\n",
       "    <tr>\n",
       "      <td>4</td>\n",
       "      <td>0</td>\n",
       "      <td>0</td>\n",
       "      <td>0</td>\n",
       "      <td>0</td>\n",
       "      <td>55</td>\n",
       "      <td>0</td>\n",
       "      <td>0</td>\n",
       "      <td>0</td>\n",
       "      <td>0</td>\n",
       "      <td>0</td>\n",
       "      <td>...</td>\n",
       "      <td>0</td>\n",
       "      <td>0</td>\n",
       "      <td>0</td>\n",
       "      <td>0</td>\n",
       "      <td>0</td>\n",
       "      <td>0</td>\n",
       "      <td>0</td>\n",
       "      <td>0</td>\n",
       "      <td>0</td>\n",
       "      <td>0</td>\n",
       "    </tr>\n",
       "    <tr>\n",
       "      <td>...</td>\n",
       "      <td>...</td>\n",
       "      <td>...</td>\n",
       "      <td>...</td>\n",
       "      <td>...</td>\n",
       "      <td>...</td>\n",
       "      <td>...</td>\n",
       "      <td>...</td>\n",
       "      <td>...</td>\n",
       "      <td>...</td>\n",
       "      <td>...</td>\n",
       "      <td>...</td>\n",
       "      <td>...</td>\n",
       "      <td>...</td>\n",
       "      <td>...</td>\n",
       "      <td>...</td>\n",
       "      <td>...</td>\n",
       "      <td>...</td>\n",
       "      <td>...</td>\n",
       "      <td>...</td>\n",
       "      <td>...</td>\n",
       "      <td>...</td>\n",
       "    </tr>\n",
       "    <tr>\n",
       "      <td>94</td>\n",
       "      <td>2</td>\n",
       "      <td>4</td>\n",
       "      <td>0</td>\n",
       "      <td>0</td>\n",
       "      <td>0</td>\n",
       "      <td>0</td>\n",
       "      <td>0</td>\n",
       "      <td>0</td>\n",
       "      <td>1</td>\n",
       "      <td>0</td>\n",
       "      <td>...</td>\n",
       "      <td>2</td>\n",
       "      <td>2</td>\n",
       "      <td>0</td>\n",
       "      <td>1</td>\n",
       "      <td>3</td>\n",
       "      <td>10</td>\n",
       "      <td>0</td>\n",
       "      <td>0</td>\n",
       "      <td>2</td>\n",
       "      <td>1</td>\n",
       "    </tr>\n",
       "    <tr>\n",
       "      <td>95</td>\n",
       "      <td>0</td>\n",
       "      <td>0</td>\n",
       "      <td>0</td>\n",
       "      <td>0</td>\n",
       "      <td>0</td>\n",
       "      <td>0</td>\n",
       "      <td>0</td>\n",
       "      <td>0</td>\n",
       "      <td>0</td>\n",
       "      <td>0</td>\n",
       "      <td>...</td>\n",
       "      <td>32</td>\n",
       "      <td>1</td>\n",
       "      <td>0</td>\n",
       "      <td>2</td>\n",
       "      <td>7</td>\n",
       "      <td>0</td>\n",
       "      <td>15</td>\n",
       "      <td>0</td>\n",
       "      <td>0</td>\n",
       "      <td>0</td>\n",
       "    </tr>\n",
       "    <tr>\n",
       "      <td>96</td>\n",
       "      <td>0</td>\n",
       "      <td>5</td>\n",
       "      <td>0</td>\n",
       "      <td>0</td>\n",
       "      <td>0</td>\n",
       "      <td>0</td>\n",
       "      <td>0</td>\n",
       "      <td>0</td>\n",
       "      <td>0</td>\n",
       "      <td>0</td>\n",
       "      <td>...</td>\n",
       "      <td>0</td>\n",
       "      <td>0</td>\n",
       "      <td>0</td>\n",
       "      <td>4</td>\n",
       "      <td>0</td>\n",
       "      <td>0</td>\n",
       "      <td>0</td>\n",
       "      <td>45</td>\n",
       "      <td>0</td>\n",
       "      <td>0</td>\n",
       "    </tr>\n",
       "    <tr>\n",
       "      <td>97</td>\n",
       "      <td>0</td>\n",
       "      <td>0</td>\n",
       "      <td>0</td>\n",
       "      <td>0</td>\n",
       "      <td>0</td>\n",
       "      <td>0</td>\n",
       "      <td>0</td>\n",
       "      <td>0</td>\n",
       "      <td>0</td>\n",
       "      <td>0</td>\n",
       "      <td>...</td>\n",
       "      <td>6</td>\n",
       "      <td>0</td>\n",
       "      <td>0</td>\n",
       "      <td>1</td>\n",
       "      <td>13</td>\n",
       "      <td>0</td>\n",
       "      <td>2</td>\n",
       "      <td>0</td>\n",
       "      <td>26</td>\n",
       "      <td>1</td>\n",
       "    </tr>\n",
       "    <tr>\n",
       "      <td>98</td>\n",
       "      <td>0</td>\n",
       "      <td>0</td>\n",
       "      <td>0</td>\n",
       "      <td>0</td>\n",
       "      <td>0</td>\n",
       "      <td>0</td>\n",
       "      <td>0</td>\n",
       "      <td>0</td>\n",
       "      <td>0</td>\n",
       "      <td>0</td>\n",
       "      <td>...</td>\n",
       "      <td>0</td>\n",
       "      <td>11</td>\n",
       "      <td>0</td>\n",
       "      <td>2</td>\n",
       "      <td>0</td>\n",
       "      <td>0</td>\n",
       "      <td>0</td>\n",
       "      <td>0</td>\n",
       "      <td>0</td>\n",
       "      <td>55</td>\n",
       "    </tr>\n",
       "  </tbody>\n",
       "</table>\n",
       "<p>99 rows × 99 columns</p>\n",
       "</div>"
      ],
      "text/plain": [
       "    0   1   2   3   4   5   6   7   8   9   ...  89  90  91  92  93  94  95  \\\n",
       "0   37   6   0   0   0   0   0   0   6   0  ...   0   0   0   0   0   0   0   \n",
       "1    0  58   0   0   0   0   0   0   0   0  ...   0   0   0   0   0   0   0   \n",
       "2    0   0  63   0   0   0   0   0   0   0  ...   0   0   0   0   0   0   0   \n",
       "3    0   0   0  37  16   4   0   0   0   0  ...   0   0   0   0   0   0   0   \n",
       "4    0   0   0   0  55   0   0   0   0   0  ...   0   0   0   0   0   0   0   \n",
       "..  ..  ..  ..  ..  ..  ..  ..  ..  ..  ..  ...  ..  ..  ..  ..  ..  ..  ..   \n",
       "94   2   4   0   0   0   0   0   0   1   0  ...   2   2   0   1   3  10   0   \n",
       "95   0   0   0   0   0   0   0   0   0   0  ...  32   1   0   2   7   0  15   \n",
       "96   0   5   0   0   0   0   0   0   0   0  ...   0   0   0   4   0   0   0   \n",
       "97   0   0   0   0   0   0   0   0   0   0  ...   6   0   0   1  13   0   2   \n",
       "98   0   0   0   0   0   0   0   0   0   0  ...   0  11   0   2   0   0   0   \n",
       "\n",
       "    96  97  98  \n",
       "0    0   0   0  \n",
       "1    0   0   0  \n",
       "2    0   0   0  \n",
       "3    0   0   0  \n",
       "4    0   0   0  \n",
       "..  ..  ..  ..  \n",
       "94   0   2   1  \n",
       "95   0   0   0  \n",
       "96  45   0   0  \n",
       "97   0  26   1  \n",
       "98   0   0  55  \n",
       "\n",
       "[99 rows x 99 columns]"
      ]
     },
     "execution_count": 54,
     "metadata": {},
     "output_type": "execute_result"
    }
   ],
   "source": [
    "from sklearn.metrics import confusion_matrix\n",
    "confusion_matrix = confusion_matrix(y_test, y_pred_nb)\n",
    "pd.DataFrame(confusion_matrix)"
   ]
  },
  {
   "cell_type": "code",
   "execution_count": 55,
   "metadata": {
    "scrolled": true
   },
   "outputs": [
    {
     "name": "stdout",
     "output_type": "stream",
     "text": [
      "                                                            precision    recall  f1-score   support\n",
      "\n",
      "                               12V OUTLET - CHARGING ISSUE       0.95      0.51      0.67        72\n",
      "                                          ALIGNMENT - PULL       0.65      0.97      0.78        60\n",
      "                             AM/FM RADIO - RECEPTION ISSUE       0.60      0.93      0.73        68\n",
      "                            ANDROID AUTO - DISSATISFACTION       0.49      0.53      0.51        70\n",
      "                       ANDROID AUTO - FEATURE AVAILABILITY       0.65      0.82      0.73        67\n",
      "                      APPLE CARPLAY - FEATURE AVAILABILITY       0.89      0.77      0.83        77\n",
      "                         AUDIO (GENERAL) - DISSATISFACTION       0.75      0.56      0.64        64\n",
      "                           AUDIO (GENERAL) - SOUND QUALITY       0.69      0.63      0.66        65\n",
      "                               BRAKE PADS - ABNORMAL NOISE       0.62      0.75      0.68        80\n",
      "                               BRAKE PADS - EXCESSIVE DUST       0.94      0.98      0.96        61\n",
      "                               BRAKE PEDAL - GENERAL ISSUE       0.59      1.00      0.74        58\n",
      "                                   BRAKES - ABNORMAL NOISE       0.90      0.53      0.67        85\n",
      "                                 BRAKES - POOR PERFORMANCE       0.86      0.89      0.87        54\n",
      "                                          BT - AUDIO ISSUE       0.43      0.99      0.60        69\n",
      "             BT - CONNECTION ISSUE (AFTER INITIAL PAIRING)       0.60      0.64      0.62        70\n",
      "                                        BT - PAIRING ISSUE       0.45      0.41      0.43        61\n",
      "                               CD PLAYER - DISSATISFACTION       0.61      0.85      0.71        59\n",
      "                                   CLUTCH - ABNORMAL NOISE       0.81      0.79      0.80        76\n",
      "                                        CLUTCH - VIBRATION       0.82      0.91      0.86        66\n",
      "                               COMBI METER - ABNORMAL WEAR       0.78      1.00      0.88        63\n",
      "                       COMBI METER - FUEL GAUGE INACCURATE       0.75      0.87      0.81        55\n",
      "                         CUP HOLDER - FEATURE AVAILABILITY       0.91      0.94      0.92        62\n",
      "                             DOOR (FRONT) - ABNORMAL NOISE       0.55      0.83      0.66        70\n",
      "                            DOOR (FRONT) - LOOSE COMPONENT       0.98      0.59      0.73        75\n",
      "                     DOOR (FRONT) - OPENING/CLOSING EFFORT       0.91      0.93      0.92        73\n",
      "                                 DOOR (FRONT) - WIND NOISE       0.38      0.32      0.34        82\n",
      "                      DOOR (REAR) - OPENING/CLOSING EFFORT       0.94      0.90      0.92        72\n",
      "                           DOOR (UNSPECIFIED) - WIND NOISE       0.87      0.64      0.74        70\n",
      "                       DOOR LOCK (GENERAL) - GENERAL ISSUE       0.85      0.87      0.86        70\n",
      "ENGINE (DIESEL) - DRIVING RANGE DOES NOT MEET EXPECTATIONS       0.92      0.56      0.69        59\n",
      " ENGINE (DIESEL) - FUEL ECONOMY DOES NOT MEET EXPECTATIONS       0.46      0.97      0.62        72\n",
      "                             ENGINE (GAS) - ABNORMAL NOISE       0.82      0.82      0.82        71\n",
      "                  ENGINE (GAS) - ABNORMAL NOISE AT STARTUP       0.93      0.60      0.73        62\n",
      "         ENGINE (GAS) - ABNORMAL NOISE DURING ACCELERATION       0.84      0.65      0.73        79\n",
      "    ENGINE (GAS) - FUEL ECONOMY DOES NOT MEET EXPECTATIONS       0.63      0.48      0.55        60\n",
      "                              ENGINE (GAS) - LACK OF POWER       0.80      0.76      0.78        67\n",
      "                          ENGINE (GAS) - POOR ACCELERATION       0.66      0.58      0.62        60\n",
      "                           ENGINE (GAS) - POOR PERFORMANCE       0.69      0.79      0.74        73\n",
      "    ENGINE (R9N) - FUEL ECONOMY DOES NOT MEET EXPECTATIONS       0.90      0.61      0.73        75\n",
      "                                 GLOVEBOX - ABNORMAL NOISE       0.87      0.78      0.82        74\n",
      "                             GLOVEBOX - INADEQUATE STORAGE       0.94      0.85      0.89        74\n",
      "                               HEADLAMP - POOR PERFORMANCE       0.98      0.89      0.93        55\n",
      "                     HEADREST - INSUFFICIENT ADJUSTABILITY       0.98      0.85      0.91        67\n",
      "                                  HEADREST - UNCOMFORTABLE       0.87      1.00      0.93        68\n",
      "                                        HOOD - DENTS/DINGS       0.83      0.92      0.87        60\n",
      "HVAC (GENERAL) - DIFFICULT TO CONTROL/REGULATE TEMPERATURE       0.86      0.97      0.91        58\n",
      "                         INSTRUMENT PANEL - ABNORMAL NOISE       0.68      0.75      0.72        65\n",
      "               INTERIOR (GENERAL) - NOT ENOUGH INFORMATION       0.80      0.46      0.59        80\n",
      "                         INTERIOR (GENERAL) - POOR QUALITY       0.62      0.89      0.73        64\n",
      "                                         ISS - INOPERATIVE       0.95      0.95      0.95        61\n",
      "                                      M/T - ABNORMAL NOISE       0.52      0.58      0.55        57\n",
      "                          M/T - DIFFICULT TO GET INTO GEAR       0.74      0.73      0.73        70\n",
      "                                  M/T - DIFFICULT TO SHIFT       0.69      0.83      0.75        63\n",
      "               NAVI - CUSTOMER DOES NOT UNDERSTAND FEATURE       0.63      0.38      0.47        72\n",
      "                                    NAVI - DISSATISFACTION       0.50      0.11      0.18        72\n",
      "                                                NAVI - DTU       0.76      0.38      0.50        85\n",
      "                                      NAVI - GENERAL ISSUE       0.75      0.21      0.33        72\n",
      "                                NAVI - LEVEL OF MAP DETAIL       0.51      0.92      0.65        59\n",
      "                                              NAVI - OTHER       0.60      0.56      0.58        79\n",
      "                                            NAVI - REBOOTS       0.68      0.30      0.41        71\n",
      "                                      NAVI - ROUTING ISSUE       0.68      0.44      0.54        68\n",
      "                                     NAVI - TOO MANY STEPS       0.44      0.94      0.60        68\n",
      "                     NISSAN CONNECT APPS - DISSATISFACTION       0.75      0.42      0.54        64\n",
      "                                 NISSAN CONNECT APPS - DTU       0.53      0.80      0.64        54\n",
      "                         NISSAN CONNECT APPS - INOPERATIVE       0.52      0.62      0.56        74\n",
      "           NOT ENOUGH INFORMATION - NOT ENOUGH INFORMATION       0.83      0.07      0.12        75\n",
      "                            NOT ENOUGH INFORMATION - OTHER       0.84      0.24      0.37        68\n",
      "                                           PAINT - BUBBLES       0.91      0.97      0.94        60\n",
      "                                      PAINT - CHIPS EASILY       0.78      0.45      0.57        56\n",
      "                                   PAINT - DISSATISFACTION       0.78      0.63      0.69        67\n",
      "                                  PAINT - POOR COLOR MATCH       0.58      0.99      0.73        74\n",
      "                                  PAINT - SCRATCHES EASILY       0.71      0.56      0.63        78\n",
      "                                     ROOF - ABNORMAL NOISE       0.74      1.00      0.85        62\n",
      "                            SEAT (DRIVER) - ABNORMAL NOISE       0.92      0.90      0.91        73\n",
      "                           SEAT (DRIVER) - DISSATISFACTION       0.62      0.57      0.59        53\n",
      "                SEAT (DRIVER) - INSUFFICIENT ADJUSTABILITY       0.91      0.78      0.84        80\n",
      "                    SEAT (DRIVER) - NOT ENOUGH INFORMATION       0.81      0.61      0.69        71\n",
      "                             SEAT (DRIVER) - UNCOMFORTABLE       0.58      0.94      0.72        68\n",
      "                         SEAT (THIRD ROW) - POOR ROOMINESS       0.94      1.00      0.97        73\n",
      "                       SIDE WINDOWS/GLASS - ABNORMAL NOISE       0.55      0.83      0.66        66\n",
      "                        SIDE WINDOWS/GLASS - GENERAL ISSUE       0.96      0.91      0.93        87\n",
      "                     SIDE WINDOWS/GLASS - MOISTURE BUILDUP       0.89      0.89      0.89        85\n",
      "                           SIDE WINDOWS/GLASS - WIND NOISE       0.49      0.80      0.61        69\n",
      "                                   SPEAKER - SOUND QUALITY       0.57      0.87      0.69        70\n",
      "                                    STEERING - HIGH EFFORT       0.72      0.81      0.76        59\n",
      "            STEERING - RESPONSE DOES NOT MEET EXPECTATIONS       0.75      0.81      0.78        72\n",
      "                                    STRUT - ABNORMAL NOISE       0.66      0.87      0.75        75\n",
      "                     SUSPENSION (GENERAL) - ABNORMAL NOISE       0.98      0.63      0.77        63\n",
      "                                                       TBD       0.00      0.00      0.00        64\n",
      "                                        TIRES - ROAD NOISE       0.42      1.00      0.59        64\n",
      "                         TRUNK/CARGO AREA - ABNORMAL NOISE       0.54      0.74      0.62        65\n",
      "                        USB INPUT - NOT ENOUGH INPUT PORTS       0.98      0.94      0.96        68\n",
      "                        VEHICLE (GENERAL) - ABNORMAL NOISE       0.51      0.54      0.52        52\n",
      "                       VEHICLE (GENERAL) - EXCESSIVE NOISE       0.35      0.32      0.33        60\n",
      "                VEHICLE (GENERAL) - NOT ENOUGH INFORMATION       1.00      0.14      0.24        72\n",
      "                            VEHICLE (GENERAL) - ROAD NOISE       0.37      0.22      0.28        68\n",
      "                             VEHICLE (GENERAL) - VIBRATION       0.80      0.71      0.76        63\n",
      "                            VEHICLE (GENERAL) - WIND NOISE       0.90      0.35      0.50        74\n",
      "                   VEHICLE REAR (GENERAL) - ABNORMAL NOISE       0.74      0.76      0.75        72\n",
      "\n",
      "                                                  accuracy                           0.70      6732\n",
      "                                                 macro avg       0.72      0.70      0.68      6732\n",
      "                                              weighted avg       0.73      0.70      0.68      6732\n",
      "\n"
     ]
    },
    {
     "name": "stderr",
     "output_type": "stream",
     "text": [
      "C:\\ProgramData\\Anaconda3\\lib\\site-packages\\sklearn\\metrics\\_classification.py:1272: UndefinedMetricWarning: Precision and F-score are ill-defined and being set to 0.0 in labels with no predicted samples. Use `zero_division` parameter to control this behavior.\n",
      "  _warn_prf(average, modifier, msg_start, len(result))\n"
     ]
    }
   ],
   "source": [
    "print(classification_report(y_test, y_pred_nb))"
   ]
  },
  {
   "cell_type": "markdown",
   "metadata": {},
   "source": [
    "# SVM"
   ]
  },
  {
   "cell_type": "code",
   "execution_count": 56,
   "metadata": {},
   "outputs": [
    {
     "data": {
      "text/plain": [
       "0.8801619132501486"
      ]
     },
     "execution_count": 56,
     "metadata": {},
     "output_type": "execute_result"
    }
   ],
   "source": [
    "from sklearn.svm import SVC\n",
    "#SVC(C=4,kernel='linear',gamma='auto') - split 80%\n",
    "#{'C': 1, 'gamma': 'auto', 'kernel': 'linear'} - split 70%\n",
    "svm= SVC(C=4,kernel='linear',gamma='auto')\n",
    "svm.fit(cv_train,y_train)\n",
    "svm.score(cv_train,y_train)"
   ]
  },
  {
   "cell_type": "code",
   "execution_count": 57,
   "metadata": {},
   "outputs": [
    {
     "data": {
      "text/plain": [
       "0.8673499702911468"
      ]
     },
     "execution_count": 57,
     "metadata": {},
     "output_type": "execute_result"
    }
   ],
   "source": [
    "svm.score(cv_test,y_test)"
   ]
  },
  {
   "cell_type": "code",
   "execution_count": 58,
   "metadata": {},
   "outputs": [],
   "source": [
    "y_pred_svm=svm.predict(cv_test)"
   ]
  },
  {
   "cell_type": "code",
   "execution_count": 59,
   "metadata": {},
   "outputs": [
    {
     "name": "stdout",
     "output_type": "stream",
     "text": [
      "accuracy 0.8673499702911468\n"
     ]
    }
   ],
   "source": [
    "from sklearn.metrics import accuracy_score\n",
    "print('accuracy %s' % accuracy_score(y_pred_svm, y_test))"
   ]
  },
  {
   "cell_type": "code",
   "execution_count": 63,
   "metadata": {
    "scrolled": true
   },
   "outputs": [
    {
     "name": "stdout",
     "output_type": "stream",
     "text": [
      "                                                            precision    recall  f1-score   support\n",
      "\n",
      "                               12V OUTLET - CHARGING ISSUE       0.89      0.82      0.86        72\n",
      "                                          ALIGNMENT - PULL       0.87      0.97      0.91        60\n",
      "                             AM/FM RADIO - RECEPTION ISSUE       0.81      1.00      0.89        68\n",
      "                            ANDROID AUTO - DISSATISFACTION       0.66      0.60      0.63        70\n",
      "                       ANDROID AUTO - FEATURE AVAILABILITY       0.75      0.94      0.83        67\n",
      "                      APPLE CARPLAY - FEATURE AVAILABILITY       1.00      0.96      0.98        77\n",
      "                         AUDIO (GENERAL) - DISSATISFACTION       0.87      0.83      0.85        64\n",
      "                           AUDIO (GENERAL) - SOUND QUALITY       0.95      0.95      0.95        65\n",
      "                               BRAKE PADS - ABNORMAL NOISE       0.76      0.90      0.82        80\n",
      "                               BRAKE PADS - EXCESSIVE DUST       1.00      1.00      1.00        61\n",
      "                               BRAKE PEDAL - GENERAL ISSUE       0.85      1.00      0.92        58\n",
      "                                   BRAKES - ABNORMAL NOISE       0.95      0.74      0.83        85\n",
      "                                 BRAKES - POOR PERFORMANCE       0.98      0.98      0.98        54\n",
      "                                          BT - AUDIO ISSUE       0.49      0.99      0.65        69\n",
      "             BT - CONNECTION ISSUE (AFTER INITIAL PAIRING)       0.68      0.74      0.71        70\n",
      "                                        BT - PAIRING ISSUE       0.81      0.41      0.54        61\n",
      "                               CD PLAYER - DISSATISFACTION       0.95      1.00      0.98        59\n",
      "                                   CLUTCH - ABNORMAL NOISE       0.94      1.00      0.97        76\n",
      "                                        CLUTCH - VIBRATION       0.94      0.92      0.93        66\n",
      "                               COMBI METER - ABNORMAL WEAR       1.00      1.00      1.00        63\n",
      "                       COMBI METER - FUEL GAUGE INACCURATE       0.98      1.00      0.99        55\n",
      "                         CUP HOLDER - FEATURE AVAILABILITY       1.00      0.97      0.98        62\n",
      "                             DOOR (FRONT) - ABNORMAL NOISE       0.90      0.86      0.88        70\n",
      "                            DOOR (FRONT) - LOOSE COMPONENT       0.89      0.96      0.92        75\n",
      "                     DOOR (FRONT) - OPENING/CLOSING EFFORT       0.96      0.97      0.97        73\n",
      "                                 DOOR (FRONT) - WIND NOISE       0.96      0.67      0.79        82\n",
      "                      DOOR (REAR) - OPENING/CLOSING EFFORT       0.99      0.96      0.97        72\n",
      "                           DOOR (UNSPECIFIED) - WIND NOISE       1.00      0.94      0.97        70\n",
      "                       DOOR LOCK (GENERAL) - GENERAL ISSUE       1.00      1.00      1.00        70\n",
      "ENGINE (DIESEL) - DRIVING RANGE DOES NOT MEET EXPECTATIONS       0.92      0.81      0.86        59\n",
      " ENGINE (DIESEL) - FUEL ECONOMY DOES NOT MEET EXPECTATIONS       0.97      0.46      0.62        72\n",
      "                             ENGINE (GAS) - ABNORMAL NOISE       1.00      0.89      0.94        71\n",
      "                  ENGINE (GAS) - ABNORMAL NOISE AT STARTUP       0.87      1.00      0.93        62\n",
      "         ENGINE (GAS) - ABNORMAL NOISE DURING ACCELERATION       1.00      0.99      0.99        79\n",
      "    ENGINE (GAS) - FUEL ECONOMY DOES NOT MEET EXPECTATIONS       0.41      0.95      0.58        60\n",
      "                              ENGINE (GAS) - LACK OF POWER       0.96      0.99      0.97        67\n",
      "                          ENGINE (GAS) - POOR ACCELERATION       0.96      0.88      0.92        60\n",
      "                           ENGINE (GAS) - POOR PERFORMANCE       0.92      1.00      0.96        73\n",
      "    ENGINE (R9N) - FUEL ECONOMY DOES NOT MEET EXPECTATIONS       1.00      0.59      0.74        75\n",
      "                                 GLOVEBOX - ABNORMAL NOISE       0.94      1.00      0.97        74\n",
      "                             GLOVEBOX - INADEQUATE STORAGE       0.99      0.91      0.94        74\n",
      "                               HEADLAMP - POOR PERFORMANCE       1.00      1.00      1.00        55\n",
      "                     HEADREST - INSUFFICIENT ADJUSTABILITY       1.00      0.87      0.93        67\n",
      "                                  HEADREST - UNCOMFORTABLE       0.96      1.00      0.98        68\n",
      "                                        HOOD - DENTS/DINGS       1.00      1.00      1.00        60\n",
      "HVAC (GENERAL) - DIFFICULT TO CONTROL/REGULATE TEMPERATURE       0.98      1.00      0.99        58\n",
      "                         INSTRUMENT PANEL - ABNORMAL NOISE       0.81      0.98      0.89        65\n",
      "               INTERIOR (GENERAL) - NOT ENOUGH INFORMATION       0.97      0.81      0.88        80\n",
      "                         INTERIOR (GENERAL) - POOR QUALITY       0.98      1.00      0.99        64\n",
      "                                         ISS - INOPERATIVE       0.98      1.00      0.99        61\n",
      "                                      M/T - ABNORMAL NOISE       0.95      0.96      0.96        57\n",
      "                          M/T - DIFFICULT TO GET INTO GEAR       0.93      1.00      0.97        70\n",
      "                                  M/T - DIFFICULT TO SHIFT       0.94      0.92      0.93        63\n",
      "               NAVI - CUSTOMER DOES NOT UNDERSTAND FEATURE       0.96      0.71      0.82        72\n",
      "                                    NAVI - DISSATISFACTION       0.76      0.51      0.61        72\n",
      "                                                NAVI - DTU       0.89      0.40      0.55        85\n",
      "                                      NAVI - GENERAL ISSUE       0.98      0.65      0.78        72\n",
      "                                NAVI - LEVEL OF MAP DETAIL       0.75      1.00      0.86        59\n",
      "                                              NAVI - OTHER       0.99      0.84      0.90        79\n",
      "                                            NAVI - REBOOTS       0.83      0.80      0.81        71\n",
      "                                      NAVI - ROUTING ISSUE       0.70      0.63      0.67        68\n",
      "                                     NAVI - TOO MANY STEPS       0.48      0.91      0.63        68\n",
      "                     NISSAN CONNECT APPS - DISSATISFACTION       0.89      0.73      0.80        64\n",
      "                                 NISSAN CONNECT APPS - DTU       0.68      0.85      0.75        54\n",
      "                         NISSAN CONNECT APPS - INOPERATIVE       0.85      0.82      0.84        74\n",
      "           NOT ENOUGH INFORMATION - NOT ENOUGH INFORMATION       0.85      0.59      0.69        75\n",
      "                            NOT ENOUGH INFORMATION - OTHER       0.98      0.90      0.94        68\n",
      "                                           PAINT - BUBBLES       1.00      1.00      1.00        60\n",
      "                                      PAINT - CHIPS EASILY       0.84      0.82      0.83        56\n",
      "                                   PAINT - DISSATISFACTION       1.00      0.93      0.96        67\n",
      "                                  PAINT - POOR COLOR MATCH       0.80      1.00      0.89        74\n",
      "                                  PAINT - SCRATCHES EASILY       0.83      0.71      0.76        78\n",
      "                                     ROOF - ABNORMAL NOISE       1.00      0.98      0.99        62\n",
      "                            SEAT (DRIVER) - ABNORMAL NOISE       0.96      1.00      0.98        73\n",
      "                           SEAT (DRIVER) - DISSATISFACTION       0.87      0.85      0.86        53\n",
      "                SEAT (DRIVER) - INSUFFICIENT ADJUSTABILITY       0.97      0.80      0.88        80\n",
      "                    SEAT (DRIVER) - NOT ENOUGH INFORMATION       0.76      0.77      0.77        71\n",
      "                             SEAT (DRIVER) - UNCOMFORTABLE       0.66      0.93      0.77        68\n",
      "                         SEAT (THIRD ROW) - POOR ROOMINESS       0.99      1.00      0.99        73\n",
      "                       SIDE WINDOWS/GLASS - ABNORMAL NOISE       0.68      0.83      0.75        66\n",
      "                        SIDE WINDOWS/GLASS - GENERAL ISSUE       0.99      0.91      0.95        87\n",
      "                     SIDE WINDOWS/GLASS - MOISTURE BUILDUP       0.99      1.00      0.99        85\n",
      "                           SIDE WINDOWS/GLASS - WIND NOISE       0.68      0.86      0.76        69\n",
      "                                   SPEAKER - SOUND QUALITY       0.91      0.99      0.95        70\n",
      "                                    STEERING - HIGH EFFORT       0.96      0.93      0.95        59\n",
      "            STEERING - RESPONSE DOES NOT MEET EXPECTATIONS       0.96      0.97      0.97        72\n",
      "                                    STRUT - ABNORMAL NOISE       1.00      1.00      1.00        75\n",
      "                     SUSPENSION (GENERAL) - ABNORMAL NOISE       1.00      0.98      0.99        63\n",
      "                                                       TBD       0.68      0.20      0.31        64\n",
      "                                        TIRES - ROAD NOISE       0.52      1.00      0.68        64\n",
      "                         TRUNK/CARGO AREA - ABNORMAL NOISE       0.91      0.78      0.84        65\n",
      "                        USB INPUT - NOT ENOUGH INPUT PORTS       0.99      1.00      0.99        68\n",
      "                        VEHICLE (GENERAL) - ABNORMAL NOISE       0.85      1.00      0.92        52\n",
      "                       VEHICLE (GENERAL) - EXCESSIVE NOISE       0.85      0.57      0.68        60\n",
      "                VEHICLE (GENERAL) - NOT ENOUGH INFORMATION       0.89      0.58      0.71        72\n",
      "                            VEHICLE (GENERAL) - ROAD NOISE       0.91      0.46      0.61        68\n",
      "                             VEHICLE (GENERAL) - VIBRATION       0.98      1.00      0.99        63\n",
      "                            VEHICLE (GENERAL) - WIND NOISE       0.62      0.78      0.69        74\n",
      "                   VEHICLE REAR (GENERAL) - ABNORMAL NOISE       0.76      0.94      0.84        72\n",
      "\n",
      "                                                  accuracy                           0.86      6732\n",
      "                                                 macro avg       0.89      0.87      0.86      6732\n",
      "                                              weighted avg       0.89      0.86      0.86      6732\n",
      "\n"
     ]
    }
   ],
   "source": [
    "print(classification_report(y_test, y_pred_svm))"
   ]
  },
  {
   "cell_type": "markdown",
   "metadata": {},
   "source": [
    "#Grid Search"
   ]
  },
  {
   "cell_type": "code",
   "execution_count": 186,
   "metadata": {},
   "outputs": [
    {
     "name": "stderr",
     "output_type": "stream",
     "text": [
      "C:\\ProgramData\\Anaconda3\\lib\\site-packages\\sklearn\\model_selection\\_split.py:1978: FutureWarning: The default value of cv will change from 3 to 5 in version 0.22. Specify it explicitly to silence this warning.\n",
      "  warnings.warn(CV_WARNING, FutureWarning)\n"
     ]
    },
    {
     "name": "stdout",
     "output_type": "stream",
     "text": [
      "Best Hyper Parameters:\n",
      " {'C': 1, 'gamma': 'auto', 'kernel': 'linear'}\n",
      "Accuracy: 0.6908060453400504\n",
      "Confusion Metrix:\n",
      " [[  0   0   0 ...   0   0   0]\n",
      " [  0   7   0 ...   0   1   0]\n",
      " [  0   0   6 ...   0   0   0]\n",
      " ...\n",
      " [  0   0   0 ...   3   0   0]\n",
      " [  1   0   0 ...   0 123   0]\n",
      " [  0   0   0 ...   0   0   0]]\n"
     ]
    }
   ],
   "source": [
    "#importing modules\n",
    "from sklearn.model_selection import GridSearchCV\n",
    "from sklearn import svm\n",
    "#making the instance\n",
    "model_svm=svm.SVC()\n",
    "#Hyper Parameters Set\n",
    "params = {'C': [1,2,3,4,5,6,7,8,9,10,11,12], \n",
    "          'kernel': ['linear','rbf','poly'],\n",
    "         'gamma':['auto','scale']}\n",
    "#Making models with hyper parameters sets\n",
    "model1 = GridSearchCV(model_svm, param_grid=params, n_jobs=-1)\n",
    "#Learning\n",
    "model1.fit(cv_train,y_train)\n",
    "#The best hyper parameters set\n",
    "print(\"Best Hyper Parameters:\\n\",model1.best_params_)\n",
    "#Prediction\n",
    "prediction=model1.predict(cv_test)\n",
    "#importing the metrics module\n",
    "from sklearn import metrics\n",
    "#evaluation(Accuracy)\n",
    "print(\"Accuracy:\",metrics.accuracy_score(prediction,y_test))\n",
    "#evaluation(Confusion Metrix)\n",
    "print(\"Confusion Metrix:\\n\",metrics.confusion_matrix(prediction,y_test))"
   ]
  },
  {
   "cell_type": "markdown",
   "metadata": {},
   "source": [
    "# KNeighborsClassifier"
   ]
  },
  {
   "cell_type": "code",
   "execution_count": 60,
   "metadata": {},
   "outputs": [
    {
     "data": {
      "text/plain": [
       "0.8278000594177065"
      ]
     },
     "execution_count": 60,
     "metadata": {},
     "output_type": "execute_result"
    }
   ],
   "source": [
    "from sklearn.neighbors import KNeighborsClassifier\n",
    "# {'algorithm': 'auto', 'leaf_size': 30, 'n_jobs': -1, 'n_neighbors': 5, 'p': 1, 'weights': 'distance'}\n",
    "#{'algorithm': 'auto', 'leaf_size': 30, 'n_jobs': -1, 'n_neighbors': 9, 'p': 2, 'weights': 'uniform'} - Split-80%\n",
    "# {'algorithm': 'auto', 'leaf_size': 30, 'n_jobs': -1, 'n_neighbors': 7, 'p': 2, 'weights': 'distance'} - split -70\n",
    "knn = KNeighborsClassifier(n_neighbors=9,p=2,weights='uniform',leaf_size=30,algorithm='auto')\n",
    "knn.fit(cv_train,y_train)\n",
    "knn.score(cv_train,y_train)"
   ]
  },
  {
   "cell_type": "code",
   "execution_count": 61,
   "metadata": {},
   "outputs": [
    {
     "data": {
      "text/plain": [
       "0.7936720142602496"
      ]
     },
     "execution_count": 61,
     "metadata": {},
     "output_type": "execute_result"
    }
   ],
   "source": [
    "knn.score(cv_test,y_test)"
   ]
  },
  {
   "cell_type": "code",
   "execution_count": 62,
   "metadata": {},
   "outputs": [
    {
     "name": "stdout",
     "output_type": "stream",
     "text": [
      "accuracy 0.7936720142602496\n"
     ]
    }
   ],
   "source": [
    "y_pred_knn=knn.predict(cv_test)\n",
    "print('accuracy %s' % accuracy_score(y_pred_knn, y_test))"
   ]
  },
  {
   "cell_type": "code",
   "execution_count": 63,
   "metadata": {},
   "outputs": [
    {
     "name": "stdout",
     "output_type": "stream",
     "text": [
      "                                                            precision    recall  f1-score   support\n",
      "\n",
      "                               12V OUTLET - CHARGING ISSUE       0.95      0.51      0.67        72\n",
      "                                          ALIGNMENT - PULL       0.65      0.97      0.78        60\n",
      "                             AM/FM RADIO - RECEPTION ISSUE       0.60      0.93      0.73        68\n",
      "                            ANDROID AUTO - DISSATISFACTION       0.49      0.53      0.51        70\n",
      "                       ANDROID AUTO - FEATURE AVAILABILITY       0.65      0.82      0.73        67\n",
      "                      APPLE CARPLAY - FEATURE AVAILABILITY       0.89      0.77      0.83        77\n",
      "                         AUDIO (GENERAL) - DISSATISFACTION       0.75      0.56      0.64        64\n",
      "                           AUDIO (GENERAL) - SOUND QUALITY       0.69      0.63      0.66        65\n",
      "                               BRAKE PADS - ABNORMAL NOISE       0.62      0.75      0.68        80\n",
      "                               BRAKE PADS - EXCESSIVE DUST       0.94      0.98      0.96        61\n",
      "                               BRAKE PEDAL - GENERAL ISSUE       0.59      1.00      0.74        58\n",
      "                                   BRAKES - ABNORMAL NOISE       0.90      0.53      0.67        85\n",
      "                                 BRAKES - POOR PERFORMANCE       0.86      0.89      0.87        54\n",
      "                                          BT - AUDIO ISSUE       0.43      0.99      0.60        69\n",
      "             BT - CONNECTION ISSUE (AFTER INITIAL PAIRING)       0.60      0.64      0.62        70\n",
      "                                        BT - PAIRING ISSUE       0.45      0.41      0.43        61\n",
      "                               CD PLAYER - DISSATISFACTION       0.61      0.85      0.71        59\n",
      "                                   CLUTCH - ABNORMAL NOISE       0.81      0.79      0.80        76\n",
      "                                        CLUTCH - VIBRATION       0.82      0.91      0.86        66\n",
      "                               COMBI METER - ABNORMAL WEAR       0.78      1.00      0.88        63\n",
      "                       COMBI METER - FUEL GAUGE INACCURATE       0.75      0.87      0.81        55\n",
      "                         CUP HOLDER - FEATURE AVAILABILITY       0.91      0.94      0.92        62\n",
      "                             DOOR (FRONT) - ABNORMAL NOISE       0.55      0.83      0.66        70\n",
      "                            DOOR (FRONT) - LOOSE COMPONENT       0.98      0.59      0.73        75\n",
      "                     DOOR (FRONT) - OPENING/CLOSING EFFORT       0.91      0.93      0.92        73\n",
      "                                 DOOR (FRONT) - WIND NOISE       0.38      0.32      0.34        82\n",
      "                      DOOR (REAR) - OPENING/CLOSING EFFORT       0.94      0.90      0.92        72\n",
      "                           DOOR (UNSPECIFIED) - WIND NOISE       0.87      0.64      0.74        70\n",
      "                       DOOR LOCK (GENERAL) - GENERAL ISSUE       0.85      0.87      0.86        70\n",
      "ENGINE (DIESEL) - DRIVING RANGE DOES NOT MEET EXPECTATIONS       0.92      0.56      0.69        59\n",
      " ENGINE (DIESEL) - FUEL ECONOMY DOES NOT MEET EXPECTATIONS       0.46      0.97      0.62        72\n",
      "                             ENGINE (GAS) - ABNORMAL NOISE       0.82      0.82      0.82        71\n",
      "                  ENGINE (GAS) - ABNORMAL NOISE AT STARTUP       0.93      0.60      0.73        62\n",
      "         ENGINE (GAS) - ABNORMAL NOISE DURING ACCELERATION       0.84      0.65      0.73        79\n",
      "    ENGINE (GAS) - FUEL ECONOMY DOES NOT MEET EXPECTATIONS       0.63      0.48      0.55        60\n",
      "                              ENGINE (GAS) - LACK OF POWER       0.80      0.76      0.78        67\n",
      "                          ENGINE (GAS) - POOR ACCELERATION       0.66      0.58      0.62        60\n",
      "                           ENGINE (GAS) - POOR PERFORMANCE       0.69      0.79      0.74        73\n",
      "    ENGINE (R9N) - FUEL ECONOMY DOES NOT MEET EXPECTATIONS       0.90      0.61      0.73        75\n",
      "                                 GLOVEBOX - ABNORMAL NOISE       0.87      0.78      0.82        74\n",
      "                             GLOVEBOX - INADEQUATE STORAGE       0.94      0.85      0.89        74\n",
      "                               HEADLAMP - POOR PERFORMANCE       0.98      0.89      0.93        55\n",
      "                     HEADREST - INSUFFICIENT ADJUSTABILITY       0.98      0.85      0.91        67\n",
      "                                  HEADREST - UNCOMFORTABLE       0.87      1.00      0.93        68\n",
      "                                        HOOD - DENTS/DINGS       0.83      0.92      0.87        60\n",
      "HVAC (GENERAL) - DIFFICULT TO CONTROL/REGULATE TEMPERATURE       0.86      0.97      0.91        58\n",
      "                         INSTRUMENT PANEL - ABNORMAL NOISE       0.68      0.75      0.72        65\n",
      "               INTERIOR (GENERAL) - NOT ENOUGH INFORMATION       0.80      0.46      0.59        80\n",
      "                         INTERIOR (GENERAL) - POOR QUALITY       0.62      0.89      0.73        64\n",
      "                                         ISS - INOPERATIVE       0.95      0.95      0.95        61\n",
      "                                      M/T - ABNORMAL NOISE       0.52      0.58      0.55        57\n",
      "                          M/T - DIFFICULT TO GET INTO GEAR       0.74      0.73      0.73        70\n",
      "                                  M/T - DIFFICULT TO SHIFT       0.69      0.83      0.75        63\n",
      "               NAVI - CUSTOMER DOES NOT UNDERSTAND FEATURE       0.63      0.38      0.47        72\n",
      "                                    NAVI - DISSATISFACTION       0.50      0.11      0.18        72\n",
      "                                                NAVI - DTU       0.76      0.38      0.50        85\n",
      "                                      NAVI - GENERAL ISSUE       0.75      0.21      0.33        72\n",
      "                                NAVI - LEVEL OF MAP DETAIL       0.51      0.92      0.65        59\n",
      "                                              NAVI - OTHER       0.60      0.56      0.58        79\n",
      "                                            NAVI - REBOOTS       0.68      0.30      0.41        71\n",
      "                                      NAVI - ROUTING ISSUE       0.68      0.44      0.54        68\n",
      "                                     NAVI - TOO MANY STEPS       0.44      0.94      0.60        68\n",
      "                     NISSAN CONNECT APPS - DISSATISFACTION       0.75      0.42      0.54        64\n",
      "                                 NISSAN CONNECT APPS - DTU       0.53      0.80      0.64        54\n",
      "                         NISSAN CONNECT APPS - INOPERATIVE       0.52      0.62      0.56        74\n",
      "           NOT ENOUGH INFORMATION - NOT ENOUGH INFORMATION       0.83      0.07      0.12        75\n",
      "                            NOT ENOUGH INFORMATION - OTHER       0.84      0.24      0.37        68\n",
      "                                           PAINT - BUBBLES       0.91      0.97      0.94        60\n",
      "                                      PAINT - CHIPS EASILY       0.78      0.45      0.57        56\n",
      "                                   PAINT - DISSATISFACTION       0.78      0.63      0.69        67\n",
      "                                  PAINT - POOR COLOR MATCH       0.58      0.99      0.73        74\n",
      "                                  PAINT - SCRATCHES EASILY       0.71      0.56      0.63        78\n",
      "                                     ROOF - ABNORMAL NOISE       0.74      1.00      0.85        62\n",
      "                            SEAT (DRIVER) - ABNORMAL NOISE       0.92      0.90      0.91        73\n",
      "                           SEAT (DRIVER) - DISSATISFACTION       0.62      0.57      0.59        53\n",
      "                SEAT (DRIVER) - INSUFFICIENT ADJUSTABILITY       0.91      0.78      0.84        80\n",
      "                    SEAT (DRIVER) - NOT ENOUGH INFORMATION       0.81      0.61      0.69        71\n",
      "                             SEAT (DRIVER) - UNCOMFORTABLE       0.58      0.94      0.72        68\n",
      "                         SEAT (THIRD ROW) - POOR ROOMINESS       0.94      1.00      0.97        73\n",
      "                       SIDE WINDOWS/GLASS - ABNORMAL NOISE       0.55      0.83      0.66        66\n",
      "                        SIDE WINDOWS/GLASS - GENERAL ISSUE       0.96      0.91      0.93        87\n",
      "                     SIDE WINDOWS/GLASS - MOISTURE BUILDUP       0.89      0.89      0.89        85\n",
      "                           SIDE WINDOWS/GLASS - WIND NOISE       0.49      0.80      0.61        69\n",
      "                                   SPEAKER - SOUND QUALITY       0.57      0.87      0.69        70\n",
      "                                    STEERING - HIGH EFFORT       0.72      0.81      0.76        59\n",
      "            STEERING - RESPONSE DOES NOT MEET EXPECTATIONS       0.75      0.81      0.78        72\n",
      "                                    STRUT - ABNORMAL NOISE       0.66      0.87      0.75        75\n",
      "                     SUSPENSION (GENERAL) - ABNORMAL NOISE       0.98      0.63      0.77        63\n",
      "                                                       TBD       0.00      0.00      0.00        64\n",
      "                                        TIRES - ROAD NOISE       0.42      1.00      0.59        64\n",
      "                         TRUNK/CARGO AREA - ABNORMAL NOISE       0.54      0.74      0.62        65\n",
      "                        USB INPUT - NOT ENOUGH INPUT PORTS       0.98      0.94      0.96        68\n",
      "                        VEHICLE (GENERAL) - ABNORMAL NOISE       0.51      0.54      0.52        52\n",
      "                       VEHICLE (GENERAL) - EXCESSIVE NOISE       0.35      0.32      0.33        60\n",
      "                VEHICLE (GENERAL) - NOT ENOUGH INFORMATION       1.00      0.14      0.24        72\n",
      "                            VEHICLE (GENERAL) - ROAD NOISE       0.37      0.22      0.28        68\n",
      "                             VEHICLE (GENERAL) - VIBRATION       0.80      0.71      0.76        63\n",
      "                            VEHICLE (GENERAL) - WIND NOISE       0.90      0.35      0.50        74\n",
      "                   VEHICLE REAR (GENERAL) - ABNORMAL NOISE       0.74      0.76      0.75        72\n",
      "\n",
      "                                                  accuracy                           0.70      6732\n",
      "                                                 macro avg       0.72      0.70      0.68      6732\n",
      "                                              weighted avg       0.73      0.70      0.68      6732\n",
      "\n"
     ]
    },
    {
     "name": "stderr",
     "output_type": "stream",
     "text": [
      "C:\\ProgramData\\Anaconda3\\lib\\site-packages\\sklearn\\metrics\\_classification.py:1272: UndefinedMetricWarning: Precision and F-score are ill-defined and being set to 0.0 in labels with no predicted samples. Use `zero_division` parameter to control this behavior.\n",
      "  _warn_prf(average, modifier, msg_start, len(result))\n"
     ]
    }
   ],
   "source": [
    "print(classification_report(y_test, y_pred_nb))"
   ]
  },
  {
   "cell_type": "markdown",
   "metadata": {},
   "source": [
    "#GridSearch"
   ]
  },
  {
   "cell_type": "code",
   "execution_count": null,
   "metadata": {},
   "outputs": [],
   "source": [
    "from sklearn.model_selection import GridSearchCV\n",
    "from sklearn.neighbors import KNeighborsClassifier\n",
    "#making the instance\n",
    "model = KNeighborsClassifier(n_jobs=-1)\n",
    "#Hyper Parameters Set\n",
    "params = {'n_neighbors':[5,6,7,8,9],\n",
    "          'leaf_size':[30,40,50],\n",
    "          'weights':['uniform', 'distance'],\n",
    "          'algorithm':['auto', 'ball_tree','kd_tree','brute'],\n",
    "          'p':[1,2],\n",
    "          'n_jobs':[-1]}\n",
    "#Making models with hyper parameters sets\n",
    "model1 = GridSearchCV(model, param_grid=params, n_jobs=-1)\n",
    "#Learning\n",
    "model1.fit(cv_train,y_train)\n",
    "#The best hyper parameters set\n",
    "print(\"Best Hyper Parameters:\\n\",model1.best_params_)\n",
    "#Prediction\n",
    "prediction=model1.predict(cv_test)\n",
    "#importing the metrics module\n",
    "from sklearn import metrics\n",
    "#evaluation(Accuracy)\n",
    "print(\"Accuracy:\",metrics.accuracy_score(prediction,y_test))\n",
    "#evaluation(Confusion Metrix)\n",
    "print(\"Confusion Metrix:\\n\",metrics.confusion_matrix(prediction,y_test))"
   ]
  },
  {
   "cell_type": "markdown",
   "metadata": {},
   "source": [
    "# Gradient Boosting"
   ]
  },
  {
   "cell_type": "code",
   "execution_count": 180,
   "metadata": {},
   "outputs": [],
   "source": [
    "from sklearn.ensemble import GradientBoostingClassifier\n",
    "GBC=GradientBoostingClassifier(n_estimators=500,random_state=400)"
   ]
  },
  {
   "cell_type": "code",
   "execution_count": 184,
   "metadata": {},
   "outputs": [],
   "source": [
    "GBC.fit(cv_train,y_train)"
   ]
  },
  {
   "cell_type": "code",
   "execution_count": null,
   "metadata": {},
   "outputs": [],
   "source": [
    "GBC.score(cv_test,y_test)"
   ]
  },
  {
   "cell_type": "code",
   "execution_count": null,
   "metadata": {},
   "outputs": [],
   "source": [
    "y_pred_gbc=GBC.predict(cv_test)"
   ]
  },
  {
   "cell_type": "code",
   "execution_count": null,
   "metadata": {},
   "outputs": [],
   "source": [
    "from sklearn.metrics import accuracy_score\n",
    "print('accuracy %s' % accuracy_score(y_pred_gbc,y_test))"
   ]
  },
  {
   "cell_type": "code",
   "execution_count": 331,
   "metadata": {
    "scrolled": true
   },
   "outputs": [
    {
     "name": "stdout",
     "output_type": "stream",
     "text": [
      "                         precision    recall  f1-score   support\n",
      "\n",
      "             ALIGNMENT        0.94      1.00      0.97       197\n",
      "           AM/FM RADIO        0.96      1.00      0.98       186\n",
      "          ANDROID AUTO        0.97      0.98      0.97       180\n",
      "         APPLE CARPLAY        0.99      1.00      1.00       188\n",
      "       AUDIO (GENERAL)        0.94      0.91      0.92       196\n",
      "            BRAKE PADS        0.87      0.93      0.90       196\n",
      "           BRAKE PEDAL        0.89      1.00      0.94       170\n",
      "                BRAKES        0.99      0.85      0.91       177\n",
      "                    BT        0.91      0.98      0.95       167\n",
      "             CD PLAYER        0.99      1.00      0.99       188\n",
      "                CLUTCH        0.98      1.00      0.99       200\n",
      "           COMBI METER        0.99      1.00      0.99       188\n",
      "          DOOR (FRONT)        0.92      0.82      0.87       204\n",
      "           DOOR (REAR)        0.96      1.00      0.98       175\n",
      "    DOOR (UNSPECIFIED)        0.99      0.91      0.95       199\n",
      "   DOOR LOCK (GENERAL)        1.00      1.00      1.00       208\n",
      "       ENGINE (DIESEL)        0.64      1.00      0.78       184\n",
      "          ENGINE (GAS)        0.98      0.75      0.85       177\n",
      "          ENGINE (R9N)        1.00      0.64      0.78       184\n",
      "              GLOVEBOX        0.93      0.97      0.95       180\n",
      "              HEADLAMP        1.00      1.00      1.00       184\n",
      "              HEADREST        0.98      0.98      0.98       175\n",
      "                  HOOD        1.00      1.00      1.00       192\n",
      "        HVAC (GENERAL)        0.99      1.00      0.99       184\n",
      "      INSTRUMENT PANEL        0.93      0.91      0.92       186\n",
      "    INTERIOR (GENERAL)        0.91      0.87      0.89       158\n",
      "                   ISS        1.00      1.00      1.00       195\n",
      "                   M/T        0.93      0.99      0.96       179\n",
      "                  NAVI        0.89      0.72      0.80       174\n",
      "   NISSAN CONNECT APPS        0.94      0.98      0.96       198\n",
      "NOT ENOUGH INFORMATION        0.94      0.69      0.79       190\n",
      "                 PAINT        0.98      1.00      0.99       175\n",
      "         SEAT (DRIVER)        0.97      0.96      0.97       169\n",
      "      SEAT (THIRD ROW)        1.00      1.00      1.00       192\n",
      "    SIDE WINDOWS/GLASS        0.80      0.94      0.86       180\n",
      "               SPEAKER        0.91      1.00      0.95       188\n",
      "              STEERING        0.96      1.00      0.98       200\n",
      "                 STRUT        0.99      1.00      0.99       161\n",
      "  SUSPENSION (GENERAL)        0.98      1.00      0.99       174\n",
      "                    TBD       0.64      0.57      0.60       176\n",
      "                 TIRES        0.79      1.00      0.88       175\n",
      "      TRUNK/CARGO AREA        0.96      1.00      0.98       198\n",
      "             USB INPUT        0.99      1.00      0.99       178\n",
      "     VEHICLE (GENERAL)        0.77      0.53      0.63       193\n",
      "\n",
      "               accuracy                           0.93      8118\n",
      "              macro avg       0.93      0.93      0.93      8118\n",
      "           weighted avg       0.93      0.93      0.93      8118\n",
      "\n"
     ]
    }
   ],
   "source": [
    "from sklearn.metrics import classification_report\n",
    "print(classification_report(y_test, y_pred_gbc))"
   ]
  },
  {
   "cell_type": "code",
   "execution_count": 202,
   "metadata": {},
   "outputs": [],
   "source": [
    "#GridSearch"
   ]
  },
  {
   "cell_type": "code",
   "execution_count": 187,
   "metadata": {},
   "outputs": [
    {
     "name": "stderr",
     "output_type": "stream",
     "text": [
      "C:\\ProgramData\\Anaconda3\\lib\\site-packages\\sklearn\\model_selection\\_split.py:1978: FutureWarning: The default value of cv will change from 3 to 5 in version 0.22. Specify it explicitly to silence this warning.\n",
      "  warnings.warn(CV_WARNING, FutureWarning)\n"
     ]
    },
    {
     "data": {
      "text/plain": [
       "GridSearchCV(cv='warn', error_score='raise-deprecating',\n",
       "             estimator=GradientBoostingClassifier(criterion='friedman_mse',\n",
       "                                                  init=None, learning_rate=0.1,\n",
       "                                                  loss='deviance', max_depth=3,\n",
       "                                                  max_features=None,\n",
       "                                                  max_leaf_nodes=None,\n",
       "                                                  min_impurity_decrease=0.0,\n",
       "                                                  min_impurity_split=None,\n",
       "                                                  min_samples_leaf=1,\n",
       "                                                  min_samples_split=2,\n",
       "                                                  min_weight_fraction_leaf=0.0,\n",
       "                                                  n_estimators=500,\n",
       "                                                  n_iter_no_change=None,\n",
       "                                                  presort='auto',\n",
       "                                                  random_state=400,\n",
       "                                                  subsample=1.0, tol=0.0001,\n",
       "                                                  validation_fraction=0.1,\n",
       "                                                  verbose=0, warm_start=False),\n",
       "             iid='warn', n_jobs=None,\n",
       "             param_grid={'n_estimators': [80, 420, 440, 460, 480, 500, 520, 540,\n",
       "                                          560, 580, 600]},\n",
       "             pre_dispatch='2*n_jobs', refit=True, return_train_score=False,\n",
       "             scoring=None, verbose=0)"
      ]
     },
     "execution_count": 187,
     "metadata": {},
     "output_type": "execute_result"
    }
   ],
   "source": [
    "from sklearn.model_selection import GridSearchCV\n",
    "mod=GridSearchCV(GBC,param_grid={'n_estimators':[80,420,440,460,480,500,520,540,560,580,600]})\n",
    "mod.fit(cv_train,y_train)"
   ]
  },
  {
   "cell_type": "code",
   "execution_count": 188,
   "metadata": {},
   "outputs": [
    {
     "data": {
      "text/plain": [
       "GradientBoostingClassifier(criterion='friedman_mse', init=None,\n",
       "                           learning_rate=0.1, loss='deviance', max_depth=3,\n",
       "                           max_features=None, max_leaf_nodes=None,\n",
       "                           min_impurity_decrease=0.0, min_impurity_split=None,\n",
       "                           min_samples_leaf=1, min_samples_split=2,\n",
       "                           min_weight_fraction_leaf=0.0, n_estimators=500,\n",
       "                           n_iter_no_change=None, presort='auto',\n",
       "                           random_state=400, subsample=1.0, tol=0.0001,\n",
       "                           validation_fraction=0.1, verbose=0,\n",
       "                           warm_start=False)"
      ]
     },
     "execution_count": 188,
     "metadata": {},
     "output_type": "execute_result"
    }
   ],
   "source": [
    " mod.best_estimator_"
   ]
  },
  {
   "cell_type": "code",
   "execution_count": null,
   "metadata": {},
   "outputs": [],
   "source": [
    "#Ridge"
   ]
  },
  {
   "cell_type": "code",
   "execution_count": 64,
   "metadata": {},
   "outputs": [
    {
     "name": "stdout",
     "output_type": "stream",
     "text": [
      "accuracy 0.8366013071895425\n"
     ]
    }
   ],
   "source": [
    "from sklearn.linear_model import RidgeClassifier\n",
    "rid=RidgeClassifier()\n",
    "rid.fit(cv_train,y_train)\n",
    "rid.score(cv_test,y_test)\n",
    "y_pred_rid=rid.predict(cv_test)\n",
    "from sklearn.metrics import accuracy_score\n",
    "print('accuracy %s' % accuracy_score(y_pred_rid,y_test))"
   ]
  },
  {
   "cell_type": "code",
   "execution_count": 65,
   "metadata": {
    "scrolled": true
   },
   "outputs": [
    {
     "name": "stdout",
     "output_type": "stream",
     "text": [
      "                                                            precision    recall  f1-score   support\n",
      "\n",
      "                               12V OUTLET - CHARGING ISSUE       0.88      0.71      0.78        72\n",
      "                                          ALIGNMENT - PULL       0.86      0.90      0.88        60\n",
      "                             AM/FM RADIO - RECEPTION ISSUE       0.83      0.99      0.90        68\n",
      "                            ANDROID AUTO - DISSATISFACTION       0.69      0.59      0.64        70\n",
      "                       ANDROID AUTO - FEATURE AVAILABILITY       0.70      0.97      0.81        67\n",
      "                      APPLE CARPLAY - FEATURE AVAILABILITY       0.96      0.92      0.94        77\n",
      "                         AUDIO (GENERAL) - DISSATISFACTION       0.74      0.75      0.74        64\n",
      "                           AUDIO (GENERAL) - SOUND QUALITY       0.93      0.88      0.90        65\n",
      "                               BRAKE PADS - ABNORMAL NOISE       0.71      0.86      0.78        80\n",
      "                               BRAKE PADS - EXCESSIVE DUST       0.97      1.00      0.98        61\n",
      "                               BRAKE PEDAL - GENERAL ISSUE       0.77      1.00      0.87        58\n",
      "                                   BRAKES - ABNORMAL NOISE       0.92      0.76      0.83        85\n",
      "                                 BRAKES - POOR PERFORMANCE       0.80      0.98      0.88        54\n",
      "                                          BT - AUDIO ISSUE       0.50      0.97      0.66        69\n",
      "             BT - CONNECTION ISSUE (AFTER INITIAL PAIRING)       0.64      0.84      0.73        70\n",
      "                                        BT - PAIRING ISSUE       0.62      0.46      0.53        61\n",
      "                               CD PLAYER - DISSATISFACTION       0.84      1.00      0.91        59\n",
      "                                   CLUTCH - ABNORMAL NOISE       0.95      1.00      0.97        76\n",
      "                                        CLUTCH - VIBRATION       0.90      0.94      0.92        66\n",
      "                               COMBI METER - ABNORMAL WEAR       0.98      1.00      0.99        63\n",
      "                       COMBI METER - FUEL GAUGE INACCURATE       0.96      1.00      0.98        55\n",
      "                         CUP HOLDER - FEATURE AVAILABILITY       0.98      0.94      0.96        62\n",
      "                             DOOR (FRONT) - ABNORMAL NOISE       0.90      0.76      0.82        70\n",
      "                            DOOR (FRONT) - LOOSE COMPONENT       0.83      0.93      0.88        75\n",
      "                     DOOR (FRONT) - OPENING/CLOSING EFFORT       0.97      0.97      0.97        73\n",
      "                                 DOOR (FRONT) - WIND NOISE       0.90      0.45      0.60        82\n",
      "                      DOOR (REAR) - OPENING/CLOSING EFFORT       0.99      0.97      0.98        72\n",
      "                           DOOR (UNSPECIFIED) - WIND NOISE       0.99      0.96      0.97        70\n",
      "                       DOOR LOCK (GENERAL) - GENERAL ISSUE       1.00      1.00      1.00        70\n",
      "ENGINE (DIESEL) - DRIVING RANGE DOES NOT MEET EXPECTATIONS       0.94      0.78      0.85        59\n",
      " ENGINE (DIESEL) - FUEL ECONOMY DOES NOT MEET EXPECTATIONS       0.86      0.53      0.66        72\n",
      "                             ENGINE (GAS) - ABNORMAL NOISE       0.97      0.94      0.96        71\n",
      "                  ENGINE (GAS) - ABNORMAL NOISE AT STARTUP       0.93      1.00      0.96        62\n",
      "         ENGINE (GAS) - ABNORMAL NOISE DURING ACCELERATION       0.99      0.91      0.95        79\n",
      "    ENGINE (GAS) - FUEL ECONOMY DOES NOT MEET EXPECTATIONS       0.42      0.83      0.56        60\n",
      "                              ENGINE (GAS) - LACK OF POWER       0.97      0.94      0.95        67\n",
      "                          ENGINE (GAS) - POOR ACCELERATION       0.93      0.90      0.92        60\n",
      "                           ENGINE (GAS) - POOR PERFORMANCE       0.83      0.97      0.89        73\n",
      "    ENGINE (R9N) - FUEL ECONOMY DOES NOT MEET EXPECTATIONS       0.98      0.69      0.81        75\n",
      "                                 GLOVEBOX - ABNORMAL NOISE       0.89      1.00      0.94        74\n",
      "                             GLOVEBOX - INADEQUATE STORAGE       0.98      0.86      0.92        74\n",
      "                               HEADLAMP - POOR PERFORMANCE       1.00      1.00      1.00        55\n",
      "                     HEADREST - INSUFFICIENT ADJUSTABILITY       1.00      0.85      0.92        67\n",
      "                                  HEADREST - UNCOMFORTABLE       0.91      1.00      0.95        68\n",
      "                                        HOOD - DENTS/DINGS       0.98      1.00      0.99        60\n",
      "HVAC (GENERAL) - DIFFICULT TO CONTROL/REGULATE TEMPERATURE       0.95      1.00      0.97        58\n",
      "                         INSTRUMENT PANEL - ABNORMAL NOISE       0.85      0.86      0.85        65\n",
      "               INTERIOR (GENERAL) - NOT ENOUGH INFORMATION       0.93      0.68      0.78        80\n",
      "                         INTERIOR (GENERAL) - POOR QUALITY       0.93      1.00      0.96        64\n",
      "                                         ISS - INOPERATIVE       0.95      1.00      0.98        61\n",
      "                                      M/T - ABNORMAL NOISE       0.92      1.00      0.96        57\n",
      "                          M/T - DIFFICULT TO GET INTO GEAR       0.96      0.91      0.93        70\n",
      "                                  M/T - DIFFICULT TO SHIFT       0.83      0.98      0.90        63\n",
      "               NAVI - CUSTOMER DOES NOT UNDERSTAND FEATURE       0.92      0.64      0.75        72\n",
      "                                    NAVI - DISSATISFACTION       0.79      0.31      0.44        72\n",
      "                                                NAVI - DTU       0.84      0.48      0.61        85\n",
      "                                      NAVI - GENERAL ISSUE       0.94      0.61      0.74        72\n",
      "                                NAVI - LEVEL OF MAP DETAIL       0.70      0.98      0.82        59\n",
      "                                              NAVI - OTHER       0.96      0.86      0.91        79\n",
      "                                            NAVI - REBOOTS       0.81      0.61      0.69        71\n",
      "                                      NAVI - ROUTING ISSUE       0.76      0.60      0.67        68\n",
      "                                     NAVI - TOO MANY STEPS       0.54      0.94      0.69        68\n",
      "                     NISSAN CONNECT APPS - DISSATISFACTION       0.86      0.59      0.70        64\n",
      "                                 NISSAN CONNECT APPS - DTU       0.59      0.81      0.69        54\n",
      "                         NISSAN CONNECT APPS - INOPERATIVE       0.76      0.80      0.78        74\n",
      "           NOT ENOUGH INFORMATION - NOT ENOUGH INFORMATION       0.86      0.32      0.47        75\n",
      "                            NOT ENOUGH INFORMATION - OTHER       0.94      0.75      0.84        68\n",
      "                                           PAINT - BUBBLES       0.97      1.00      0.98        60\n",
      "                                      PAINT - CHIPS EASILY       0.89      0.61      0.72        56\n",
      "                                   PAINT - DISSATISFACTION       1.00      0.84      0.91        67\n",
      "                                  PAINT - POOR COLOR MATCH       0.63      0.99      0.77        74\n",
      "                                  PAINT - SCRATCHES EASILY       0.83      0.74      0.78        78\n",
      "                                     ROOF - ABNORMAL NOISE       0.82      0.97      0.89        62\n",
      "                            SEAT (DRIVER) - ABNORMAL NOISE       0.93      0.96      0.95        73\n",
      "                           SEAT (DRIVER) - DISSATISFACTION       0.76      0.79      0.78        53\n",
      "                SEAT (DRIVER) - INSUFFICIENT ADJUSTABILITY       0.99      0.82      0.90        80\n",
      "                    SEAT (DRIVER) - NOT ENOUGH INFORMATION       0.81      0.70      0.75        71\n",
      "                             SEAT (DRIVER) - UNCOMFORTABLE       0.68      0.99      0.80        68\n",
      "                         SEAT (THIRD ROW) - POOR ROOMINESS       0.95      1.00      0.97        73\n",
      "                       SIDE WINDOWS/GLASS - ABNORMAL NOISE       0.65      0.83      0.73        66\n",
      "                        SIDE WINDOWS/GLASS - GENERAL ISSUE       0.96      0.94      0.95        87\n",
      "                     SIDE WINDOWS/GLASS - MOISTURE BUILDUP       0.97      1.00      0.98        85\n",
      "                           SIDE WINDOWS/GLASS - WIND NOISE       0.66      0.90      0.76        69\n",
      "                                   SPEAKER - SOUND QUALITY       0.80      1.00      0.89        70\n",
      "                                    STEERING - HIGH EFFORT       0.89      0.86      0.88        59\n",
      "            STEERING - RESPONSE DOES NOT MEET EXPECTATIONS       0.96      0.92      0.94        72\n",
      "                                    STRUT - ABNORMAL NOISE       0.89      1.00      0.94        75\n",
      "                     SUSPENSION (GENERAL) - ABNORMAL NOISE       1.00      0.89      0.94        63\n",
      "                                                       TBD       0.80      0.06      0.12        64\n",
      "                                        TIRES - ROAD NOISE       0.53      1.00      0.70        64\n",
      "                         TRUNK/CARGO AREA - ABNORMAL NOISE       0.83      0.83      0.83        65\n",
      "                        USB INPUT - NOT ENOUGH INPUT PORTS       0.99      1.00      0.99        68\n",
      "                        VEHICLE (GENERAL) - ABNORMAL NOISE       0.75      1.00      0.86        52\n",
      "                       VEHICLE (GENERAL) - EXCESSIVE NOISE       0.76      0.62      0.68        60\n",
      "                VEHICLE (GENERAL) - NOT ENOUGH INFORMATION       0.80      0.46      0.58        72\n",
      "                            VEHICLE (GENERAL) - ROAD NOISE       0.70      0.46      0.55        68\n",
      "                             VEHICLE (GENERAL) - VIBRATION       0.97      0.98      0.98        63\n",
      "                            VEHICLE (GENERAL) - WIND NOISE       0.67      0.68      0.67        74\n",
      "                   VEHICLE REAR (GENERAL) - ABNORMAL NOISE       0.80      0.96      0.87        72\n",
      "\n",
      "                                                  accuracy                           0.84      6732\n",
      "                                                 macro avg       0.85      0.84      0.83      6732\n",
      "                                              weighted avg       0.86      0.84      0.83      6732\n",
      "\n"
     ]
    }
   ],
   "source": [
    "print(classification_report(y_test, y_pred_rid))"
   ]
  },
  {
   "cell_type": "markdown",
   "metadata": {},
   "source": [
    "# Xgboost"
   ]
  },
  {
   "cell_type": "code",
   "execution_count": 66,
   "metadata": {},
   "outputs": [],
   "source": [
    "from xgboost import XGBClassifier"
   ]
  },
  {
   "cell_type": "code",
   "execution_count": 67,
   "metadata": {},
   "outputs": [
    {
     "name": "stdout",
     "output_type": "stream",
     "text": [
      "accuracy 0.8716577540106952\n"
     ]
    }
   ],
   "source": [
    "#xgb_clf = XGBClassifier(n_estimators=80,random_state=400)\n",
    "xgb_clf= XGBClassifier(eta=0.2,min_child_weight = 1, scale_pos_weight = 1)\n",
    "xgb_clf.fit(cv_train,y_train)\n",
    "xgb_.score(cv_test,y_test)\n",
    "y_pred_xgb=xgb_clf.predict(cv_test)\n",
    "from sklearn.metrics import accuracy_score\n",
    "print('accuracy %s' % accuracy_score(y_pred_xgb,y_test))"
   ]
  },
  {
   "cell_type": "markdown",
   "metadata": {},
   "source": [
    "#GridSearchCv"
   ]
  },
  {
   "cell_type": "code",
   "execution_count": null,
   "metadata": {},
   "outputs": [],
   "source": [
    "mod.best_estimator_"
   ]
  },
  {
   "cell_type": "markdown",
   "metadata": {},
   "source": [
    "# K-Fold CV"
   ]
  },
  {
   "cell_type": "code",
   "execution_count": 392,
   "metadata": {},
   "outputs": [],
   "source": [
    "# import pickle\n",
    "# pickle_in4 = open(\"x_os_issue_actual.pickle\",\"rb\")\n",
    "# x_os = pickle.load(pickle_in4)"
   ]
  },
  {
   "cell_type": "code",
   "execution_count": 393,
   "metadata": {},
   "outputs": [],
   "source": [
    "# pickle_in5 = open(\"y_os_issue_actual.pickle\",\"rb\")\n",
    "# y_os = pickle.load(pickle_in5)"
   ]
  },
  {
   "cell_type": "code",
   "execution_count": 77,
   "metadata": {},
   "outputs": [
    {
     "ename": "KeyboardInterrupt",
     "evalue": "",
     "output_type": "error",
     "traceback": [
      "\u001b[1;31m---------------------------------------------------------------------------\u001b[0m",
      "\u001b[1;31mKeyboardInterrupt\u001b[0m                         Traceback (most recent call last)",
      "\u001b[1;32m<ipython-input-77-2e93bc9516fa>\u001b[0m in \u001b[0;36m<module>\u001b[1;34m\u001b[0m\n\u001b[0;32m      3\u001b[0m \u001b[1;31m#clf=RandomForestClassifier(n_estimators=860,oob_score=True,n_jobs=-1,random_state=400)\u001b[0m\u001b[1;33m\u001b[0m\u001b[1;33m\u001b[0m\u001b[1;33m\u001b[0m\u001b[0m\n\u001b[0;32m      4\u001b[0m \u001b[1;32mfrom\u001b[0m \u001b[0msklearn\u001b[0m\u001b[1;33m.\u001b[0m\u001b[0mmodel_selection\u001b[0m \u001b[1;32mimport\u001b[0m \u001b[0mcross_val_score\u001b[0m\u001b[1;33m\u001b[0m\u001b[1;33m\u001b[0m\u001b[0m\n\u001b[1;32m----> 5\u001b[1;33m \u001b[0mscore\u001b[0m\u001b[1;33m=\u001b[0m\u001b[0mcross_val_score\u001b[0m\u001b[1;33m(\u001b[0m\u001b[0mGBC\u001b[0m\u001b[1;33m,\u001b[0m\u001b[0mx_os\u001b[0m\u001b[1;33m,\u001b[0m\u001b[0my_os\u001b[0m\u001b[1;33m,\u001b[0m\u001b[0mcv\u001b[0m\u001b[1;33m=\u001b[0m\u001b[1;36m5\u001b[0m\u001b[1;33m)\u001b[0m\u001b[1;33m\u001b[0m\u001b[1;33m\u001b[0m\u001b[0m\n\u001b[0m",
      "\u001b[1;32mC:\\ProgramData\\Anaconda3\\lib\\site-packages\\sklearn\\model_selection\\_validation.py\u001b[0m in \u001b[0;36mcross_val_score\u001b[1;34m(estimator, X, y, groups, scoring, cv, n_jobs, verbose, fit_params, pre_dispatch, error_score)\u001b[0m\n\u001b[0;32m    388\u001b[0m                                 \u001b[0mfit_params\u001b[0m\u001b[1;33m=\u001b[0m\u001b[0mfit_params\u001b[0m\u001b[1;33m,\u001b[0m\u001b[1;33m\u001b[0m\u001b[1;33m\u001b[0m\u001b[0m\n\u001b[0;32m    389\u001b[0m                                 \u001b[0mpre_dispatch\u001b[0m\u001b[1;33m=\u001b[0m\u001b[0mpre_dispatch\u001b[0m\u001b[1;33m,\u001b[0m\u001b[1;33m\u001b[0m\u001b[1;33m\u001b[0m\u001b[0m\n\u001b[1;32m--> 390\u001b[1;33m                                 error_score=error_score)\n\u001b[0m\u001b[0;32m    391\u001b[0m     \u001b[1;32mreturn\u001b[0m \u001b[0mcv_results\u001b[0m\u001b[1;33m[\u001b[0m\u001b[1;34m'test_score'\u001b[0m\u001b[1;33m]\u001b[0m\u001b[1;33m\u001b[0m\u001b[1;33m\u001b[0m\u001b[0m\n\u001b[0;32m    392\u001b[0m \u001b[1;33m\u001b[0m\u001b[0m\n",
      "\u001b[1;32mC:\\ProgramData\\Anaconda3\\lib\\site-packages\\sklearn\\model_selection\\_validation.py\u001b[0m in \u001b[0;36mcross_validate\u001b[1;34m(estimator, X, y, groups, scoring, cv, n_jobs, verbose, fit_params, pre_dispatch, return_train_score, return_estimator, error_score)\u001b[0m\n\u001b[0;32m    234\u001b[0m             \u001b[0mreturn_times\u001b[0m\u001b[1;33m=\u001b[0m\u001b[1;32mTrue\u001b[0m\u001b[1;33m,\u001b[0m \u001b[0mreturn_estimator\u001b[0m\u001b[1;33m=\u001b[0m\u001b[0mreturn_estimator\u001b[0m\u001b[1;33m,\u001b[0m\u001b[1;33m\u001b[0m\u001b[1;33m\u001b[0m\u001b[0m\n\u001b[0;32m    235\u001b[0m             error_score=error_score)\n\u001b[1;32m--> 236\u001b[1;33m         for train, test in cv.split(X, y, groups))\n\u001b[0m\u001b[0;32m    237\u001b[0m \u001b[1;33m\u001b[0m\u001b[0m\n\u001b[0;32m    238\u001b[0m     \u001b[0mzipped_scores\u001b[0m \u001b[1;33m=\u001b[0m \u001b[0mlist\u001b[0m\u001b[1;33m(\u001b[0m\u001b[0mzip\u001b[0m\u001b[1;33m(\u001b[0m\u001b[1;33m*\u001b[0m\u001b[0mscores\u001b[0m\u001b[1;33m)\u001b[0m\u001b[1;33m)\u001b[0m\u001b[1;33m\u001b[0m\u001b[1;33m\u001b[0m\u001b[0m\n",
      "\u001b[1;32mC:\\ProgramData\\Anaconda3\\lib\\site-packages\\joblib\\parallel.py\u001b[0m in \u001b[0;36m__call__\u001b[1;34m(self, iterable)\u001b[0m\n\u001b[0;32m   1002\u001b[0m             \u001b[1;31m# remaining jobs.\u001b[0m\u001b[1;33m\u001b[0m\u001b[1;33m\u001b[0m\u001b[1;33m\u001b[0m\u001b[0m\n\u001b[0;32m   1003\u001b[0m             \u001b[0mself\u001b[0m\u001b[1;33m.\u001b[0m\u001b[0m_iterating\u001b[0m \u001b[1;33m=\u001b[0m \u001b[1;32mFalse\u001b[0m\u001b[1;33m\u001b[0m\u001b[1;33m\u001b[0m\u001b[0m\n\u001b[1;32m-> 1004\u001b[1;33m             \u001b[1;32mif\u001b[0m \u001b[0mself\u001b[0m\u001b[1;33m.\u001b[0m\u001b[0mdispatch_one_batch\u001b[0m\u001b[1;33m(\u001b[0m\u001b[0miterator\u001b[0m\u001b[1;33m)\u001b[0m\u001b[1;33m:\u001b[0m\u001b[1;33m\u001b[0m\u001b[1;33m\u001b[0m\u001b[0m\n\u001b[0m\u001b[0;32m   1005\u001b[0m                 \u001b[0mself\u001b[0m\u001b[1;33m.\u001b[0m\u001b[0m_iterating\u001b[0m \u001b[1;33m=\u001b[0m \u001b[0mself\u001b[0m\u001b[1;33m.\u001b[0m\u001b[0m_original_iterator\u001b[0m \u001b[1;32mis\u001b[0m \u001b[1;32mnot\u001b[0m \u001b[1;32mNone\u001b[0m\u001b[1;33m\u001b[0m\u001b[1;33m\u001b[0m\u001b[0m\n\u001b[0;32m   1006\u001b[0m \u001b[1;33m\u001b[0m\u001b[0m\n",
      "\u001b[1;32mC:\\ProgramData\\Anaconda3\\lib\\site-packages\\joblib\\parallel.py\u001b[0m in \u001b[0;36mdispatch_one_batch\u001b[1;34m(self, iterator)\u001b[0m\n\u001b[0;32m    833\u001b[0m                 \u001b[1;32mreturn\u001b[0m \u001b[1;32mFalse\u001b[0m\u001b[1;33m\u001b[0m\u001b[1;33m\u001b[0m\u001b[0m\n\u001b[0;32m    834\u001b[0m             \u001b[1;32melse\u001b[0m\u001b[1;33m:\u001b[0m\u001b[1;33m\u001b[0m\u001b[1;33m\u001b[0m\u001b[0m\n\u001b[1;32m--> 835\u001b[1;33m                 \u001b[0mself\u001b[0m\u001b[1;33m.\u001b[0m\u001b[0m_dispatch\u001b[0m\u001b[1;33m(\u001b[0m\u001b[0mtasks\u001b[0m\u001b[1;33m)\u001b[0m\u001b[1;33m\u001b[0m\u001b[1;33m\u001b[0m\u001b[0m\n\u001b[0m\u001b[0;32m    836\u001b[0m                 \u001b[1;32mreturn\u001b[0m \u001b[1;32mTrue\u001b[0m\u001b[1;33m\u001b[0m\u001b[1;33m\u001b[0m\u001b[0m\n\u001b[0;32m    837\u001b[0m \u001b[1;33m\u001b[0m\u001b[0m\n",
      "\u001b[1;32mC:\\ProgramData\\Anaconda3\\lib\\site-packages\\joblib\\parallel.py\u001b[0m in \u001b[0;36m_dispatch\u001b[1;34m(self, batch)\u001b[0m\n\u001b[0;32m    752\u001b[0m         \u001b[1;32mwith\u001b[0m \u001b[0mself\u001b[0m\u001b[1;33m.\u001b[0m\u001b[0m_lock\u001b[0m\u001b[1;33m:\u001b[0m\u001b[1;33m\u001b[0m\u001b[1;33m\u001b[0m\u001b[0m\n\u001b[0;32m    753\u001b[0m             \u001b[0mjob_idx\u001b[0m \u001b[1;33m=\u001b[0m \u001b[0mlen\u001b[0m\u001b[1;33m(\u001b[0m\u001b[0mself\u001b[0m\u001b[1;33m.\u001b[0m\u001b[0m_jobs\u001b[0m\u001b[1;33m)\u001b[0m\u001b[1;33m\u001b[0m\u001b[1;33m\u001b[0m\u001b[0m\n\u001b[1;32m--> 754\u001b[1;33m             \u001b[0mjob\u001b[0m \u001b[1;33m=\u001b[0m \u001b[0mself\u001b[0m\u001b[1;33m.\u001b[0m\u001b[0m_backend\u001b[0m\u001b[1;33m.\u001b[0m\u001b[0mapply_async\u001b[0m\u001b[1;33m(\u001b[0m\u001b[0mbatch\u001b[0m\u001b[1;33m,\u001b[0m \u001b[0mcallback\u001b[0m\u001b[1;33m=\u001b[0m\u001b[0mcb\u001b[0m\u001b[1;33m)\u001b[0m\u001b[1;33m\u001b[0m\u001b[1;33m\u001b[0m\u001b[0m\n\u001b[0m\u001b[0;32m    755\u001b[0m             \u001b[1;31m# A job can complete so quickly than its callback is\u001b[0m\u001b[1;33m\u001b[0m\u001b[1;33m\u001b[0m\u001b[1;33m\u001b[0m\u001b[0m\n\u001b[0;32m    756\u001b[0m             \u001b[1;31m# called before we get here, causing self._jobs to\u001b[0m\u001b[1;33m\u001b[0m\u001b[1;33m\u001b[0m\u001b[1;33m\u001b[0m\u001b[0m\n",
      "\u001b[1;32mC:\\ProgramData\\Anaconda3\\lib\\site-packages\\joblib\\_parallel_backends.py\u001b[0m in \u001b[0;36mapply_async\u001b[1;34m(self, func, callback)\u001b[0m\n\u001b[0;32m    207\u001b[0m     \u001b[1;32mdef\u001b[0m \u001b[0mapply_async\u001b[0m\u001b[1;33m(\u001b[0m\u001b[0mself\u001b[0m\u001b[1;33m,\u001b[0m \u001b[0mfunc\u001b[0m\u001b[1;33m,\u001b[0m \u001b[0mcallback\u001b[0m\u001b[1;33m=\u001b[0m\u001b[1;32mNone\u001b[0m\u001b[1;33m)\u001b[0m\u001b[1;33m:\u001b[0m\u001b[1;33m\u001b[0m\u001b[1;33m\u001b[0m\u001b[0m\n\u001b[0;32m    208\u001b[0m         \u001b[1;34m\"\"\"Schedule a func to be run\"\"\"\u001b[0m\u001b[1;33m\u001b[0m\u001b[1;33m\u001b[0m\u001b[0m\n\u001b[1;32m--> 209\u001b[1;33m         \u001b[0mresult\u001b[0m \u001b[1;33m=\u001b[0m \u001b[0mImmediateResult\u001b[0m\u001b[1;33m(\u001b[0m\u001b[0mfunc\u001b[0m\u001b[1;33m)\u001b[0m\u001b[1;33m\u001b[0m\u001b[1;33m\u001b[0m\u001b[0m\n\u001b[0m\u001b[0;32m    210\u001b[0m         \u001b[1;32mif\u001b[0m \u001b[0mcallback\u001b[0m\u001b[1;33m:\u001b[0m\u001b[1;33m\u001b[0m\u001b[1;33m\u001b[0m\u001b[0m\n\u001b[0;32m    211\u001b[0m             \u001b[0mcallback\u001b[0m\u001b[1;33m(\u001b[0m\u001b[0mresult\u001b[0m\u001b[1;33m)\u001b[0m\u001b[1;33m\u001b[0m\u001b[1;33m\u001b[0m\u001b[0m\n",
      "\u001b[1;32mC:\\ProgramData\\Anaconda3\\lib\\site-packages\\joblib\\_parallel_backends.py\u001b[0m in \u001b[0;36m__init__\u001b[1;34m(self, batch)\u001b[0m\n\u001b[0;32m    588\u001b[0m         \u001b[1;31m# Don't delay the application, to avoid keeping the input\u001b[0m\u001b[1;33m\u001b[0m\u001b[1;33m\u001b[0m\u001b[1;33m\u001b[0m\u001b[0m\n\u001b[0;32m    589\u001b[0m         \u001b[1;31m# arguments in memory\u001b[0m\u001b[1;33m\u001b[0m\u001b[1;33m\u001b[0m\u001b[1;33m\u001b[0m\u001b[0m\n\u001b[1;32m--> 590\u001b[1;33m         \u001b[0mself\u001b[0m\u001b[1;33m.\u001b[0m\u001b[0mresults\u001b[0m \u001b[1;33m=\u001b[0m \u001b[0mbatch\u001b[0m\u001b[1;33m(\u001b[0m\u001b[1;33m)\u001b[0m\u001b[1;33m\u001b[0m\u001b[1;33m\u001b[0m\u001b[0m\n\u001b[0m\u001b[0;32m    591\u001b[0m \u001b[1;33m\u001b[0m\u001b[0m\n\u001b[0;32m    592\u001b[0m     \u001b[1;32mdef\u001b[0m \u001b[0mget\u001b[0m\u001b[1;33m(\u001b[0m\u001b[0mself\u001b[0m\u001b[1;33m)\u001b[0m\u001b[1;33m:\u001b[0m\u001b[1;33m\u001b[0m\u001b[1;33m\u001b[0m\u001b[0m\n",
      "\u001b[1;32mC:\\ProgramData\\Anaconda3\\lib\\site-packages\\joblib\\parallel.py\u001b[0m in \u001b[0;36m__call__\u001b[1;34m(self)\u001b[0m\n\u001b[0;32m    254\u001b[0m         \u001b[1;32mwith\u001b[0m \u001b[0mparallel_backend\u001b[0m\u001b[1;33m(\u001b[0m\u001b[0mself\u001b[0m\u001b[1;33m.\u001b[0m\u001b[0m_backend\u001b[0m\u001b[1;33m,\u001b[0m \u001b[0mn_jobs\u001b[0m\u001b[1;33m=\u001b[0m\u001b[0mself\u001b[0m\u001b[1;33m.\u001b[0m\u001b[0m_n_jobs\u001b[0m\u001b[1;33m)\u001b[0m\u001b[1;33m:\u001b[0m\u001b[1;33m\u001b[0m\u001b[1;33m\u001b[0m\u001b[0m\n\u001b[0;32m    255\u001b[0m             return [func(*args, **kwargs)\n\u001b[1;32m--> 256\u001b[1;33m                     for func, args, kwargs in self.items]\n\u001b[0m\u001b[0;32m    257\u001b[0m \u001b[1;33m\u001b[0m\u001b[0m\n\u001b[0;32m    258\u001b[0m     \u001b[1;32mdef\u001b[0m \u001b[0m__len__\u001b[0m\u001b[1;33m(\u001b[0m\u001b[0mself\u001b[0m\u001b[1;33m)\u001b[0m\u001b[1;33m:\u001b[0m\u001b[1;33m\u001b[0m\u001b[1;33m\u001b[0m\u001b[0m\n",
      "\u001b[1;32mC:\\ProgramData\\Anaconda3\\lib\\site-packages\\joblib\\parallel.py\u001b[0m in \u001b[0;36m<listcomp>\u001b[1;34m(.0)\u001b[0m\n\u001b[0;32m    254\u001b[0m         \u001b[1;32mwith\u001b[0m \u001b[0mparallel_backend\u001b[0m\u001b[1;33m(\u001b[0m\u001b[0mself\u001b[0m\u001b[1;33m.\u001b[0m\u001b[0m_backend\u001b[0m\u001b[1;33m,\u001b[0m \u001b[0mn_jobs\u001b[0m\u001b[1;33m=\u001b[0m\u001b[0mself\u001b[0m\u001b[1;33m.\u001b[0m\u001b[0m_n_jobs\u001b[0m\u001b[1;33m)\u001b[0m\u001b[1;33m:\u001b[0m\u001b[1;33m\u001b[0m\u001b[1;33m\u001b[0m\u001b[0m\n\u001b[0;32m    255\u001b[0m             return [func(*args, **kwargs)\n\u001b[1;32m--> 256\u001b[1;33m                     for func, args, kwargs in self.items]\n\u001b[0m\u001b[0;32m    257\u001b[0m \u001b[1;33m\u001b[0m\u001b[0m\n\u001b[0;32m    258\u001b[0m     \u001b[1;32mdef\u001b[0m \u001b[0m__len__\u001b[0m\u001b[1;33m(\u001b[0m\u001b[0mself\u001b[0m\u001b[1;33m)\u001b[0m\u001b[1;33m:\u001b[0m\u001b[1;33m\u001b[0m\u001b[1;33m\u001b[0m\u001b[0m\n",
      "\u001b[1;32mC:\\ProgramData\\Anaconda3\\lib\\site-packages\\sklearn\\model_selection\\_validation.py\u001b[0m in \u001b[0;36m_fit_and_score\u001b[1;34m(estimator, X, y, scorer, train, test, verbose, parameters, fit_params, return_train_score, return_parameters, return_n_test_samples, return_times, return_estimator, error_score)\u001b[0m\n\u001b[0;32m    513\u001b[0m             \u001b[0mestimator\u001b[0m\u001b[1;33m.\u001b[0m\u001b[0mfit\u001b[0m\u001b[1;33m(\u001b[0m\u001b[0mX_train\u001b[0m\u001b[1;33m,\u001b[0m \u001b[1;33m**\u001b[0m\u001b[0mfit_params\u001b[0m\u001b[1;33m)\u001b[0m\u001b[1;33m\u001b[0m\u001b[1;33m\u001b[0m\u001b[0m\n\u001b[0;32m    514\u001b[0m         \u001b[1;32melse\u001b[0m\u001b[1;33m:\u001b[0m\u001b[1;33m\u001b[0m\u001b[1;33m\u001b[0m\u001b[0m\n\u001b[1;32m--> 515\u001b[1;33m             \u001b[0mestimator\u001b[0m\u001b[1;33m.\u001b[0m\u001b[0mfit\u001b[0m\u001b[1;33m(\u001b[0m\u001b[0mX_train\u001b[0m\u001b[1;33m,\u001b[0m \u001b[0my_train\u001b[0m\u001b[1;33m,\u001b[0m \u001b[1;33m**\u001b[0m\u001b[0mfit_params\u001b[0m\u001b[1;33m)\u001b[0m\u001b[1;33m\u001b[0m\u001b[1;33m\u001b[0m\u001b[0m\n\u001b[0m\u001b[0;32m    516\u001b[0m \u001b[1;33m\u001b[0m\u001b[0m\n\u001b[0;32m    517\u001b[0m     \u001b[1;32mexcept\u001b[0m \u001b[0mException\u001b[0m \u001b[1;32mas\u001b[0m \u001b[0me\u001b[0m\u001b[1;33m:\u001b[0m\u001b[1;33m\u001b[0m\u001b[1;33m\u001b[0m\u001b[0m\n",
      "\u001b[1;32mC:\\ProgramData\\Anaconda3\\lib\\site-packages\\sklearn\\ensemble\\_gb.py\u001b[0m in \u001b[0;36mfit\u001b[1;34m(self, X, y, sample_weight, monitor)\u001b[0m\n\u001b[0;32m   1535\u001b[0m         n_stages = self._fit_stages(\n\u001b[0;32m   1536\u001b[0m             \u001b[0mX\u001b[0m\u001b[1;33m,\u001b[0m \u001b[0my\u001b[0m\u001b[1;33m,\u001b[0m \u001b[0mraw_predictions\u001b[0m\u001b[1;33m,\u001b[0m \u001b[0msample_weight\u001b[0m\u001b[1;33m,\u001b[0m \u001b[0mself\u001b[0m\u001b[1;33m.\u001b[0m\u001b[0m_rng\u001b[0m\u001b[1;33m,\u001b[0m \u001b[0mX_val\u001b[0m\u001b[1;33m,\u001b[0m \u001b[0my_val\u001b[0m\u001b[1;33m,\u001b[0m\u001b[1;33m\u001b[0m\u001b[1;33m\u001b[0m\u001b[0m\n\u001b[1;32m-> 1537\u001b[1;33m             sample_weight_val, begin_at_stage, monitor, X_idx_sorted)\n\u001b[0m\u001b[0;32m   1538\u001b[0m \u001b[1;33m\u001b[0m\u001b[0m\n\u001b[0;32m   1539\u001b[0m         \u001b[1;31m# change shape of arrays after fit (early-stopping or additional ests)\u001b[0m\u001b[1;33m\u001b[0m\u001b[1;33m\u001b[0m\u001b[1;33m\u001b[0m\u001b[0m\n",
      "\u001b[1;32mC:\\ProgramData\\Anaconda3\\lib\\site-packages\\sklearn\\ensemble\\_gb.py\u001b[0m in \u001b[0;36m_fit_stages\u001b[1;34m(self, X, y, raw_predictions, sample_weight, random_state, X_val, y_val, sample_weight_val, begin_at_stage, monitor, X_idx_sorted)\u001b[0m\n\u001b[0;32m   1592\u001b[0m             raw_predictions = self._fit_stage(\n\u001b[0;32m   1593\u001b[0m                 \u001b[0mi\u001b[0m\u001b[1;33m,\u001b[0m \u001b[0mX\u001b[0m\u001b[1;33m,\u001b[0m \u001b[0my\u001b[0m\u001b[1;33m,\u001b[0m \u001b[0mraw_predictions\u001b[0m\u001b[1;33m,\u001b[0m \u001b[0msample_weight\u001b[0m\u001b[1;33m,\u001b[0m \u001b[0msample_mask\u001b[0m\u001b[1;33m,\u001b[0m\u001b[1;33m\u001b[0m\u001b[1;33m\u001b[0m\u001b[0m\n\u001b[1;32m-> 1594\u001b[1;33m                 random_state, X_idx_sorted, X_csc, X_csr)\n\u001b[0m\u001b[0;32m   1595\u001b[0m \u001b[1;33m\u001b[0m\u001b[0m\n\u001b[0;32m   1596\u001b[0m             \u001b[1;31m# track deviance (= loss)\u001b[0m\u001b[1;33m\u001b[0m\u001b[1;33m\u001b[0m\u001b[1;33m\u001b[0m\u001b[0m\n",
      "\u001b[1;32mC:\\ProgramData\\Anaconda3\\lib\\site-packages\\sklearn\\ensemble\\_gb.py\u001b[0m in \u001b[0;36m_fit_stage\u001b[1;34m(self, i, X, y, raw_predictions, sample_weight, sample_mask, random_state, X_idx_sorted, X_csc, X_csr)\u001b[0m\n\u001b[0;32m   1220\u001b[0m \u001b[1;33m\u001b[0m\u001b[0m\n\u001b[0;32m   1221\u001b[0m             residual = loss.negative_gradient(y, raw_predictions_copy, k=k,\n\u001b[1;32m-> 1222\u001b[1;33m                                               sample_weight=sample_weight)\n\u001b[0m\u001b[0;32m   1223\u001b[0m \u001b[1;33m\u001b[0m\u001b[0m\n\u001b[0;32m   1224\u001b[0m             \u001b[1;31m# induce regression tree on residuals\u001b[0m\u001b[1;33m\u001b[0m\u001b[1;33m\u001b[0m\u001b[1;33m\u001b[0m\u001b[0m\n",
      "\u001b[1;32mC:\\ProgramData\\Anaconda3\\lib\\site-packages\\sklearn\\ensemble\\_gb_losses.py\u001b[0m in \u001b[0;36mnegative_gradient\u001b[1;34m(self, y, raw_predictions, k, **kwargs)\u001b[0m\n\u001b[0;32m    736\u001b[0m         \"\"\"\n\u001b[0;32m    737\u001b[0m         return y - np.nan_to_num(np.exp(raw_predictions[:, k] -\n\u001b[1;32m--> 738\u001b[1;33m                                         logsumexp(raw_predictions, axis=1)))\n\u001b[0m\u001b[0;32m    739\u001b[0m \u001b[1;33m\u001b[0m\u001b[0m\n\u001b[0;32m    740\u001b[0m     def _update_terminal_region(self, tree, terminal_regions, leaf, X, y,\n",
      "\u001b[1;32mC:\\ProgramData\\Anaconda3\\lib\\site-packages\\scipy\\special\\_logsumexp.py\u001b[0m in \u001b[0;36mlogsumexp\u001b[1;34m(a, axis, b, keepdims, return_sign)\u001b[0m\n\u001b[0;32m    110\u001b[0m         \u001b[0mtmp\u001b[0m \u001b[1;33m=\u001b[0m \u001b[0mb\u001b[0m \u001b[1;33m*\u001b[0m \u001b[0mnp\u001b[0m\u001b[1;33m.\u001b[0m\u001b[0mexp\u001b[0m\u001b[1;33m(\u001b[0m\u001b[0ma\u001b[0m \u001b[1;33m-\u001b[0m \u001b[0ma_max\u001b[0m\u001b[1;33m)\u001b[0m\u001b[1;33m\u001b[0m\u001b[1;33m\u001b[0m\u001b[0m\n\u001b[0;32m    111\u001b[0m     \u001b[1;32melse\u001b[0m\u001b[1;33m:\u001b[0m\u001b[1;33m\u001b[0m\u001b[1;33m\u001b[0m\u001b[0m\n\u001b[1;32m--> 112\u001b[1;33m         \u001b[0mtmp\u001b[0m \u001b[1;33m=\u001b[0m \u001b[0mnp\u001b[0m\u001b[1;33m.\u001b[0m\u001b[0mexp\u001b[0m\u001b[1;33m(\u001b[0m\u001b[0ma\u001b[0m \u001b[1;33m-\u001b[0m \u001b[0ma_max\u001b[0m\u001b[1;33m)\u001b[0m\u001b[1;33m\u001b[0m\u001b[1;33m\u001b[0m\u001b[0m\n\u001b[0m\u001b[0;32m    113\u001b[0m \u001b[1;33m\u001b[0m\u001b[0m\n\u001b[0;32m    114\u001b[0m     \u001b[1;31m# suppress warnings about log of zero\u001b[0m\u001b[1;33m\u001b[0m\u001b[1;33m\u001b[0m\u001b[1;33m\u001b[0m\u001b[0m\n",
      "\u001b[1;31mKeyboardInterrupt\u001b[0m: "
     ]
    }
   ],
   "source": [
    "#from sklearn.ensemble import RandomForestClassifier\n",
    "#clf,xgb_clf,rid,GBC,knn,svm,model_nb,logreg\n",
    "#clf=RandomForestClassifier(n_estimators=860,oob_score=True,n_jobs=-1,random_state=400)\n",
    "from sklearn.model_selection import cross_val_score\n",
    "score=cross_val_score(GBC,x_os,y_os,cv=5)"
   ]
  },
  {
   "cell_type": "code",
   "execution_count": 70,
   "metadata": {},
   "outputs": [
    {
     "data": {
      "text/plain": [
       "0.8737373737373737"
      ]
     },
     "execution_count": 70,
     "metadata": {},
     "output_type": "execute_result"
    }
   ],
   "source": [
    "score.mean()"
   ]
  },
  {
   "cell_type": "markdown",
   "metadata": {},
   "source": [
    "# Startified K-fold CV"
   ]
  },
  {
   "cell_type": "code",
   "execution_count": 39,
   "metadata": {},
   "outputs": [],
   "source": [
    "accuracy=[]"
   ]
  },
  {
   "cell_type": "code",
   "execution_count": 40,
   "metadata": {},
   "outputs": [
    {
     "data": {
      "text/plain": [
       "[]"
      ]
     },
     "execution_count": 40,
     "metadata": {},
     "output_type": "execute_result"
    }
   ],
   "source": [
    "accuracy"
   ]
  },
  {
   "cell_type": "code",
   "execution_count": 42,
   "metadata": {},
   "outputs": [
    {
     "name": "stdout",
     "output_type": "stream",
     "text": [
      "Train: [ 1091  1115  1186 ... 33657 33658 33659] test: [    0     1     2 ... 33385 33386 33387]\n"
     ]
    },
    {
     "ename": "KeyboardInterrupt",
     "evalue": "",
     "output_type": "error",
     "traceback": [
      "\u001b[1;31m---------------------------------------------------------------------------\u001b[0m",
      "\u001b[1;31mKeyboardInterrupt\u001b[0m                         Traceback (most recent call last)",
      "\u001b[1;32m<ipython-input-42-2f58393772e3>\u001b[0m in \u001b[0;36m<module>\u001b[1;34m\u001b[0m\n\u001b[0;32m      7\u001b[0m     \u001b[0mx1_train\u001b[0m\u001b[1;33m,\u001b[0m\u001b[0mx1_test\u001b[0m\u001b[1;33m=\u001b[0m\u001b[0mx_os\u001b[0m\u001b[1;33m[\u001b[0m\u001b[0mtrain_index\u001b[0m\u001b[1;33m]\u001b[0m\u001b[1;33m,\u001b[0m\u001b[0mx_os\u001b[0m\u001b[1;33m[\u001b[0m\u001b[0mtest_index\u001b[0m\u001b[1;33m]\u001b[0m\u001b[1;33m\u001b[0m\u001b[1;33m\u001b[0m\u001b[0m\n\u001b[0;32m      8\u001b[0m     \u001b[0my1_train\u001b[0m\u001b[1;33m,\u001b[0m\u001b[0my1_test\u001b[0m\u001b[1;33m=\u001b[0m\u001b[0my_os\u001b[0m\u001b[1;33m[\u001b[0m\u001b[0mtrain_index\u001b[0m\u001b[1;33m]\u001b[0m\u001b[1;33m,\u001b[0m\u001b[0my_os\u001b[0m\u001b[1;33m[\u001b[0m\u001b[0mtest_index\u001b[0m\u001b[1;33m]\u001b[0m\u001b[1;33m\u001b[0m\u001b[1;33m\u001b[0m\u001b[0m\n\u001b[1;32m----> 9\u001b[1;33m     \u001b[0mclf\u001b[0m\u001b[1;33m.\u001b[0m\u001b[0mfit\u001b[0m\u001b[1;33m(\u001b[0m\u001b[0mx1_train\u001b[0m\u001b[1;33m,\u001b[0m\u001b[0my1_train\u001b[0m\u001b[1;33m)\u001b[0m\u001b[1;33m\u001b[0m\u001b[1;33m\u001b[0m\u001b[0m\n\u001b[0m\u001b[0;32m     10\u001b[0m     \u001b[0mprediction\u001b[0m\u001b[1;33m=\u001b[0m\u001b[0mclf\u001b[0m\u001b[1;33m.\u001b[0m\u001b[0mpredict\u001b[0m\u001b[1;33m(\u001b[0m\u001b[0mx1_test\u001b[0m\u001b[1;33m)\u001b[0m\u001b[1;33m\u001b[0m\u001b[1;33m\u001b[0m\u001b[0m\n\u001b[0;32m     11\u001b[0m     \u001b[0mscore\u001b[0m\u001b[1;33m=\u001b[0m\u001b[0maccuracy_score\u001b[0m\u001b[1;33m(\u001b[0m\u001b[0mprediction\u001b[0m\u001b[1;33m,\u001b[0m\u001b[0my1_test\u001b[0m\u001b[1;33m)\u001b[0m\u001b[1;33m\u001b[0m\u001b[1;33m\u001b[0m\u001b[0m\n",
      "\u001b[1;32mC:\\ProgramData\\Anaconda3\\lib\\site-packages\\sklearn\\ensemble\\_forest.py\u001b[0m in \u001b[0;36mfit\u001b[1;34m(self, X, y, sample_weight)\u001b[0m\n\u001b[0;32m    381\u001b[0m                     \u001b[0mverbose\u001b[0m\u001b[1;33m=\u001b[0m\u001b[0mself\u001b[0m\u001b[1;33m.\u001b[0m\u001b[0mverbose\u001b[0m\u001b[1;33m,\u001b[0m \u001b[0mclass_weight\u001b[0m\u001b[1;33m=\u001b[0m\u001b[0mself\u001b[0m\u001b[1;33m.\u001b[0m\u001b[0mclass_weight\u001b[0m\u001b[1;33m,\u001b[0m\u001b[1;33m\u001b[0m\u001b[1;33m\u001b[0m\u001b[0m\n\u001b[0;32m    382\u001b[0m                     n_samples_bootstrap=n_samples_bootstrap)\n\u001b[1;32m--> 383\u001b[1;33m                 for i, t in enumerate(trees))\n\u001b[0m\u001b[0;32m    384\u001b[0m \u001b[1;33m\u001b[0m\u001b[0m\n\u001b[0;32m    385\u001b[0m             \u001b[1;31m# Collect newly grown trees\u001b[0m\u001b[1;33m\u001b[0m\u001b[1;33m\u001b[0m\u001b[1;33m\u001b[0m\u001b[0m\n",
      "\u001b[1;32mC:\\ProgramData\\Anaconda3\\lib\\site-packages\\joblib\\parallel.py\u001b[0m in \u001b[0;36m__call__\u001b[1;34m(self, iterable)\u001b[0m\n\u001b[0;32m   1015\u001b[0m \u001b[1;33m\u001b[0m\u001b[0m\n\u001b[0;32m   1016\u001b[0m             \u001b[1;32mwith\u001b[0m \u001b[0mself\u001b[0m\u001b[1;33m.\u001b[0m\u001b[0m_backend\u001b[0m\u001b[1;33m.\u001b[0m\u001b[0mretrieval_context\u001b[0m\u001b[1;33m(\u001b[0m\u001b[1;33m)\u001b[0m\u001b[1;33m:\u001b[0m\u001b[1;33m\u001b[0m\u001b[1;33m\u001b[0m\u001b[0m\n\u001b[1;32m-> 1017\u001b[1;33m                 \u001b[0mself\u001b[0m\u001b[1;33m.\u001b[0m\u001b[0mretrieve\u001b[0m\u001b[1;33m(\u001b[0m\u001b[1;33m)\u001b[0m\u001b[1;33m\u001b[0m\u001b[1;33m\u001b[0m\u001b[0m\n\u001b[0m\u001b[0;32m   1018\u001b[0m             \u001b[1;31m# Make sure that we get a last message telling us we are done\u001b[0m\u001b[1;33m\u001b[0m\u001b[1;33m\u001b[0m\u001b[1;33m\u001b[0m\u001b[0m\n\u001b[0;32m   1019\u001b[0m             \u001b[0melapsed_time\u001b[0m \u001b[1;33m=\u001b[0m \u001b[0mtime\u001b[0m\u001b[1;33m.\u001b[0m\u001b[0mtime\u001b[0m\u001b[1;33m(\u001b[0m\u001b[1;33m)\u001b[0m \u001b[1;33m-\u001b[0m \u001b[0mself\u001b[0m\u001b[1;33m.\u001b[0m\u001b[0m_start_time\u001b[0m\u001b[1;33m\u001b[0m\u001b[1;33m\u001b[0m\u001b[0m\n",
      "\u001b[1;32mC:\\ProgramData\\Anaconda3\\lib\\site-packages\\joblib\\parallel.py\u001b[0m in \u001b[0;36mretrieve\u001b[1;34m(self)\u001b[0m\n\u001b[0;32m    907\u001b[0m             \u001b[1;32mtry\u001b[0m\u001b[1;33m:\u001b[0m\u001b[1;33m\u001b[0m\u001b[1;33m\u001b[0m\u001b[0m\n\u001b[0;32m    908\u001b[0m                 \u001b[1;32mif\u001b[0m \u001b[0mgetattr\u001b[0m\u001b[1;33m(\u001b[0m\u001b[0mself\u001b[0m\u001b[1;33m.\u001b[0m\u001b[0m_backend\u001b[0m\u001b[1;33m,\u001b[0m \u001b[1;34m'supports_timeout'\u001b[0m\u001b[1;33m,\u001b[0m \u001b[1;32mFalse\u001b[0m\u001b[1;33m)\u001b[0m\u001b[1;33m:\u001b[0m\u001b[1;33m\u001b[0m\u001b[1;33m\u001b[0m\u001b[0m\n\u001b[1;32m--> 909\u001b[1;33m                     \u001b[0mself\u001b[0m\u001b[1;33m.\u001b[0m\u001b[0m_output\u001b[0m\u001b[1;33m.\u001b[0m\u001b[0mextend\u001b[0m\u001b[1;33m(\u001b[0m\u001b[0mjob\u001b[0m\u001b[1;33m.\u001b[0m\u001b[0mget\u001b[0m\u001b[1;33m(\u001b[0m\u001b[0mtimeout\u001b[0m\u001b[1;33m=\u001b[0m\u001b[0mself\u001b[0m\u001b[1;33m.\u001b[0m\u001b[0mtimeout\u001b[0m\u001b[1;33m)\u001b[0m\u001b[1;33m)\u001b[0m\u001b[1;33m\u001b[0m\u001b[1;33m\u001b[0m\u001b[0m\n\u001b[0m\u001b[0;32m    910\u001b[0m                 \u001b[1;32melse\u001b[0m\u001b[1;33m:\u001b[0m\u001b[1;33m\u001b[0m\u001b[1;33m\u001b[0m\u001b[0m\n\u001b[0;32m    911\u001b[0m                     \u001b[0mself\u001b[0m\u001b[1;33m.\u001b[0m\u001b[0m_output\u001b[0m\u001b[1;33m.\u001b[0m\u001b[0mextend\u001b[0m\u001b[1;33m(\u001b[0m\u001b[0mjob\u001b[0m\u001b[1;33m.\u001b[0m\u001b[0mget\u001b[0m\u001b[1;33m(\u001b[0m\u001b[1;33m)\u001b[0m\u001b[1;33m)\u001b[0m\u001b[1;33m\u001b[0m\u001b[1;33m\u001b[0m\u001b[0m\n",
      "\u001b[1;32mC:\\ProgramData\\Anaconda3\\lib\\multiprocessing\\pool.py\u001b[0m in \u001b[0;36mget\u001b[1;34m(self, timeout)\u001b[0m\n\u001b[0;32m    649\u001b[0m \u001b[1;33m\u001b[0m\u001b[0m\n\u001b[0;32m    650\u001b[0m     \u001b[1;32mdef\u001b[0m \u001b[0mget\u001b[0m\u001b[1;33m(\u001b[0m\u001b[0mself\u001b[0m\u001b[1;33m,\u001b[0m \u001b[0mtimeout\u001b[0m\u001b[1;33m=\u001b[0m\u001b[1;32mNone\u001b[0m\u001b[1;33m)\u001b[0m\u001b[1;33m:\u001b[0m\u001b[1;33m\u001b[0m\u001b[1;33m\u001b[0m\u001b[0m\n\u001b[1;32m--> 651\u001b[1;33m         \u001b[0mself\u001b[0m\u001b[1;33m.\u001b[0m\u001b[0mwait\u001b[0m\u001b[1;33m(\u001b[0m\u001b[0mtimeout\u001b[0m\u001b[1;33m)\u001b[0m\u001b[1;33m\u001b[0m\u001b[1;33m\u001b[0m\u001b[0m\n\u001b[0m\u001b[0;32m    652\u001b[0m         \u001b[1;32mif\u001b[0m \u001b[1;32mnot\u001b[0m \u001b[0mself\u001b[0m\u001b[1;33m.\u001b[0m\u001b[0mready\u001b[0m\u001b[1;33m(\u001b[0m\u001b[1;33m)\u001b[0m\u001b[1;33m:\u001b[0m\u001b[1;33m\u001b[0m\u001b[1;33m\u001b[0m\u001b[0m\n\u001b[0;32m    653\u001b[0m             \u001b[1;32mraise\u001b[0m \u001b[0mTimeoutError\u001b[0m\u001b[1;33m\u001b[0m\u001b[1;33m\u001b[0m\u001b[0m\n",
      "\u001b[1;32mC:\\ProgramData\\Anaconda3\\lib\\multiprocessing\\pool.py\u001b[0m in \u001b[0;36mwait\u001b[1;34m(self, timeout)\u001b[0m\n\u001b[0;32m    646\u001b[0m \u001b[1;33m\u001b[0m\u001b[0m\n\u001b[0;32m    647\u001b[0m     \u001b[1;32mdef\u001b[0m \u001b[0mwait\u001b[0m\u001b[1;33m(\u001b[0m\u001b[0mself\u001b[0m\u001b[1;33m,\u001b[0m \u001b[0mtimeout\u001b[0m\u001b[1;33m=\u001b[0m\u001b[1;32mNone\u001b[0m\u001b[1;33m)\u001b[0m\u001b[1;33m:\u001b[0m\u001b[1;33m\u001b[0m\u001b[1;33m\u001b[0m\u001b[0m\n\u001b[1;32m--> 648\u001b[1;33m         \u001b[0mself\u001b[0m\u001b[1;33m.\u001b[0m\u001b[0m_event\u001b[0m\u001b[1;33m.\u001b[0m\u001b[0mwait\u001b[0m\u001b[1;33m(\u001b[0m\u001b[0mtimeout\u001b[0m\u001b[1;33m)\u001b[0m\u001b[1;33m\u001b[0m\u001b[1;33m\u001b[0m\u001b[0m\n\u001b[0m\u001b[0;32m    649\u001b[0m \u001b[1;33m\u001b[0m\u001b[0m\n\u001b[0;32m    650\u001b[0m     \u001b[1;32mdef\u001b[0m \u001b[0mget\u001b[0m\u001b[1;33m(\u001b[0m\u001b[0mself\u001b[0m\u001b[1;33m,\u001b[0m \u001b[0mtimeout\u001b[0m\u001b[1;33m=\u001b[0m\u001b[1;32mNone\u001b[0m\u001b[1;33m)\u001b[0m\u001b[1;33m:\u001b[0m\u001b[1;33m\u001b[0m\u001b[1;33m\u001b[0m\u001b[0m\n",
      "\u001b[1;32mC:\\ProgramData\\Anaconda3\\lib\\threading.py\u001b[0m in \u001b[0;36mwait\u001b[1;34m(self, timeout)\u001b[0m\n\u001b[0;32m    550\u001b[0m             \u001b[0msignaled\u001b[0m \u001b[1;33m=\u001b[0m \u001b[0mself\u001b[0m\u001b[1;33m.\u001b[0m\u001b[0m_flag\u001b[0m\u001b[1;33m\u001b[0m\u001b[1;33m\u001b[0m\u001b[0m\n\u001b[0;32m    551\u001b[0m             \u001b[1;32mif\u001b[0m \u001b[1;32mnot\u001b[0m \u001b[0msignaled\u001b[0m\u001b[1;33m:\u001b[0m\u001b[1;33m\u001b[0m\u001b[1;33m\u001b[0m\u001b[0m\n\u001b[1;32m--> 552\u001b[1;33m                 \u001b[0msignaled\u001b[0m \u001b[1;33m=\u001b[0m \u001b[0mself\u001b[0m\u001b[1;33m.\u001b[0m\u001b[0m_cond\u001b[0m\u001b[1;33m.\u001b[0m\u001b[0mwait\u001b[0m\u001b[1;33m(\u001b[0m\u001b[0mtimeout\u001b[0m\u001b[1;33m)\u001b[0m\u001b[1;33m\u001b[0m\u001b[1;33m\u001b[0m\u001b[0m\n\u001b[0m\u001b[0;32m    553\u001b[0m             \u001b[1;32mreturn\u001b[0m \u001b[0msignaled\u001b[0m\u001b[1;33m\u001b[0m\u001b[1;33m\u001b[0m\u001b[0m\n\u001b[0;32m    554\u001b[0m \u001b[1;33m\u001b[0m\u001b[0m\n",
      "\u001b[1;32mC:\\ProgramData\\Anaconda3\\lib\\threading.py\u001b[0m in \u001b[0;36mwait\u001b[1;34m(self, timeout)\u001b[0m\n\u001b[0;32m    294\u001b[0m         \u001b[1;32mtry\u001b[0m\u001b[1;33m:\u001b[0m    \u001b[1;31m# restore state no matter what (e.g., KeyboardInterrupt)\u001b[0m\u001b[1;33m\u001b[0m\u001b[1;33m\u001b[0m\u001b[0m\n\u001b[0;32m    295\u001b[0m             \u001b[1;32mif\u001b[0m \u001b[0mtimeout\u001b[0m \u001b[1;32mis\u001b[0m \u001b[1;32mNone\u001b[0m\u001b[1;33m:\u001b[0m\u001b[1;33m\u001b[0m\u001b[1;33m\u001b[0m\u001b[0m\n\u001b[1;32m--> 296\u001b[1;33m                 \u001b[0mwaiter\u001b[0m\u001b[1;33m.\u001b[0m\u001b[0macquire\u001b[0m\u001b[1;33m(\u001b[0m\u001b[1;33m)\u001b[0m\u001b[1;33m\u001b[0m\u001b[1;33m\u001b[0m\u001b[0m\n\u001b[0m\u001b[0;32m    297\u001b[0m                 \u001b[0mgotit\u001b[0m \u001b[1;33m=\u001b[0m \u001b[1;32mTrue\u001b[0m\u001b[1;33m\u001b[0m\u001b[1;33m\u001b[0m\u001b[0m\n\u001b[0;32m    298\u001b[0m             \u001b[1;32melse\u001b[0m\u001b[1;33m:\u001b[0m\u001b[1;33m\u001b[0m\u001b[1;33m\u001b[0m\u001b[0m\n",
      "\u001b[1;31mKeyboardInterrupt\u001b[0m: "
     ]
    }
   ],
   "source": [
    "from sklearn.model_selection import StratifiedKFold\n",
    "from sklearn.metrics import accuracy_score\n",
    "skf=StratifiedKFold(n_splits=5)\n",
    "\n",
    "for train_index,test_index in skf.split(x_os,y_os):\n",
    "    print(\"Train:\",train_index,\"test:\",test_index)\n",
    "    x1_train,x1_test=x_os[train_index],x_os[test_index]\n",
    "    y1_train,y1_test=y_os[train_index],y_os[test_index]\n",
    "    clf.fit(x1_train,y1_train)\n",
    "    prediction=clf.predict(x1_test)\n",
    "    score=accuracy_score(prediction,y1_test)\n",
    "    accuracy.append(score)\n",
    "print(np.array(accuracy).mean())\n"
   ]
  },
  {
   "cell_type": "markdown",
   "metadata": {},
   "source": [
    "# Assigned"
   ]
  },
  {
   "cell_type": "code",
   "execution_count": 9,
   "metadata": {},
   "outputs": [],
   "source": [
    "df_assigned=df[['CK_BX_TX','NSN_TRBL_DS','SRVY_DTL_RSPNS_TX','Assigned']]"
   ]
  },
  {
   "cell_type": "code",
   "execution_count": 10,
   "metadata": {},
   "outputs": [
    {
     "name": "stderr",
     "output_type": "stream",
     "text": [
      "<ipython-input-10-ead5fdee7721>:1: SettingWithCopyWarning: \n",
      "A value is trying to be set on a copy of a slice from a DataFrame.\n",
      "Try using .loc[row_indexer,col_indexer] = value instead\n",
      "\n",
      "See the caveats in the documentation: http://pandas.pydata.org/pandas-docs/stable/user_guide/indexing.html#returning-a-view-versus-a-copy\n",
      "  df_assigned['Subject']=df['CK_BX_TX_new']+\" \"+df['NSN_TRBL_DS']+\" \"+df['SRVY_DTL_RSPNS_TX'].astype(str)\n"
     ]
    }
   ],
   "source": [
    "df_assigned['Subject']=df['CK_BX_TX_new']+\" \"+df['NSN_TRBL_DS']+\" \"+df['SRVY_DTL_RSPNS_TX'].astype(str)"
   ]
  },
  {
   "cell_type": "code",
   "execution_count": 11,
   "metadata": {},
   "outputs": [],
   "source": [
    "contraction_mapping = {\"Combi Meter\":\"combination Meter\",\"ain't\": \"is not\", \"a/c\": \"account\", \"aren't\": \"are not\",\"can't\": \"cannot\", \"'cause\": \"because\", \"could've\": \"could have\", \"couldn't\": \"could not\", \"didn't\": \"did not\",  \"doesn't\": \"does not\", \"don't\": \"do not\", \"hadn't\": \"had not\", \"hasn't\": \"has not\", \"haven't\": \"have not\", \"he'd\": \"he would\",\"he'll\": \"he will\", \"he's\": \"he is\", \"how'd\": \"how did\", \"how'd'y\": \"how do you\", \"how'll\": \"how will\", \"how's\": \"how is\",  \"I'd\": \"I would\", \"I'd've\": \"I would have\", \"I'll\": \"I will\", \"I'll've\": \"I will have\",\"I'm\": \"I am\", \"I've\": \"I have\", \"i'd\": \"i would\", \"i'd've\": \"i would have\", \"i'll\": \"i will\",  \"i'll've\": \"i will have\",\"i'm\": \"i am\", \"i've\": \"i have\", \"isn't\": \"is not\", \"it'd\": \"it would\", \"it'd've\": \"it would have\", \"it'll\": \"it will\", \"it'll've\": \"it will have\",\"it's\": \"it is\", \"let's\": \"let us\", \"ma'am\": \"madam\", \"mayn't\": \"may not\", \"might've\": \"might have\",\"mightn't\": \"might not\",\"mightn't've\": \"might not have\", \"must've\": \"must have\", \"mustn't\": \"must not\", \"mustn't've\": \"must not have\", \"needn't\": \"need not\", \"needn't've\": \"need not have\",\"o'clock\": \"of the clock\", \"oughtn't\": \"ought not\", \"oughtn't've\": \"ought not have\", \"shan't\": \"shall not\", \"sha'n't\": \"shall not\", \"shan't've\": \"shall not have\", \"she'd\": \"she would\", \"she'd've\": \"she would have\", \"she'll\": \"she will\", \"she'll've\": \"she will have\", \"she's\": \"she is\", \"should've\": \"should have\", \"shouldn't\": \"should not\", \"shouldn't've\": \"should not have\", \"so've\": \"so have\",\"so's\": \"so as\", \"this's\": \"this is\",\"that'd\": \"that would\", \"that'd've\": \"that would have\", \"that's\": \"that is\", \"there'd\": \"there would\", \"there'd've\": \"there would have\", \"there's\": \"there is\", \"here's\": \"here is\",\"they'd\": \"they would\", \"they'd've\": \"they would have\", \"they'll\": \"they will\", \"they'll've\": \"they will have\", \"they're\": \"they are\", \"they've\": \"they have\", \"to've\": \"to have\", \"wasn't\": \"was not\", \"we'd\": \"we would\", \"we'd've\": \"we would have\", \"we'll\": \"we will\", \"we'll've\": \"we will have\", \"we're\": \"we are\", \"we've\": \"we have\", \"weren't\": \"were not\", \"what'll\": \"what will\", \"what'll've\": \"what will have\", \"what're\": \"what are\",  \"what's\": \"what is\", \"what've\": \"what have\", \"when's\": \"when is\", \"when've\": \"when have\", \"where'd\": \"where did\", \"where's\": \"where is\", \"where've\": \"where have\", \"who'll\": \"who will\", \"who'll've\": \"who will have\", \"who's\": \"who is\", \"who've\": \"who have\", \"why's\": \"why is\", \"why've\": \"why have\", \"will've\": \"will have\", \"won't\": \"will not\", \"won't've\": \"will not have\", \"would've\": \"would have\", \"wouldn't\": \"would not\", \"wouldn't've\": \"would not have\", \"y'all\": \"you all\", \"y'all'd\": \"you all would\",\"y'all'd've\": \"you all would have\",\"y'all're\": \"you all are\",\"y'all've\": \"you all have\",\"you'd\": \"you would\", \"you'd've\": \"you would have\", \"you'll\": \"you will\", \"you'll've\": \"you will have\", \"you're\": \"you are\", \"you've\": \"you have\" ,\n",
    "                      'colour': 'color', 'centre': 'center', 'favourite': 'favorite', 'travelling': 'traveling', 'counselling': 'counseling', 'theatre': 'theater', 'cancelled': 'canceled', 'labour': 'labor', 'organisation': 'organization', 'citicise': 'criticize', 'youtu ': 'youtube ', 'Qoura': 'Quora', 'sallary': 'salary', 'Whta': 'What', 'narcisist': 'narcissist', 'howdo': 'how do', 'whatare': 'what are', 'howcan': 'how can', 'howmuch': 'how much', 'howmany': 'how many', 'whydo': 'why do', 'doI': 'do I', 'theBest': 'the best', 'howdoes': 'how does', 'Etherium': 'Ethereum', 'narcissit': 'narcissist', 'bigdata': 'big data', '2k17': '2017', '2k18': '2018', 'qouta': 'quota', 'airhostess': 'air hostess', \"whst\": 'what', 'watsapp': 'whatsapp', 'demonitisation': 'demonetization', 'demonitization': 'demonetization', 'demonetisation': 'demonetization','/':' or ','&':' and ','Diff':'difficult ','Abn ':'Abnormal ','Veh ':'Vechile ','App':'Application','Ext':'Exterior','F Wiper':'Front Wiper','Int Compartment':'Interior Compartment','Eng':'Engine','Navi':'Naviagtion','Hwy':'Highway','Thru':'Through','2nd':'Second','Eng':'Engine','?':\" \",'AC':'air cooler','F Washer':'Front Windshield Washer','Veh:':'Vechicle :','cntrls':'controls','Accel:':'accelaration ','Per/' :'performance ','Per:':'performance : ','Int ':'Interiror ','R Wiper':'rear wiper:'\n",
    "                      }\n",
    "def correct_spelling(x, dic):\n",
    "    for word in dic.keys():\n",
    "        x = x.replace(word, dic[word])\n",
    "    return x"
   ]
  },
  {
   "cell_type": "code",
   "execution_count": 12,
   "metadata": {},
   "outputs": [
    {
     "name": "stderr",
     "output_type": "stream",
     "text": [
      "<ipython-input-12-c55425881f48>:1: SettingWithCopyWarning: \n",
      "A value is trying to be set on a copy of a slice from a DataFrame.\n",
      "Try using .loc[row_indexer,col_indexer] = value instead\n",
      "\n",
      "See the caveats in the documentation: http://pandas.pydata.org/pandas-docs/stable/user_guide/indexing.html#returning-a-view-versus-a-copy\n",
      "  df_assigned['Subject'] = df_assigned['Subject'].astype(str)\n",
      "<ipython-input-12-c55425881f48>:2: SettingWithCopyWarning: \n",
      "A value is trying to be set on a copy of a slice from a DataFrame.\n",
      "Try using .loc[row_indexer,col_indexer] = value instead\n",
      "\n",
      "See the caveats in the documentation: http://pandas.pydata.org/pandas-docs/stable/user_guide/indexing.html#returning-a-view-versus-a-copy\n",
      "  df_assigned['Subject'] = df_assigned.apply(lambda x: correct_spelling(x['Subject'], contraction_mapping),axis=1)\n"
     ]
    }
   ],
   "source": [
    "df_assigned['Subject'] = df_assigned['Subject'].astype(str)\n",
    "df_assigned['Subject'] = df_assigned.apply(lambda x: correct_spelling(x['Subject'], contraction_mapping),axis=1)"
   ]
  },
  {
   "cell_type": "code",
   "execution_count": 13,
   "metadata": {},
   "outputs": [
    {
     "data": {
      "text/plain": [
       "' Performance or Engineine Power and Acceleration - While passing Perf or Engine Power And accelaration  While Passing  '"
      ]
     },
     "execution_count": 13,
     "metadata": {},
     "output_type": "execute_result"
    }
   ],
   "source": [
    "df_assigned['Subject'].loc[5]"
   ]
  },
  {
   "cell_type": "code",
   "execution_count": 14,
   "metadata": {},
   "outputs": [
    {
     "data": {
      "text/plain": [
       "CK_BX_TX             E1880B - Performance/Engine Power and Accelera...\n",
       "NSN_TRBL_DS                    Perf/Eng Power And Accel: While Passing\n",
       "SRVY_DTL_RSPNS_TX                                                    ?\n",
       "Assigned                                                             D\n",
       "Subject               Performance or Engineine Power and Accelerati...\n",
       "Name: 5, dtype: object"
      ]
     },
     "execution_count": 14,
     "metadata": {},
     "output_type": "execute_result"
    }
   ],
   "source": [
    "df_assigned.loc[5]"
   ]
  },
  {
   "cell_type": "code",
   "execution_count": 15,
   "metadata": {},
   "outputs": [],
   "source": [
    "import re\n",
    "import string\n",
    "\n",
    "def a_clean_test_round1(text):\n",
    "#''''Make text lowercase, remove text in square brackets, remove punctuation and remove words containing numbers.'''\n",
    "        text=text.lower()\n",
    "        text=re.sub('[\\.*--?#:=><#[@‘’“”…,&~``)-/=+(?]','',text)\n",
    "        text=re.sub('\\w*\\d\\w*','', text)\n",
    "        return text\n",
    "round1_a= lambda x:a_clean_test_round1(x)"
   ]
  },
  {
   "cell_type": "code",
   "execution_count": 16,
   "metadata": {},
   "outputs": [
    {
     "name": "stderr",
     "output_type": "stream",
     "text": [
      "<ipython-input-15-0d082551ac4a>:7: FutureWarning: Possible set difference at position 4\n",
      "  text=re.sub('[\\.*--?#:=><#[@‘’“”…,&~``)-/=+(?]','',text)\n"
     ]
    }
   ],
   "source": [
    "data_clean_a=pd.DataFrame(df_assigned.Subject.apply(round1_a))"
   ]
  },
  {
   "cell_type": "code",
   "execution_count": 17,
   "metadata": {},
   "outputs": [],
   "source": [
    "def clean_test_round2_a(text):\n",
    "#''''Make text lowercase, remove text in square brackets, remove punctuation and remove words containing numbers.'''\n",
    "        text=text.lower()\n",
    "        text=re.sub(']','',text)\n",
    "        text=re.sub('\\w*\\d\\w*','', text)\n",
    "        text = re.sub('\\n', '', text)\n",
    "        return text\n",
    "round2_a= lambda x:clean_test_round2_a(x)"
   ]
  },
  {
   "cell_type": "code",
   "execution_count": 18,
   "metadata": {},
   "outputs": [],
   "source": [
    "data_clean1_a=pd.DataFrame(data_clean_a.Subject.apply(round2_a))"
   ]
  },
  {
   "cell_type": "code",
   "execution_count": 19,
   "metadata": {},
   "outputs": [],
   "source": [
    "#word_tokenoize\n",
    "from nltk.tokenize import word_tokenize\n",
    "def tokenize_a(str_token):\n",
    "    str_token=word_tokenize(str_token)\n",
    "    return str_token\n",
    "token_a=lambda x:tokenize_a(x)"
   ]
  },
  {
   "cell_type": "code",
   "execution_count": 20,
   "metadata": {},
   "outputs": [],
   "source": [
    "Tokenize_a=pd.DataFrame(data_clean1_a.Subject.apply(token_a))"
   ]
  },
  {
   "cell_type": "code",
   "execution_count": 21,
   "metadata": {},
   "outputs": [],
   "source": [
    "from nltk.stem import WordNetLemmatizer\n",
    "from nltk.stem import PorterStemmer\n",
    "lem=WordNetLemmatizer()\n",
    "ps=PorterStemmer()"
   ]
  },
  {
   "cell_type": "code",
   "execution_count": 22,
   "metadata": {},
   "outputs": [],
   "source": [
    "from nltk.corpus import stopwords \n",
    "stopword_a=set(stopwords.words('english'))"
   ]
  },
  {
   "cell_type": "code",
   "execution_count": 23,
   "metadata": {},
   "outputs": [],
   "source": [
    "#Removing Stopwords from the list\n",
    "def stopwords_a(stopWords):\n",
    "    filtered_sentence = [] \n",
    "    for w in stopWords: \n",
    "            if w not in stopword_a: \n",
    "                 filtered_sentence.append(lem.lemmatize(w))\n",
    "    return filtered_sentence"
   ]
  },
  {
   "cell_type": "code",
   "execution_count": 24,
   "metadata": {},
   "outputs": [],
   "source": [
    "Stop_a=pd.DataFrame(Tokenize_a.Subject.apply(lambda x:stopwords_a(x)))"
   ]
  },
  {
   "cell_type": "code",
   "execution_count": 25,
   "metadata": {},
   "outputs": [],
   "source": [
    "#This will make the list into sentences after NLP\n",
    "Stop_a['new_subject'] = Stop_a['Subject'].apply(lambda x: \" \".join(x))"
   ]
  },
  {
   "cell_type": "code",
   "execution_count": 26,
   "metadata": {},
   "outputs": [],
   "source": [
    "#Now we are joing the stop dataframe to issue dataframe\n",
    "df_assigned1=pd.merge(df_assigned,Stop_a,left_index=True, right_index=True, how='inner')"
   ]
  },
  {
   "cell_type": "code",
   "execution_count": 27,
   "metadata": {},
   "outputs": [],
   "source": [
    "df['IQS_TRBL_TYP_CD']=df['IQS_TRBL_TYP_CD'].replace({'D':'dissatisfaction','M':'defect'})"
   ]
  },
  {
   "cell_type": "code",
   "execution_count": 28,
   "metadata": {},
   "outputs": [
    {
     "data": {
      "text/plain": [
       "defect             5521\n",
       "dissatisfaction    4846\n",
       "Name: IQS_TRBL_TYP_CD, dtype: int64"
      ]
     },
     "execution_count": 28,
     "metadata": {},
     "output_type": "execute_result"
    }
   ],
   "source": [
    "df['IQS_TRBL_TYP_CD'].value_counts()"
   ]
  },
  {
   "cell_type": "code",
   "execution_count": 29,
   "metadata": {},
   "outputs": [],
   "source": [
    "df_assigned1['new_subject1']=df['NSN_TRBL_CD']+\" \"+df_assigned1['new_subject']"
   ]
  },
  {
   "cell_type": "code",
   "execution_count": 30,
   "metadata": {},
   "outputs": [],
   "source": [
    "grp1=df_assigned1.groupby(df_assigned1['NSN_TRBL_DS'])['NSN_TRBL_DS'].count()\n",
    "df_temp1=df_assigned1['NSN_TRBL_DS'].value_counts().reset_index()\n",
    "df_temp1=df_temp1[df_temp1['NSN_TRBL_DS']>=20]\n",
    "df_assigned2=df_assigned1[df_assigned1['NSN_TRBL_DS'].isin(df_temp1['index'])]\n",
    "X=df_assigned2['new_subject1']\n",
    "Y=df_assigned2['Assigned']"
   ]
  },
  {
   "cell_type": "markdown",
   "metadata": {},
   "source": [
    "#There is a Imbalance in the datset.We need to handle values by doing oversampling technique"
   ]
  },
  {
   "cell_type": "code",
   "execution_count": 31,
   "metadata": {},
   "outputs": [
    {
     "name": "stdout",
     "output_type": "stream",
     "text": [
      "(6685,)\n"
     ]
    }
   ],
   "source": [
    "print(X.shape)"
   ]
  },
  {
   "cell_type": "code",
   "execution_count": 32,
   "metadata": {},
   "outputs": [
    {
     "name": "stdout",
     "output_type": "stream",
     "text": [
      "(6685,)\n"
     ]
    }
   ],
   "source": [
    "print(Y.shape)"
   ]
  },
  {
   "cell_type": "code",
   "execution_count": 33,
   "metadata": {},
   "outputs": [
    {
     "data": {
      "text/plain": [
       "D    5198\n",
       "M    1487\n",
       "Name: Assigned, dtype: int64"
      ]
     },
     "execution_count": 33,
     "metadata": {},
     "output_type": "execute_result"
    }
   ],
   "source": [
    "Y.value_counts()"
   ]
  },
  {
   "cell_type": "code",
   "execution_count": 34,
   "metadata": {},
   "outputs": [],
   "source": [
    "from sklearn.feature_extraction.text import TfidfVectorizer\n",
    "vec = TfidfVectorizer()"
   ]
  },
  {
   "cell_type": "code",
   "execution_count": 35,
   "metadata": {},
   "outputs": [
    {
     "data": {
      "text/plain": [
       "(6685, 5665)"
      ]
     },
     "execution_count": 35,
     "metadata": {},
     "output_type": "execute_result"
    }
   ],
   "source": [
    "vec_x=vec.fit_transform(X)\n",
    "vec_x.shape"
   ]
  },
  {
   "cell_type": "code",
   "execution_count": 40,
   "metadata": {},
   "outputs": [],
   "source": [
    "from imblearn.over_sampling import RandomOverSampler"
   ]
  },
  {
   "cell_type": "code",
   "execution_count": 41,
   "metadata": {},
   "outputs": [],
   "source": [
    "os=RandomOverSampler()\n",
    "x_os,y_os=os.fit_sample(vec_x,Y)"
   ]
  },
  {
   "cell_type": "code",
   "execution_count": 42,
   "metadata": {},
   "outputs": [
    {
     "data": {
      "text/plain": [
       "<10396x5665 sparse matrix of type '<class 'numpy.float64'>'\n",
       "\twith 147282 stored elements in Compressed Sparse Row format>"
      ]
     },
     "execution_count": 42,
     "metadata": {},
     "output_type": "execute_result"
    }
   ],
   "source": [
    "x_os"
   ]
  },
  {
   "cell_type": "code",
   "execution_count": 43,
   "metadata": {},
   "outputs": [
    {
     "data": {
      "text/plain": [
       "0        D\n",
       "1        D\n",
       "2        M\n",
       "3        D\n",
       "4        D\n",
       "        ..\n",
       "10391    M\n",
       "10392    M\n",
       "10393    M\n",
       "10394    M\n",
       "10395    M\n",
       "Name: Assigned, Length: 10396, dtype: object"
      ]
     },
     "execution_count": 43,
     "metadata": {},
     "output_type": "execute_result"
    }
   ],
   "source": [
    "y_os"
   ]
  },
  {
   "cell_type": "code",
   "execution_count": 105,
   "metadata": {},
   "outputs": [],
   "source": [
    "from sklearn.model_selection import train_test_split\n",
    "X_train1,X_test1,y_train1,y_test1=train_test_split(x_os,y_os, train_size=0.70,random_state=400)\n",
    "# #import pandas as pd\n",
    "#from sklearn.feature_extraction.text import TfidfVectorizer\n",
    "#from sklearn.feature_extraction.text import CountVectorizer\n",
    "cv = TfidfVectorizer()\n",
    "#cv1= CountVectorizer()\n",
    "cv_train1 = X_train1\n",
    "cv_test1=X_test1"
   ]
  },
  {
   "cell_type": "code",
   "execution_count": 106,
   "metadata": {},
   "outputs": [
    {
     "data": {
      "text/plain": [
       "LogisticRegression(C=1.0, class_weight=None, dual=False, fit_intercept=True,\n",
       "                   intercept_scaling=1, l1_ratio=None, max_iter=100,\n",
       "                   multi_class='auto', n_jobs=None, penalty='l2',\n",
       "                   random_state=None, solver='lbfgs', tol=0.0001, verbose=0,\n",
       "                   warm_start=False)"
      ]
     },
     "execution_count": 106,
     "metadata": {},
     "output_type": "execute_result"
    }
   ],
   "source": [
    "from sklearn.linear_model import LogisticRegression\n",
    "from sklearn import metrics\n",
    "logreg = LogisticRegression()\n",
    "logreg.fit(cv_train1,y_train1)"
   ]
  },
  {
   "cell_type": "code",
   "execution_count": 107,
   "metadata": {},
   "outputs": [],
   "source": [
    "#y_pred\n",
    "y_pred=logreg.predict(cv_test1)"
   ]
  },
  {
   "cell_type": "code",
   "execution_count": 108,
   "metadata": {},
   "outputs": [
    {
     "data": {
      "text/plain": [
       "0.7986534145559474"
      ]
     },
     "execution_count": 108,
     "metadata": {},
     "output_type": "execute_result"
    }
   ],
   "source": [
    "logreg.score(cv_test1,y_test1)"
   ]
  },
  {
   "cell_type": "code",
   "execution_count": 109,
   "metadata": {},
   "outputs": [
    {
     "name": "stdout",
     "output_type": "stream",
     "text": [
      "accuracy 0.7986534145559474\n"
     ]
    }
   ],
   "source": [
    "from sklearn.metrics import accuracy_score\n",
    "print('accuracy %s' % accuracy_score(y_pred, y_test1))"
   ]
  },
  {
   "cell_type": "code",
   "execution_count": 110,
   "metadata": {},
   "outputs": [
    {
     "name": "stdout",
     "output_type": "stream",
     "text": [
      "              precision    recall  f1-score   support\n",
      "\n",
      "           D       0.82      0.76      0.79      1560\n",
      "           M       0.78      0.84      0.81      1559\n",
      "\n",
      "    accuracy                           0.80      3119\n",
      "   macro avg       0.80      0.80      0.80      3119\n",
      "weighted avg       0.80      0.80      0.80      3119\n",
      "\n"
     ]
    }
   ],
   "source": [
    "from sklearn.metrics import classification_report\n",
    "print(classification_report(y_test1, y_pred))"
   ]
  },
  {
   "cell_type": "markdown",
   "metadata": {},
   "source": [
    "# Random Forest"
   ]
  },
  {
   "cell_type": "code",
   "execution_count": 111,
   "metadata": {},
   "outputs": [],
   "source": [
    "from sklearn.ensemble import RandomForestClassifier"
   ]
  },
  {
   "cell_type": "code",
   "execution_count": 112,
   "metadata": {},
   "outputs": [],
   "source": [
    "clf1=RandomForestClassifier(n_estimators=160,oob_score=True,n_jobs=-1,random_state=400)"
   ]
  },
  {
   "cell_type": "code",
   "execution_count": 114,
   "metadata": {},
   "outputs": [
    {
     "data": {
      "text/plain": [
       "RandomForestClassifier(bootstrap=True, ccp_alpha=0.0, class_weight=None,\n",
       "                       criterion='gini', max_depth=None, max_features='auto',\n",
       "                       max_leaf_nodes=None, max_samples=None,\n",
       "                       min_impurity_decrease=0.0, min_impurity_split=None,\n",
       "                       min_samples_leaf=1, min_samples_split=2,\n",
       "                       min_weight_fraction_leaf=0.0, n_estimators=160,\n",
       "                       n_jobs=-1, oob_score=True, random_state=400, verbose=0,\n",
       "                       warm_start=False)"
      ]
     },
     "execution_count": 114,
     "metadata": {},
     "output_type": "execute_result"
    }
   ],
   "source": [
    "clf1.fit(cv_train1,y_train1)"
   ]
  },
  {
   "cell_type": "code",
   "execution_count": 115,
   "metadata": {},
   "outputs": [
    {
     "data": {
      "text/plain": [
       "0.8530988044523842"
      ]
     },
     "execution_count": 115,
     "metadata": {},
     "output_type": "execute_result"
    }
   ],
   "source": [
    "clf1.oob_score_"
   ]
  },
  {
   "cell_type": "code",
   "execution_count": 116,
   "metadata": {},
   "outputs": [
    {
     "data": {
      "text/plain": [
       "0.944482616462828"
      ]
     },
     "execution_count": 116,
     "metadata": {},
     "output_type": "execute_result"
    }
   ],
   "source": [
    "clf1.score(cv_train1,y_train1)"
   ]
  },
  {
   "cell_type": "code",
   "execution_count": 118,
   "metadata": {},
   "outputs": [
    {
     "data": {
      "text/plain": [
       "0.8614940686117345"
      ]
     },
     "execution_count": 118,
     "metadata": {},
     "output_type": "execute_result"
    }
   ],
   "source": [
    "clf1.score(cv_test1,y_test1)"
   ]
  },
  {
   "cell_type": "code",
   "execution_count": 119,
   "metadata": {},
   "outputs": [],
   "source": [
    "y_pred1_a=clf1.predict(cv_test1)"
   ]
  },
  {
   "cell_type": "code",
   "execution_count": 120,
   "metadata": {},
   "outputs": [
    {
     "name": "stdout",
     "output_type": "stream",
     "text": [
      "accuracy 0.8614940686117345\n"
     ]
    }
   ],
   "source": [
    "from sklearn.metrics import accuracy_score\n",
    "print('accuracy %s' % accuracy_score(y_pred1_a, y_test1))"
   ]
  },
  {
   "cell_type": "code",
   "execution_count": 121,
   "metadata": {},
   "outputs": [
    {
     "name": "stdout",
     "output_type": "stream",
     "text": [
      "              precision    recall  f1-score   support\n",
      "\n",
      "           D       0.92      0.80      0.85      1560\n",
      "           M       0.82      0.93      0.87      1559\n",
      "\n",
      "    accuracy                           0.86      3119\n",
      "   macro avg       0.87      0.86      0.86      3119\n",
      "weighted avg       0.87      0.86      0.86      3119\n",
      "\n"
     ]
    }
   ],
   "source": [
    "print(classification_report(y_test1, y_pred1_a))"
   ]
  },
  {
   "cell_type": "code",
   "execution_count": 122,
   "metadata": {},
   "outputs": [
    {
     "data": {
      "text/html": [
       "<div>\n",
       "<style scoped>\n",
       "    .dataframe tbody tr th:only-of-type {\n",
       "        vertical-align: middle;\n",
       "    }\n",
       "\n",
       "    .dataframe tbody tr th {\n",
       "        vertical-align: top;\n",
       "    }\n",
       "\n",
       "    .dataframe thead th {\n",
       "        text-align: right;\n",
       "    }\n",
       "</style>\n",
       "<table border=\"1\" class=\"dataframe\">\n",
       "  <thead>\n",
       "    <tr style=\"text-align: right;\">\n",
       "      <th></th>\n",
       "      <th>0</th>\n",
       "      <th>1</th>\n",
       "    </tr>\n",
       "  </thead>\n",
       "  <tbody>\n",
       "    <tr>\n",
       "      <th>0</th>\n",
       "      <td>1241</td>\n",
       "      <td>319</td>\n",
       "    </tr>\n",
       "    <tr>\n",
       "      <th>1</th>\n",
       "      <td>113</td>\n",
       "      <td>1446</td>\n",
       "    </tr>\n",
       "  </tbody>\n",
       "</table>\n",
       "</div>"
      ],
      "text/plain": [
       "      0     1\n",
       "0  1241   319\n",
       "1   113  1446"
      ]
     },
     "execution_count": 122,
     "metadata": {},
     "output_type": "execute_result"
    }
   ],
   "source": [
    "from sklearn.metrics import confusion_matrix\n",
    "confusion_matrix = confusion_matrix(y_test1, y_pred1_a)\n",
    "pd.DataFrame(confusion_matrix)"
   ]
  },
  {
   "cell_type": "code",
   "execution_count": 80,
   "metadata": {},
   "outputs": [],
   "source": [
    "x1=pd.DataFrame(X_test1)"
   ]
  },
  {
   "cell_type": "code",
   "execution_count": 81,
   "metadata": {},
   "outputs": [],
   "source": [
    "y1=pd.DataFrame(y_test1)"
   ]
  },
  {
   "cell_type": "code",
   "execution_count": 82,
   "metadata": {},
   "outputs": [],
   "source": [
    "z1=pd.DataFrame(y_pred1_a)"
   ]
  },
  {
   "cell_type": "code",
   "execution_count": 83,
   "metadata": {},
   "outputs": [],
   "source": [
    "x1=x1.reset_index(drop=True)\n",
    "y1=y1.reset_index(drop=True)\n",
    "z1=z1.reset_index(drop=True)"
   ]
  },
  {
   "cell_type": "code",
   "execution_count": 84,
   "metadata": {},
   "outputs": [],
   "source": [
    "pd.concat([x1,y1,z1],axis=1).to_csv(\"C:\\\\Users\\\\VMIB804\\\\Desktop\\\\Qvoice\\\\assigned_pred.csv\")"
   ]
  },
  {
   "cell_type": "markdown",
   "metadata": {},
   "source": [
    "# GridSearch"
   ]
  },
  {
   "cell_type": "code",
   "execution_count": 428,
   "metadata": {},
   "outputs": [
    {
     "name": "stdout",
     "output_type": "stream",
     "text": [
      "For n_estimators = 20\n",
      "OOB score is 0.7946896035901272\n",
      "************************\n",
      "For n_estimators = 40\n",
      "OOB score is 0.8012341062079282\n",
      "************************\n",
      "For n_estimators = 60\n",
      "OOB score is 0.8032909498878086\n",
      "************************\n",
      "For n_estimators = 80\n",
      "OOB score is 0.8072176514584891\n",
      "************************\n",
      "For n_estimators = 100\n",
      "OOB score is 0.8051608077786089\n",
      "************************\n",
      "For n_estimators = 120\n",
      "OOB score is 0.805908750934929\n",
      "************************\n",
      "For n_estimators = 140\n",
      "OOB score is 0.8081525804038893\n",
      "************************\n",
      "For n_estimators = 160\n",
      "OOB score is 0.8089005235602095\n",
      "************************\n",
      "For n_estimators = 180\n",
      "OOB score is 0.8077786088257293\n",
      "************************\n",
      "For n_estimators = 200\n",
      "OOB score is 0.8066566940912491\n",
      "************************\n",
      "For n_estimators = 220\n",
      "OOB score is 0.8074046372475692\n",
      "************************\n",
      "For n_estimators = 240\n",
      "OOB score is 0.8057217651458489\n",
      "************************\n",
      "For n_estimators = 260\n",
      "OOB score is 0.8066566940912491\n",
      "************************\n",
      "For n_estimators = 280\n",
      "OOB score is 0.8066566940912491\n",
      "************************\n",
      "For n_estimators = 300\n",
      "OOB score is 0.8074046372475692\n",
      "************************\n",
      "For n_estimators = 320\n",
      "OOB score is 0.8077786088257293\n",
      "************************\n",
      "For n_estimators = 340\n",
      "OOB score is 0.8074046372475692\n",
      "************************\n",
      "For n_estimators = 360\n",
      "OOB score is 0.8070306656694092\n",
      "************************\n",
      "For n_estimators = 380\n",
      "OOB score is 0.8066566940912491\n",
      "************************\n",
      "For n_estimators = 400\n",
      "OOB score is 0.8077786088257293\n",
      "************************\n",
      "For n_estimators = 420\n",
      "OOB score is 0.8072176514584891\n",
      "************************\n",
      "For n_estimators = 440\n",
      "OOB score is 0.8081525804038893\n",
      "************************\n",
      "For n_estimators = 460\n",
      "OOB score is 0.8081525804038893\n",
      "************************\n",
      "For n_estimators = 480\n",
      "OOB score is 0.8083395661929693\n",
      "************************\n",
      "For n_estimators = 500\n",
      "OOB score is 0.8074046372475692\n",
      "************************\n",
      "For n_estimators = 520\n",
      "OOB score is 0.8081525804038893\n",
      "************************\n",
      "For n_estimators = 540\n",
      "OOB score is 0.8070306656694092\n",
      "************************\n",
      "For n_estimators = 560\n",
      "OOB score is 0.8077786088257293\n",
      "************************\n",
      "For n_estimators = 580\n",
      "OOB score is 0.8068436798803291\n",
      "************************\n",
      "For n_estimators = 600\n",
      "OOB score is 0.8055347793567689\n",
      "************************\n",
      "For n_estimators = 620\n",
      "OOB score is 0.806282722513089\n",
      "************************\n",
      "For n_estimators = 640\n",
      "OOB score is 0.806095736724009\n",
      "************************\n",
      "For n_estimators = 660\n",
      "OOB score is 0.8053477935676888\n",
      "************************\n",
      "For n_estimators = 680\n",
      "OOB score is 0.805908750934929\n",
      "************************\n",
      "For n_estimators = 700\n",
      "OOB score is 0.8049738219895288\n",
      "************************\n",
      "For n_estimators = 720\n",
      "OOB score is 0.8055347793567689\n",
      "************************\n",
      "For n_estimators = 740\n",
      "OOB score is 0.8055347793567689\n",
      "************************\n",
      "For n_estimators = 760\n",
      "OOB score is 0.8057217651458489\n",
      "************************\n",
      "For n_estimators = 780\n",
      "OOB score is 0.806095736724009\n",
      "************************\n",
      "For n_estimators = 800\n",
      "OOB score is 0.8051608077786089\n",
      "************************\n",
      "For n_estimators = 820\n",
      "OOB score is 0.8049738219895288\n",
      "************************\n",
      "For n_estimators = 840\n",
      "OOB score is 0.8051608077786089\n",
      "************************\n",
      "For n_estimators = 860\n",
      "OOB score is 0.8051608077786089\n",
      "************************\n",
      "For n_estimators = 880\n",
      "OOB score is 0.806469708302169\n",
      "************************\n",
      "For n_estimators = 900\n",
      "OOB score is 0.8051608077786089\n",
      "************************\n",
      "For n_estimators = 920\n",
      "OOB score is 0.8049738219895288\n",
      "************************\n",
      "For n_estimators = 940\n",
      "OOB score is 0.806095736724009\n",
      "************************\n",
      "For n_estimators = 960\n",
      "OOB score is 0.806469708302169\n",
      "************************\n",
      "For n_estimators = 980\n",
      "OOB score is 0.8053477935676888\n",
      "************************\n"
     ]
    }
   ],
   "source": [
    "for w in range(20,1000,20):\n",
    "    clf=RandomForestClassifier(n_estimators=w,oob_score=True,n_jobs=-1,random_state=400)\n",
    "    clf.fit(cv_train1,y_train1)\n",
    "    oob=clf.oob_score_\n",
    "    print('For n_estimators = '+str(w))\n",
    "    print('OOB score is '+str(oob))\n",
    "    print('************************')"
   ]
  },
  {
   "cell_type": "markdown",
   "metadata": {},
   "source": [
    "# Navie Bayes"
   ]
  },
  {
   "cell_type": "code",
   "execution_count": 123,
   "metadata": {},
   "outputs": [],
   "source": [
    "from sklearn.naive_bayes import MultinomialNB"
   ]
  },
  {
   "cell_type": "code",
   "execution_count": 124,
   "metadata": {},
   "outputs": [],
   "source": [
    "model_nb = MultinomialNB()"
   ]
  },
  {
   "cell_type": "code",
   "execution_count": 125,
   "metadata": {},
   "outputs": [
    {
     "data": {
      "text/plain": [
       "MultinomialNB(alpha=1.0, class_prior=None, fit_prior=True)"
      ]
     },
     "execution_count": 125,
     "metadata": {},
     "output_type": "execute_result"
    }
   ],
   "source": [
    "# fit the model with the training data\n",
    "model_nb.fit(cv_train1,y_train1)"
   ]
  },
  {
   "cell_type": "code",
   "execution_count": 126,
   "metadata": {},
   "outputs": [
    {
     "data": {
      "text/plain": [
       "0.7959323897210389"
      ]
     },
     "execution_count": 126,
     "metadata": {},
     "output_type": "execute_result"
    }
   ],
   "source": [
    "model_nb.score(cv_train1,y_train1)"
   ]
  },
  {
   "cell_type": "code",
   "execution_count": 127,
   "metadata": {},
   "outputs": [
    {
     "data": {
      "text/plain": [
       "0.7874318691888426"
      ]
     },
     "execution_count": 127,
     "metadata": {},
     "output_type": "execute_result"
    }
   ],
   "source": [
    "model_nb.score(cv_test1,y_test1)"
   ]
  },
  {
   "cell_type": "code",
   "execution_count": 128,
   "metadata": {},
   "outputs": [],
   "source": [
    "y_pred_nb=model_nb.predict(cv_test1)"
   ]
  },
  {
   "cell_type": "code",
   "execution_count": 129,
   "metadata": {},
   "outputs": [
    {
     "name": "stdout",
     "output_type": "stream",
     "text": [
      "accuracy 0.7874318691888426\n"
     ]
    }
   ],
   "source": [
    "from sklearn.metrics import accuracy_score\n",
    "print('accuracy %s' % accuracy_score(y_pred_nb, y_test1))"
   ]
  },
  {
   "cell_type": "code",
   "execution_count": 130,
   "metadata": {},
   "outputs": [
    {
     "data": {
      "text/html": [
       "<div>\n",
       "<style scoped>\n",
       "    .dataframe tbody tr th:only-of-type {\n",
       "        vertical-align: middle;\n",
       "    }\n",
       "\n",
       "    .dataframe tbody tr th {\n",
       "        vertical-align: top;\n",
       "    }\n",
       "\n",
       "    .dataframe thead th {\n",
       "        text-align: right;\n",
       "    }\n",
       "</style>\n",
       "<table border=\"1\" class=\"dataframe\">\n",
       "  <thead>\n",
       "    <tr style=\"text-align: right;\">\n",
       "      <th></th>\n",
       "      <th>0</th>\n",
       "      <th>1</th>\n",
       "    </tr>\n",
       "  </thead>\n",
       "  <tbody>\n",
       "    <tr>\n",
       "      <th>0</th>\n",
       "      <td>1151</td>\n",
       "      <td>409</td>\n",
       "    </tr>\n",
       "    <tr>\n",
       "      <th>1</th>\n",
       "      <td>254</td>\n",
       "      <td>1305</td>\n",
       "    </tr>\n",
       "  </tbody>\n",
       "</table>\n",
       "</div>"
      ],
      "text/plain": [
       "      0     1\n",
       "0  1151   409\n",
       "1   254  1305"
      ]
     },
     "execution_count": 130,
     "metadata": {},
     "output_type": "execute_result"
    }
   ],
   "source": [
    "from sklearn.metrics import confusion_matrix\n",
    "confusion_matrix = confusion_matrix(y_test1, y_pred_nb)\n",
    "pd.DataFrame(confusion_matrix)"
   ]
  },
  {
   "cell_type": "code",
   "execution_count": 131,
   "metadata": {},
   "outputs": [
    {
     "name": "stdout",
     "output_type": "stream",
     "text": [
      "              precision    recall  f1-score   support\n",
      "\n",
      "           D       0.82      0.74      0.78      1560\n",
      "           M       0.76      0.84      0.80      1559\n",
      "\n",
      "    accuracy                           0.79      3119\n",
      "   macro avg       0.79      0.79      0.79      3119\n",
      "weighted avg       0.79      0.79      0.79      3119\n",
      "\n"
     ]
    }
   ],
   "source": [
    "print(classification_report(y_test1, y_pred_nb))"
   ]
  },
  {
   "cell_type": "markdown",
   "metadata": {},
   "source": [
    "# SVM"
   ]
  },
  {
   "cell_type": "code",
   "execution_count": 132,
   "metadata": {},
   "outputs": [],
   "source": [
    "from sklearn.svm import SVC"
   ]
  },
  {
   "cell_type": "code",
   "execution_count": 133,
   "metadata": {},
   "outputs": [],
   "source": [
    "svm= SVC(C=10,kernel='rbf',gamma='scale')"
   ]
  },
  {
   "cell_type": "code",
   "execution_count": 134,
   "metadata": {},
   "outputs": [
    {
     "data": {
      "text/plain": [
       "SVC(C=10, break_ties=False, cache_size=200, class_weight=None, coef0=0.0,\n",
       "    decision_function_shape='ovr', degree=3, gamma='scale', kernel='rbf',\n",
       "    max_iter=-1, probability=False, random_state=None, shrinking=True,\n",
       "    tol=0.001, verbose=False)"
      ]
     },
     "execution_count": 134,
     "metadata": {},
     "output_type": "execute_result"
    }
   ],
   "source": [
    "svm.fit(cv_train1,y_train1)"
   ]
  },
  {
   "cell_type": "code",
   "execution_count": 135,
   "metadata": {},
   "outputs": [
    {
     "data": {
      "text/plain": [
       "0.9440703586642847"
      ]
     },
     "execution_count": 135,
     "metadata": {},
     "output_type": "execute_result"
    }
   ],
   "source": [
    "svm.score(cv_train1,y_train1)"
   ]
  },
  {
   "cell_type": "code",
   "execution_count": 136,
   "metadata": {},
   "outputs": [
    {
     "data": {
      "text/plain": [
       "0.8730362295607567"
      ]
     },
     "execution_count": 136,
     "metadata": {},
     "output_type": "execute_result"
    }
   ],
   "source": [
    "svm.score(cv_test1,y_test1)"
   ]
  },
  {
   "cell_type": "code",
   "execution_count": 137,
   "metadata": {},
   "outputs": [],
   "source": [
    "y_pred_svm=svm.predict(cv_test1)"
   ]
  },
  {
   "cell_type": "code",
   "execution_count": 138,
   "metadata": {},
   "outputs": [
    {
     "name": "stdout",
     "output_type": "stream",
     "text": [
      "accuracy 0.8730362295607567\n"
     ]
    }
   ],
   "source": [
    "from sklearn.metrics import accuracy_score\n",
    "print('accuracy %s' % accuracy_score(y_pred_svm, y_test1))"
   ]
  },
  {
   "cell_type": "code",
   "execution_count": 73,
   "metadata": {},
   "outputs": [
    {
     "name": "stdout",
     "output_type": "stream",
     "text": [
      "              precision    recall  f1-score   support\n",
      "\n",
      "           D       0.92      0.85      0.88      1019\n",
      "           M       0.87      0.92      0.89      1061\n",
      "\n",
      "    accuracy                           0.89      2080\n",
      "   macro avg       0.89      0.89      0.89      2080\n",
      "weighted avg       0.89      0.89      0.89      2080\n",
      "\n"
     ]
    }
   ],
   "source": [
    "print(classification_report(y_test1,y_pred_svm))"
   ]
  },
  {
   "cell_type": "markdown",
   "metadata": {},
   "source": [
    "#Grid Search"
   ]
  },
  {
   "cell_type": "code",
   "execution_count": 451,
   "metadata": {},
   "outputs": [
    {
     "name": "stderr",
     "output_type": "stream",
     "text": [
      "C:\\ProgramData\\Anaconda3\\lib\\site-packages\\sklearn\\model_selection\\_split.py:1978: FutureWarning: The default value of cv will change from 3 to 5 in version 0.22. Specify it explicitly to silence this warning.\n",
      "  warnings.warn(CV_WARNING, FutureWarning)\n"
     ]
    },
    {
     "name": "stdout",
     "output_type": "stream",
     "text": [
      "Best Hyper Parameters:\n",
      " {'C': 10, 'gamma': 'scale', 'kernel': 'rbf'}\n",
      "Accuracy: 0.8040388930441287\n",
      "Confusion Metrix:\n",
      " [[936 181]\n",
      " [ 81 139]]\n"
     ]
    }
   ],
   "source": [
    "#importing modules\n",
    "from sklearn.model_selection import GridSearchCV\n",
    "from sklearn import svm\n",
    "#making the instance\n",
    "model_svm=svm.SVC()\n",
    "#Hyper Parameters Set\n",
    "params = {'C': [1,2,3,4,5,6,7,8,9,10,11,12], \n",
    "          'kernel': ['linear','rbf','poly'],\n",
    "         'gamma':['auto','scale']}\n",
    "#Making models with hyper parameters sets\n",
    "model1 = GridSearchCV(model_svm, param_grid=params, n_jobs=-1)\n",
    "#Learning\n",
    "model1.fit(cv_train1,y_train1)\n",
    "#The best hyper parameters set\n",
    "print(\"Best Hyper Parameters:\\n\",model1.best_params_)\n",
    "#Prediction\n",
    "prediction=model1.predict(cv_test1)\n",
    "#importing the metrics module\n",
    "from sklearn import metrics\n",
    "#evaluation(Accuracy)\n",
    "print(\"Accuracy:\",metrics.accuracy_score(prediction,y_test1))\n",
    "#evaluation(Confusion Metrix)\n",
    "print(\"Confusion Metrix:\\n\",metrics.confusion_matrix(prediction,y_test1))"
   ]
  },
  {
   "cell_type": "markdown",
   "metadata": {},
   "source": [
    "# KNeighborsClassifier"
   ]
  },
  {
   "cell_type": "code",
   "execution_count": 143,
   "metadata": {},
   "outputs": [],
   "source": [
    "from sklearn.neighbors import KNeighborsClassifier"
   ]
  },
  {
   "cell_type": "code",
   "execution_count": 144,
   "metadata": {},
   "outputs": [],
   "source": [
    "knn = KNeighborsClassifier(n_neighbors=6,p=1)"
   ]
  },
  {
   "cell_type": "code",
   "execution_count": 145,
   "metadata": {},
   "outputs": [
    {
     "data": {
      "text/plain": [
       "KNeighborsClassifier(algorithm='auto', leaf_size=30, metric='minkowski',\n",
       "                     metric_params=None, n_jobs=None, n_neighbors=6, p=1,\n",
       "                     weights='uniform')"
      ]
     },
     "execution_count": 145,
     "metadata": {},
     "output_type": "execute_result"
    }
   ],
   "source": [
    "knn.fit(cv_train1,y_train1)"
   ]
  },
  {
   "cell_type": "code",
   "execution_count": 151,
   "metadata": {},
   "outputs": [],
   "source": [
    "knn.score(cv_train1,y_train1)"
   ]
  },
  {
   "cell_type": "code",
   "execution_count": 152,
   "metadata": {},
   "outputs": [],
   "source": [
    "knn.score(cv_test1,y_test1)"
   ]
  },
  {
   "cell_type": "code",
   "execution_count": 153,
   "metadata": {},
   "outputs": [],
   "source": [
    "y_pred_knn=knn.predict(cv_test1)"
   ]
  },
  {
   "cell_type": "code",
   "execution_count": 154,
   "metadata": {},
   "outputs": [],
   "source": [
    "print('accuracy %s' % accuracy_score(y_pred_knn, y_test1))"
   ]
  },
  {
   "cell_type": "code",
   "execution_count": 301,
   "metadata": {},
   "outputs": [
    {
     "name": "stdout",
     "output_type": "stream",
     "text": [
      "              precision    recall  f1-score   support\n",
      "\n",
      "           D       0.81      0.95      0.87      1549\n",
      "           M       0.57      0.23      0.33       457\n",
      "\n",
      "    accuracy                           0.79      2006\n",
      "   macro avg       0.69      0.59      0.60      2006\n",
      "weighted avg       0.75      0.79      0.75      2006\n",
      "\n"
     ]
    }
   ],
   "source": [
    "print(classification_report(y_test1,y_pred_knn))"
   ]
  },
  {
   "cell_type": "markdown",
   "metadata": {},
   "source": [
    "# GridSearch"
   ]
  },
  {
   "cell_type": "code",
   "execution_count": 468,
   "metadata": {},
   "outputs": [
    {
     "name": "stderr",
     "output_type": "stream",
     "text": [
      "C:\\ProgramData\\Anaconda3\\lib\\site-packages\\sklearn\\model_selection\\_split.py:1978: FutureWarning: The default value of cv will change from 3 to 5 in version 0.22. Specify it explicitly to silence this warning.\n",
      "  warnings.warn(CV_WARNING, FutureWarning)\n"
     ]
    },
    {
     "name": "stdout",
     "output_type": "stream",
     "text": [
      "Best Hyper Parameters:\n",
      " {'algorithm': 'auto', 'leaf_size': 30, 'n_jobs': -1, 'n_neighbors': 6, 'p': 1, 'weights': 'distance'}\n",
      "Accuracy: 0.7801047120418848\n",
      "Confusion Metrix:\n",
      " [[957 234]\n",
      " [ 60  86]]\n"
     ]
    }
   ],
   "source": [
    "from sklearn.model_selection import GridSearchCV\n",
    "from sklearn.neighbors import KNeighborsClassifier\n",
    "#making the instance\n",
    "model = KNeighborsClassifier(n_jobs=-1)\n",
    "#Hyper Parameters Set\n",
    "params = {'n_neighbors':[5,6],\n",
    "          'leaf_size':[30,40,50],\n",
    "          'weights':['uniform', 'distance'],\n",
    "          'algorithm':['auto', 'ball_tree','kd_tree','brute'],\n",
    "          'p':[1,2],\n",
    "          'n_jobs':[-1]}\n",
    "#Making models with hyper parameters sets\n",
    "model1 = GridSearchCV(model, param_grid=params, n_jobs=-1)\n",
    "#Learning\n",
    "model1.fit(cv_train1,y_train1)\n",
    "#The best hyper parameters set\n",
    "print(\"Best Hyper Parameters:\\n\",model1.best_params_)\n",
    "#Prediction\n",
    "prediction=model1.predict(cv_test1)\n",
    "#importing the metrics module\n",
    "from sklearn import metrics\n",
    "#evaluation(Accuracy)\n",
    "print(\"Accuracy:\",metrics.accuracy_score(prediction,y_test1))\n",
    "#evaluation(Confusion Metrix)\n",
    "print(\"Confusion Metrix:\\n\",metrics.confusion_matrix(prediction,y_test1))"
   ]
  },
  {
   "cell_type": "markdown",
   "metadata": {},
   "source": [
    "# Gradient Boosting"
   ]
  },
  {
   "cell_type": "code",
   "execution_count": 139,
   "metadata": {},
   "outputs": [
    {
     "name": "stdout",
     "output_type": "stream",
     "text": [
      "accuracy 0.8287912792561718\n"
     ]
    }
   ],
   "source": [
    "from sklearn.ensemble import GradientBoostingClassifier\n",
    "GBC=GradientBoostingClassifier(n_estimators=340,random_state=400)\n",
    "GBC.fit(cv_train1,y_train1)\n",
    "GBC.score(cv_test1,y_test1)\n",
    "y_pred_gbc=GBC.predict(cv_test1)\n",
    "from sklearn.metrics import accuracy_score\n",
    "print('accuracy %s' % accuracy_score(y_pred_gbc,y_test1))"
   ]
  },
  {
   "cell_type": "code",
   "execution_count": 140,
   "metadata": {},
   "outputs": [
    {
     "name": "stdout",
     "output_type": "stream",
     "text": [
      "              precision    recall  f1-score   support\n",
      "\n",
      "           D       0.89      0.76      0.82      1560\n",
      "           M       0.79      0.90      0.84      1559\n",
      "\n",
      "    accuracy                           0.83      3119\n",
      "   macro avg       0.84      0.83      0.83      3119\n",
      "weighted avg       0.84      0.83      0.83      3119\n",
      "\n"
     ]
    }
   ],
   "source": [
    "print(classification_report(y_test1,y_pred_gbc))"
   ]
  },
  {
   "cell_type": "code",
   "execution_count": 426,
   "metadata": {},
   "outputs": [],
   "source": [
    "from sklearn.model_selection import GridSearchCV"
   ]
  },
  {
   "cell_type": "code",
   "execution_count": 475,
   "metadata": {},
   "outputs": [
    {
     "name": "stderr",
     "output_type": "stream",
     "text": [
      "C:\\ProgramData\\Anaconda3\\lib\\site-packages\\sklearn\\model_selection\\_split.py:1978: FutureWarning: The default value of cv will change from 3 to 5 in version 0.22. Specify it explicitly to silence this warning.\n",
      "  warnings.warn(CV_WARNING, FutureWarning)\n"
     ]
    },
    {
     "data": {
      "text/plain": [
       "GridSearchCV(cv='warn', error_score='raise-deprecating',\n",
       "             estimator=GradientBoostingClassifier(criterion='friedman_mse',\n",
       "                                                  init=None, learning_rate=0.1,\n",
       "                                                  loss='deviance', max_depth=3,\n",
       "                                                  max_features=None,\n",
       "                                                  max_leaf_nodes=None,\n",
       "                                                  min_impurity_decrease=0.0,\n",
       "                                                  min_impurity_split=None,\n",
       "                                                  min_samples_leaf=1,\n",
       "                                                  min_samples_split=2,\n",
       "                                                  min_weight_fraction_leaf=0.0,\n",
       "                                                  n_estimators=340,\n",
       "                                                  n_iter_no_change=None,\n",
       "                                                  presort='auto',\n",
       "                                                  random_state=400,\n",
       "                                                  subsample=1.0, tol=0.0001,\n",
       "                                                  validation_fraction=0.1,\n",
       "                                                  verbose=0, warm_start=False),\n",
       "             iid='warn', n_jobs=None,\n",
       "             param_grid={'n_estimators': [80, 100, 120, 140, 160, 180, 200, 240,\n",
       "                                          260, 280, 220, 300, 320, 340, 360,\n",
       "                                          380, 400]},\n",
       "             pre_dispatch='2*n_jobs', refit=True, return_train_score=False,\n",
       "             scoring=None, verbose=0)"
      ]
     },
     "execution_count": 475,
     "metadata": {},
     "output_type": "execute_result"
    }
   ],
   "source": [
    "mod=GridSearchCV(GBC,param_grid={'n_estimators':[80,100,120,140,160,180,200,240,260,280,220,300,320,340,360,380,400]})\n",
    "mod.fit(cv_train1,y_train1)"
   ]
  },
  {
   "cell_type": "code",
   "execution_count": 476,
   "metadata": {},
   "outputs": [
    {
     "data": {
      "text/plain": [
       "GradientBoostingClassifier(criterion='friedman_mse', init=None,\n",
       "                           learning_rate=0.1, loss='deviance', max_depth=3,\n",
       "                           max_features=None, max_leaf_nodes=None,\n",
       "                           min_impurity_decrease=0.0, min_impurity_split=None,\n",
       "                           min_samples_leaf=1, min_samples_split=2,\n",
       "                           min_weight_fraction_leaf=0.0, n_estimators=240,\n",
       "                           n_iter_no_change=None, presort='auto',\n",
       "                           random_state=400, subsample=1.0, tol=0.0001,\n",
       "                           validation_fraction=0.1, verbose=0,\n",
       "                           warm_start=False)"
      ]
     },
     "execution_count": 476,
     "metadata": {},
     "output_type": "execute_result"
    }
   ],
   "source": [
    " mod.best_estimator_"
   ]
  },
  {
   "cell_type": "markdown",
   "metadata": {},
   "source": [
    "# Ridge"
   ]
  },
  {
   "cell_type": "code",
   "execution_count": 141,
   "metadata": {},
   "outputs": [
    {
     "name": "stdout",
     "output_type": "stream",
     "text": [
      "accuracy 0.8223789676178263\n"
     ]
    }
   ],
   "source": [
    "from sklearn.linear_model import RidgeClassifier\n",
    "rid=RidgeClassifier()\n",
    "rid.fit(cv_train1,y_train1)\n",
    "rid.score(cv_test1,y_test1)\n",
    "y_pred_rid1=rid.predict(cv_test1)\n",
    "from sklearn.metrics import accuracy_score\n",
    "print('accuracy %s' % accuracy_score(y_pred_rid1,y_test1))"
   ]
  },
  {
   "cell_type": "code",
   "execution_count": 142,
   "metadata": {},
   "outputs": [
    {
     "name": "stdout",
     "output_type": "stream",
     "text": [
      "              precision    recall  f1-score   support\n",
      "\n",
      "           D       0.86      0.77      0.81      1560\n",
      "           M       0.79      0.87      0.83      1559\n",
      "\n",
      "    accuracy                           0.82      3119\n",
      "   macro avg       0.83      0.82      0.82      3119\n",
      "weighted avg       0.83      0.82      0.82      3119\n",
      "\n"
     ]
    }
   ],
   "source": [
    "print(classification_report(y_test1, y_pred_rid1))"
   ]
  },
  {
   "cell_type": "markdown",
   "metadata": {},
   "source": [
    "# K-Fold"
   ]
  },
  {
   "cell_type": "code",
   "execution_count": 100,
   "metadata": {},
   "outputs": [],
   "source": [
    "from sklearn.model_selection import cross_val_score\n",
    "score=cross_val_score(GBC,x_os,y_os,cv=5)"
   ]
  },
  {
   "cell_type": "code",
   "execution_count": 101,
   "metadata": {},
   "outputs": [
    {
     "data": {
      "text/plain": [
       "0.8267596755096756"
      ]
     },
     "execution_count": 101,
     "metadata": {},
     "output_type": "execute_result"
    }
   ],
   "source": [
    "score.mean()"
   ]
  },
  {
   "cell_type": "markdown",
   "metadata": {},
   "source": [
    "# Startified K-Fold"
   ]
  },
  {
   "cell_type": "code",
   "execution_count": 103,
   "metadata": {},
   "outputs": [
    {
     "name": "stdout",
     "output_type": "stream",
     "text": [
      "Train: [ 1282  1283  1284 ... 10393 10394 10395] test: [   0    1    2 ... 4871 4872 4874]\n",
      "Train: [    0     1     2 ... 10393 10394 10395] test: [1282 1283 1284 ... 7274 7275 7276]\n",
      "Train: [    0     1     2 ... 10393 10394 10395] test: [2604 2605 2606 ... 8313 8314 8315]\n",
      "Train: [    0     1     2 ... 10393 10394 10395] test: [3955 3956 3957 ... 9353 9354 9355]\n",
      "Train: [   0    1    2 ... 9353 9354 9355] test: [ 5284  5285  5286 ... 10393 10394 10395]\n",
      "0.8267596755096756\n"
     ]
    }
   ],
   "source": [
    "accuracy=[]\n",
    "i=GBC\n",
    "from sklearn.model_selection import StratifiedKFold\n",
    "from sklearn.metrics import accuracy_score\n",
    "skf=StratifiedKFold(n_splits=5)\n",
    "\n",
    "for train_index,test_index in skf.split(x_os,y_os):\n",
    "    print(\"Train:\",train_index,\"test:\",test_index)\n",
    "    x1_train,x1_test=x_os[train_index],x_os[test_index]\n",
    "    y1_train,y1_test=y_os[train_index],y_os[test_index]\n",
    "    i.fit(x1_train,y1_train)\n",
    "    prediction=i.predict(x1_test)\n",
    "    score=accuracy_score(prediction,y1_test)\n",
    "    accuracy.append(score)\n",
    "print(np.array(accuracy).mean())"
   ]
  },
  {
   "cell_type": "markdown",
   "metadata": {},
   "source": [
    "# Co-Sine similairty"
   ]
  },
  {
   "cell_type": "code",
   "execution_count": 4,
   "metadata": {},
   "outputs": [],
   "source": [
    "import numpy.linalg as LA\n",
    "cosine_function = lambda a, b : round(np.inner(a, b)/(LA.norm(a)*LA.norm(b)), 3)"
   ]
  },
  {
   "cell_type": "code",
   "execution_count": 47,
   "metadata": {},
   "outputs": [
    {
     "data": {
      "text/plain": [
       "<10396x5665 sparse matrix of type '<class 'numpy.float64'>'\n",
       "\twith 146854 stored elements in Compressed Sparse Row format>"
      ]
     },
     "execution_count": 47,
     "metadata": {},
     "output_type": "execute_result"
    }
   ],
   "source": [
    "x_os"
   ]
  },
  {
   "cell_type": "code",
   "execution_count": 48,
   "metadata": {
    "collapsed": true
   },
   "outputs": [
    {
     "data": {
      "text/plain": [
       "0        D\n",
       "1        D\n",
       "2        M\n",
       "3        D\n",
       "4        D\n",
       "        ..\n",
       "10391    M\n",
       "10392    M\n",
       "10393    M\n",
       "10394    M\n",
       "10395    M\n",
       "Name: Assigned, Length: 10396, dtype: object"
      ]
     },
     "execution_count": 48,
     "metadata": {},
     "output_type": "execute_result"
    }
   ],
   "source": [
    "y_os"
   ]
  },
  {
   "cell_type": "code",
   "execution_count": 118,
   "metadata": {},
   "outputs": [],
   "source": [
    "from sklearn.feature_extraction.text import TfidfVectorizer\n",
    "tfidf_vectorizer = TfidfVectorizer()\n",
    "tfidf_matrix = x_os"
   ]
  },
  {
   "cell_type": "code",
   "execution_count": 119,
   "metadata": {},
   "outputs": [
    {
     "data": {
      "text/plain": [
       "(10396, 5665)"
      ]
     },
     "execution_count": 119,
     "metadata": {},
     "output_type": "execute_result"
    }
   ],
   "source": [
    "tfidf_matrix.shape"
   ]
  },
  {
   "cell_type": "code",
   "execution_count": 120,
   "metadata": {},
   "outputs": [],
   "source": [
    "from sklearn.metrics.pairwise import cosine_similarity"
   ]
  },
  {
   "cell_type": "code",
   "execution_count": 153,
   "metadata": {},
   "outputs": [
    {
     "name": "stdout",
     "output_type": "stream",
     "text": [
      "[[1. 0. 0. ... 0. 0. 0.]]\n"
     ]
    }
   ],
   "source": [
    "print(cosine_similarity(tfidf_matrix[0:1],tfidf_matrix))"
   ]
  },
  {
   "cell_type": "code",
   "execution_count": 152,
   "metadata": {},
   "outputs": [
    {
     "name": "stdout",
     "output_type": "stream",
     "text": [
      "  (0, 2653)\t0.2636691312325886\n",
      "  (0, 3529)\t0.2724624340457963\n",
      "  (0, 1025)\t0.225138429085917\n",
      "  (0, 969)\t0.34759452871505675\n",
      "  (0, 1410)\t0.3310811513582668\n",
      "  (0, 1030)\t0.23832750622888815\n",
      "  (0, 3644)\t0.4659679511215852\n",
      "  (0, 758)\t0.4759769647903898\n",
      "  (0, 2080)\t0.2732006792294977\n",
      "  (1, 1085)\t0.21518452276825814\n",
      "  (1, 1684)\t0.2179030852157778\n",
      "  (1, 941)\t0.4543533377678474\n",
      "  (1, 1384)\t0.2262131057813874\n",
      "  (1, 113)\t0.21644695369339684\n",
      "  (1, 679)\t0.21973737461151102\n",
      "  (1, 118)\t0.22024855108158653\n",
      "  (1, 4375)\t0.5700847248351475\n",
      "  (1, 2043)\t0.3199711978328368\n",
      "  (1, 3)\t0.27853753624171057\n"
     ]
    }
   ],
   "source": [
    "print(tfidf_matrix[:2])"
   ]
  },
  {
   "cell_type": "code",
   "execution_count": 110,
   "metadata": {},
   "outputs": [],
   "source": [
    "from sklearn.feature_extraction.text import CountVectorizer\n",
    "\n",
    "from sklearn.feature_extraction.text import TfidfTransformer\n",
    "\n",
    "from nltk.corpus import stopwords\n",
    "\n",
    "import numpy as np\n",
    "\n",
    "import numpy.linalg as LA\n",
    "\n",
    "train_set = [\"front seat difficult\"] #Documents\n",
    "test_set = [\"front seat difficult use seat seat adjustment\"] #Query\n",
    "\n",
    "#stopWords = stopwords.words('english')\n",
    "\n",
    "vectorizer = CountVectorizer()\n",
    "\n",
    "#print vectorizer\n",
    "\n",
    "transformer = TfidfTransformer()\n",
    "\n",
    "#print transformer\n",
    "\n",
    "trainVectorizerArray = vectorizer.fit_transform(train_set).toarray()"
   ]
  },
  {
   "cell_type": "code",
   "execution_count": 116,
   "metadata": {},
   "outputs": [
    {
     "name": "stdout",
     "output_type": "stream",
     "text": [
      "Fit Vectorizer to train set [[1 1 1]]\n",
      "Transform Vectorizer to test set [[1 1 3]]\n",
      "[1 1 1]\n",
      "[1 1 3]\n",
      "0.87\n",
      "------------------\n",
      "[[0.57735027 0.57735027 0.57735027]]\n",
      "------------\n",
      "[[0.30151134 0.30151134 0.90453403]]\n"
     ]
    }
   ],
   "source": [
    "\n",
    "\n",
    "#print vectorizer\n",
    "\n",
    "transformer = TfidfTransformer()\n",
    "\n",
    "#print transformer\n",
    "\n",
    "trainVectorizerArray = vectorizer.fit_transform(train_set).toarray()\n",
    "\n",
    "testVectorizerArray = vectorizer.transform(test_set).toarray()\n",
    "\n",
    "print('Fit Vectorizer to train set', trainVectorizerArray)\n",
    "\n",
    "print('Transform Vectorizer to test set', testVectorizerArray)\n",
    "\n",
    "cx = lambda a, b : round(np.inner(a, b)/(LA.norm(a)*LA.norm(b)), 3)\n",
    "\n",
    "for vector in trainVectorizerArray:\n",
    "\n",
    "    print(vector)\n",
    "\n",
    "    for testV in testVectorizerArray:\n",
    "\n",
    "        print(testV)\n",
    "\n",
    "        cosine = cx(vector, testV)\n",
    "\n",
    "        print(cosine,)\n",
    "\n",
    "transformer.fit(trainVectorizerArray)\n",
    "\n",
    "print(\"------------------\")\n",
    "\n",
    "print(transformer.transform(trainVectorizerArray).toarray())\n",
    "\n",
    "\n",
    "\n",
    "print(\"------------\")\n",
    "\n",
    "tfidf = transformer.transform(testVectorizerArray)\n",
    "\n",
    "print(tfidf.todense())"
   ]
  },
  {
   "cell_type": "code",
   "execution_count": null,
   "metadata": {},
   "outputs": [],
   "source": []
  }
 ],
 "metadata": {
  "kernelspec": {
   "display_name": "Python 3",
   "language": "python",
   "name": "python3"
  },
  "language_info": {
   "codemirror_mode": {
    "name": "ipython",
    "version": 3
   },
   "file_extension": ".py",
   "mimetype": "text/x-python",
   "name": "python",
   "nbconvert_exporter": "python",
   "pygments_lexer": "ipython3",
   "version": "3.8.1"
  }
 },
 "nbformat": 4,
 "nbformat_minor": 4
}
